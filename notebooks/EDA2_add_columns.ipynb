{
 "cells": [
  {
   "cell_type": "markdown",
   "id": "27e08191",
   "metadata": {},
   "source": [
    "# use scripts/preprocessing to add columns!"
   ]
  },
  {
   "cell_type": "code",
   "execution_count": null,
   "id": "075f9cfe",
   "metadata": {},
   "outputs": [],
   "source": []
  },
  {
   "cell_type": "code",
   "execution_count": null,
   "id": "e050a715",
   "metadata": {},
   "outputs": [],
   "source": []
  },
  {
   "cell_type": "code",
   "execution_count": null,
   "id": "7b1bfcd6",
   "metadata": {},
   "outputs": [],
   "source": []
  },
  {
   "cell_type": "markdown",
   "id": "27721f88",
   "metadata": {},
   "source": [
    "# Imports"
   ]
  },
  {
   "cell_type": "code",
   "execution_count": 1,
   "id": "714b86e0",
   "metadata": {
    "ExecuteTime": {
     "end_time": "2024-11-20T15:50:14.315644Z",
     "start_time": "2024-11-20T15:50:12.609279Z"
    }
   },
   "outputs": [],
   "source": [
    "# standard imports\n",
    "import numpy as np\n",
    "import pandas as pd\n",
    "import matplotlib.pyplot as plt\n",
    "import seaborn as sns\n",
    "\n",
    "# magic lines\n",
    "%load_ext autoreload\n",
    "%autoreload 2\n",
    "%matplotlib inline"
   ]
  },
  {
   "cell_type": "code",
   "execution_count": 2,
   "id": "df9be188",
   "metadata": {
    "ExecuteTime": {
     "end_time": "2024-11-20T15:50:14.341543Z",
     "start_time": "2024-11-20T15:50:14.318547Z"
    }
   },
   "outputs": [],
   "source": [
    "import os\n",
    "import re"
   ]
  },
  {
   "cell_type": "code",
   "execution_count": null,
   "id": "4fbe3183",
   "metadata": {},
   "outputs": [],
   "source": []
  },
  {
   "cell_type": "markdown",
   "id": "8e257a9d",
   "metadata": {},
   "source": [
    "# Load data"
   ]
  },
  {
   "cell_type": "markdown",
   "id": "774e9679",
   "metadata": {},
   "source": [
    "## import get_data() from scripts"
   ]
  },
  {
   "cell_type": "code",
   "execution_count": 3,
   "id": "7d9f95cb",
   "metadata": {
    "ExecuteTime": {
     "end_time": "2024-11-20T15:50:14.452534Z",
     "start_time": "2024-11-20T15:50:14.344494Z"
    }
   },
   "outputs": [
    {
     "data": {
      "text/plain": [
       "['/home/louis/code/JammyNinja/Sandbox/Chess_analysis/notebooks',\n",
       " '/home/louis/code/lewagon/data/04-Decision-Science/01-Project-Setup/context-and-setup',\n",
       " '/home/louis/code/JammyNinja/Sandbox/Chess_analysis/notebooks',\n",
       " '/home/louis/.pyenv/versions/3.10.6/lib/python310.zip',\n",
       " '/home/louis/.pyenv/versions/3.10.6/lib/python3.10',\n",
       " '/home/louis/.pyenv/versions/3.10.6/lib/python3.10/lib-dynload',\n",
       " '',\n",
       " '/home/louis/.pyenv/versions/3.10.6/envs/lewagon/lib/python3.10/site-packages',\n",
       " '/home/louis/code/JammyNinja/Sandbox/Chess_analysis/scripts']"
      ]
     },
     "metadata": {},
     "output_type": "display_data"
    }
   ],
   "source": [
    "#import from my data.py\n",
    "#https://stackoverflow.com/a/57790804/6163759\n",
    "\n",
    "import sys,os\n",
    "module_path = os.path.abspath(os.path.join('..'))\n",
    "if module_path not in sys.path:\n",
    "    scripts_path = os.path.join(module_path, \"scripts\")\n",
    "    if scripts_path not in sys.path:\n",
    "        sys.path.append(scripts_path)\n",
    "    display(sys.path)\n",
    "    \n",
    "from data import get_data"
   ]
  },
  {
   "cell_type": "code",
   "execution_count": 4,
   "id": "c33b0a5e",
   "metadata": {
    "ExecuteTime": {
     "end_time": "2024-11-20T15:50:14.605085Z",
     "start_time": "2024-11-20T15:50:14.455457Z"
    }
   },
   "outputs": [
    {
     "name": "stdout",
     "output_type": "stream",
     "text": [
      "all_games_2023-01_to_2024-06_all_cols.csv\r\n",
      "all_games_2023-01_to_2024-06_raw.csv\r\n",
      "all_games_2023-01_to_2024-09_all_new_cols.csv\r\n",
      "all_games_2023-01_to_2024-09_raw.csv\r\n",
      "all_games_2023-01_to_2024-10_all_new_cols.csv\r\n",
      "all_games_2023-01_to_2024-10_raw.csv\r\n",
      "all_games_2023-01_to_2024-11_all_new_cols.csv\r\n",
      "all_games_2023-01_to_2024-11_raw.csv\r\n",
      "all_games_2024-04_to_2024-06_all_cols.csv\r\n",
      "all_games_2024-04_to_2024-06_raw.csv\r\n",
      "select_games_2023-01_to_2024-06_select_cols.csv\r\n",
      "select_games_2023-01_to_2024-09_select_cols.csv\r\n",
      "select_games_2023-01_to_2024-10_select_cols.csv\r\n",
      "select_games_2023-01_to_2024-11_select_cols.csv\r\n",
      "select_games_2024-04_to_2024-06_select_cols.csv\r\n"
     ]
    }
   ],
   "source": [
    "! ls ../data"
   ]
  },
  {
   "cell_type": "code",
   "execution_count": 5,
   "id": "f41d909e",
   "metadata": {
    "ExecuteTime": {
     "end_time": "2024-11-20T15:50:14.631619Z",
     "start_time": "2024-11-20T15:50:14.608817Z"
    }
   },
   "outputs": [],
   "source": [
    "#ye olde waye\n",
    "# filename = \"all_games_df_2023-01_to_2024-05.csv\"\n",
    "# filename = \"all_games_2023-01_to_2024-06_all_cols.csv\"\n",
    "# filepath = os.path.join(\"..\",\"data\", filename)\n",
    "# all_games_df_raw = pd.read_csv(filepath)"
   ]
  },
  {
   "cell_type": "code",
   "execution_count": null,
   "id": "4d4d8897",
   "metadata": {},
   "outputs": [],
   "source": []
  },
  {
   "cell_type": "code",
   "execution_count": 6,
   "id": "03f39f1f",
   "metadata": {
    "ExecuteTime": {
     "end_time": "2024-11-20T15:50:16.354249Z",
     "start_time": "2024-11-20T15:50:14.633964Z"
    }
   },
   "outputs": [
    {
     "name": "stdout",
     "output_type": "stream",
     "text": [
      "Looking for all games of chess played on Chess.com by JammyNinja\n",
      "          between 2023-01 and 2024-11\n",
      "file /home/louis/code/JammyNinja/Sandbox/Chess_analysis/data/all_games_2023-01_to_2024-11_raw.csv already exists!\n",
      "Do you want to download all games again?\n",
      ">>(Have you played more since last running this?)\n",
      "y/n:n\n"
     ]
    }
   ],
   "source": [
    "all_games_df_raw = get_data(df_name=\"all_games\", descriptor=\"raw\")"
   ]
  },
  {
   "cell_type": "code",
   "execution_count": 7,
   "id": "d6d4a21f",
   "metadata": {
    "ExecuteTime": {
     "end_time": "2024-11-20T15:50:16.381715Z",
     "start_time": "2024-11-20T15:50:16.357551Z"
    }
   },
   "outputs": [
    {
     "data": {
      "text/plain": [
       "pandas.core.frame.DataFrame"
      ]
     },
     "execution_count": 7,
     "metadata": {},
     "output_type": "execute_result"
    }
   ],
   "source": [
    "type(all_games_df_raw)"
   ]
  },
  {
   "cell_type": "code",
   "execution_count": 8,
   "id": "c64bcd42",
   "metadata": {
    "ExecuteTime": {
     "end_time": "2024-11-20T15:50:17.727757Z",
     "start_time": "2024-11-20T15:50:16.384718Z"
    }
   },
   "outputs": [
    {
     "name": "stdout",
     "output_type": "stream",
     "text": [
      "Created win/rating columns:\n",
      "- higher_rated_colour\n",
      "- winner\n",
      "- winner_rating_diff\n",
      "- user_rating_diff\n",
      "- user_rating\n",
      "- user_win\n",
      "- user_colour\n",
      "Created moves columns:\n",
      "- move_numbers\n",
      "- white_moves\n",
      "- white_clock\n",
      "- black_moves\n",
      "- black_clock\n",
      "- w_cstl_side\n",
      "- w_cstl_move\n",
      "- b_cstl_side\n",
      "- b_cstl_move\n",
      "Created final position columns:\n",
      "- winner_ttl_pieces_count\n",
      "- loser_ttl_pieces_count\n",
      "- winner_pawns_count\n",
      "- loser_pawns_count\n",
      "- winner_pieces_only_count\n",
      "- loser_pieces_only_count\n",
      "- pieces_count_diff\n",
      "- pawns_count_diff\n",
      "- winner_material_ttl\n",
      "- loser_material_ttl\n",
      "- winner_pcs\n",
      "- loser_pcs\n",
      "Created castling columns:\n",
      "- user_castled\n",
      "- opp_castled\n",
      "\n",
      "Started with:\n",
      "- date\n",
      "- start_time\n",
      "- end_time\n",
      "- time_class\n",
      "- time_control\n",
      "- rated\n",
      "- rules\n",
      "- url\n",
      "- moves\n",
      "- final_position_fen\n",
      "- opening_code\n",
      "- opening_name\n",
      "- white_username\n",
      "- black_username\n",
      "- result\n",
      "- white_rating\n",
      "- black_rating\n",
      "- white_result\n",
      "- black_result\n",
      "file /home/louis/code/JammyNinja/Sandbox/Chess_analysis/data/all_games_2023-01_to_2024-11_all_new_cols.csv already exists, NOT saving!\n"
     ]
    }
   ],
   "source": [
    "from preprocessing import preprocess\n",
    "test_preproc = preprocess(all_games_df_raw)"
   ]
  },
  {
   "cell_type": "raw",
   "id": "60a0b309",
   "metadata": {
    "ExecuteTime": {
     "end_time": "2024-11-20T15:50:36.580859Z",
     "start_time": "2024-11-20T15:50:36.559249Z"
    }
   },
   "source": [
    "test_preproc.columns"
   ]
  },
  {
   "cell_type": "code",
   "execution_count": 7,
   "id": "e7cbdbaa",
   "metadata": {
    "ExecuteTime": {
     "end_time": "2024-11-07T18:22:32.699194Z",
     "start_time": "2024-11-07T18:22:32.644158Z"
    }
   },
   "outputs": [],
   "source": [
    "X = all_games_df_raw.copy()"
   ]
  },
  {
   "cell_type": "code",
   "execution_count": 8,
   "id": "6b082b19",
   "metadata": {
    "ExecuteTime": {
     "end_time": "2024-11-07T18:22:32.827163Z",
     "start_time": "2024-11-07T18:22:32.706451Z"
    }
   },
   "outputs": [
    {
     "data": {
      "text/html": [
       "<div>\n",
       "<style scoped>\n",
       "    .dataframe tbody tr th:only-of-type {\n",
       "        vertical-align: middle;\n",
       "    }\n",
       "\n",
       "    .dataframe tbody tr th {\n",
       "        vertical-align: top;\n",
       "    }\n",
       "\n",
       "    .dataframe thead th {\n",
       "        text-align: right;\n",
       "    }\n",
       "</style>\n",
       "<table border=\"1\" class=\"dataframe\">\n",
       "  <thead>\n",
       "    <tr style=\"text-align: right;\">\n",
       "      <th></th>\n",
       "      <th>date</th>\n",
       "      <th>start_time</th>\n",
       "      <th>end_time</th>\n",
       "      <th>time_class</th>\n",
       "      <th>time_control</th>\n",
       "      <th>rated</th>\n",
       "      <th>rules</th>\n",
       "      <th>url</th>\n",
       "      <th>moves</th>\n",
       "      <th>final_position_fen</th>\n",
       "      <th>opening_code</th>\n",
       "      <th>opening_name</th>\n",
       "      <th>white_username</th>\n",
       "      <th>black_username</th>\n",
       "      <th>result</th>\n",
       "      <th>white_rating</th>\n",
       "      <th>black_rating</th>\n",
       "      <th>white_result</th>\n",
       "      <th>black_result</th>\n",
       "    </tr>\n",
       "  </thead>\n",
       "  <tbody>\n",
       "    <tr>\n",
       "      <th>0</th>\n",
       "      <td>2023-01-07</td>\n",
       "      <td>2023-01-07 08:17:06</td>\n",
       "      <td>2023-01-07 14:35:53</td>\n",
       "      <td>daily</td>\n",
       "      <td>1/604800</td>\n",
       "      <td>True</td>\n",
       "      <td>chess</td>\n",
       "      <td>https://www.chess.com/game/daily/437377841</td>\n",
       "      <td>1. e4 {[%clk 0:56:50.2] 1... c6 {[%clk 0:27:49...</td>\n",
       "      <td>2r1k2r/pp3ppp/q7/4pb2/1b1P4/1P2B3/1P3PPP/K2R2N...</td>\n",
       "      <td>B10</td>\n",
       "      <td>Caro-Kann-Defense-Hillbilly-Attack-2...d5</td>\n",
       "      <td>sylvainau</td>\n",
       "      <td>JammyNinja</td>\n",
       "      <td>0-1</td>\n",
       "      <td>1298</td>\n",
       "      <td>1461</td>\n",
       "      <td>checkmated</td>\n",
       "      <td>win</td>\n",
       "    </tr>\n",
       "    <tr>\n",
       "      <th>1</th>\n",
       "      <td>2023-01-14</td>\n",
       "      <td>2023-01-14 11:34:48</td>\n",
       "      <td>2023-01-14 15:09:28</td>\n",
       "      <td>daily</td>\n",
       "      <td>1/604800</td>\n",
       "      <td>True</td>\n",
       "      <td>chess</td>\n",
       "      <td>https://www.chess.com/game/daily/448245095</td>\n",
       "      <td>1. e4 {[%clk 0:02:24.3] 1... c5 {[%clk 0:15:39...</td>\n",
       "      <td>r2qr3/1b2bpkp/p2p1n2/1p4B1/3Q4/2P2N2/PP3PPP/3R...</td>\n",
       "      <td>B22</td>\n",
       "      <td>Alapin-Sicilian-Defense-2...Nc6-3.d4</td>\n",
       "      <td>JammyNinja</td>\n",
       "      <td>Timkee</td>\n",
       "      <td>0-1</td>\n",
       "      <td>1429</td>\n",
       "      <td>1234</td>\n",
       "      <td>timeout</td>\n",
       "      <td>win</td>\n",
       "    </tr>\n",
       "    <tr>\n",
       "      <th>2</th>\n",
       "      <td>2023-01-30</td>\n",
       "      <td>2023-01-30 17:32:36</td>\n",
       "      <td>2023-01-30 07:50:02</td>\n",
       "      <td>daily</td>\n",
       "      <td>1/604800</td>\n",
       "      <td>True</td>\n",
       "      <td>chess</td>\n",
       "      <td>https://www.chess.com/game/daily/436095119</td>\n",
       "      <td>1. e4 {[%clk 0:02:06.5] 1... c6 {[%clk 0:27:48...</td>\n",
       "      <td>rr4k1/3n2pp/2p2p2/p2pp3/P7/1P5P/1RPPNPP1/5RK1 ...</td>\n",
       "      <td>B10</td>\n",
       "      <td>Caro-Kann-Defense-2.Nf3-d5-3.exd5-cxd5</td>\n",
       "      <td>ELNAHAS4</td>\n",
       "      <td>JammyNinja</td>\n",
       "      <td>0-1</td>\n",
       "      <td>1427</td>\n",
       "      <td>1449</td>\n",
       "      <td>timeout</td>\n",
       "      <td>win</td>\n",
       "    </tr>\n",
       "    <tr>\n",
       "      <th>3</th>\n",
       "      <td>2023-01-30</td>\n",
       "      <td>2023-01-30 21:29:25</td>\n",
       "      <td>2023-01-30 21:39:52</td>\n",
       "      <td>blitz</td>\n",
       "      <td>300</td>\n",
       "      <td>True</td>\n",
       "      <td>chess</td>\n",
       "      <td>https://www.chess.com/game/live/68853253455</td>\n",
       "      <td>1. Nf3 {[%clk 0:04:54.9] 1... d5 {[%clk 0:04:5...</td>\n",
       "      <td>8/8/4K3/8/8/8/4Q3/6k1 b - -</td>\n",
       "      <td>A09</td>\n",
       "      <td>Reti-Opening-Reti-Gambit-Accepted</td>\n",
       "      <td>ivangard57</td>\n",
       "      <td>JammyNinja</td>\n",
       "      <td>1-0</td>\n",
       "      <td>1022</td>\n",
       "      <td>1030</td>\n",
       "      <td>win</td>\n",
       "      <td>timeout</td>\n",
       "    </tr>\n",
       "    <tr>\n",
       "      <th>4</th>\n",
       "      <td>2023-02-07</td>\n",
       "      <td>2023-02-07 20:18:19</td>\n",
       "      <td>2023-02-07 19:25:50</td>\n",
       "      <td>daily</td>\n",
       "      <td>1/604800</td>\n",
       "      <td>True</td>\n",
       "      <td>chess</td>\n",
       "      <td>https://www.chess.com/game/daily/472634081</td>\n",
       "      <td>1. c4 {[%clk 0:18:46.2] 1... e5 {[%clk 4:14:19...</td>\n",
       "      <td>rnbqk1nr/pppp1ppp/8/2b1p3/2P5/2N2P2/PP1PP1PP/R...</td>\n",
       "      <td>A21</td>\n",
       "      <td>English-Opening-Reversed-Sicilian-Variation</td>\n",
       "      <td>ajbouchie</td>\n",
       "      <td>JammyNinja</td>\n",
       "      <td>1/2-1/2</td>\n",
       "      <td>1584</td>\n",
       "      <td>1449</td>\n",
       "      <td>agreed</td>\n",
       "      <td>agreed</td>\n",
       "    </tr>\n",
       "    <tr>\n",
       "      <th>...</th>\n",
       "      <td>...</td>\n",
       "      <td>...</td>\n",
       "      <td>...</td>\n",
       "      <td>...</td>\n",
       "      <td>...</td>\n",
       "      <td>...</td>\n",
       "      <td>...</td>\n",
       "      <td>...</td>\n",
       "      <td>...</td>\n",
       "      <td>...</td>\n",
       "      <td>...</td>\n",
       "      <td>...</td>\n",
       "      <td>...</td>\n",
       "      <td>...</td>\n",
       "      <td>...</td>\n",
       "      <td>...</td>\n",
       "      <td>...</td>\n",
       "      <td>...</td>\n",
       "      <td>...</td>\n",
       "    </tr>\n",
       "    <tr>\n",
       "      <th>4539</th>\n",
       "      <td>2024-11-05</td>\n",
       "      <td>2024-11-05 14:52:33</td>\n",
       "      <td>2024-11-05 14:54:37</td>\n",
       "      <td>bullet</td>\n",
       "      <td>60</td>\n",
       "      <td>True</td>\n",
       "      <td>chess</td>\n",
       "      <td>https://www.chess.com/game/live/124557516553</td>\n",
       "      <td>1. e4 {[%clk 0:01:00] 1... e5 {[%clk 0:01:00] ...</td>\n",
       "      <td>8/pp4p1/2n5/5k2/3p1B1p/P2P1P2/2P2KP1/6N1 w - -</td>\n",
       "      <td>C26</td>\n",
       "      <td>Vienna-Game-Falkbeer-Variation</td>\n",
       "      <td>JammyNinja</td>\n",
       "      <td>Aakula22</td>\n",
       "      <td>0-1</td>\n",
       "      <td>1349</td>\n",
       "      <td>1370</td>\n",
       "      <td>timeout</td>\n",
       "      <td>win</td>\n",
       "    </tr>\n",
       "    <tr>\n",
       "      <th>4540</th>\n",
       "      <td>2024-11-05</td>\n",
       "      <td>2024-11-05 14:54:40</td>\n",
       "      <td>2024-11-05 14:56:44</td>\n",
       "      <td>bullet</td>\n",
       "      <td>60</td>\n",
       "      <td>True</td>\n",
       "      <td>chess</td>\n",
       "      <td>https://www.chess.com/game/live/124557542239</td>\n",
       "      <td>1. e4 {[%clk 0:01:00] 1... d5 {[%clk 0:01:00] ...</td>\n",
       "      <td>8/4RN2/7p/8/5R2/7P/P1r2kPK/8 b - -</td>\n",
       "      <td>B01</td>\n",
       "      <td>Scandinavian-Defense-Mieses-Kotrc-Variation......</td>\n",
       "      <td>Aakula22</td>\n",
       "      <td>JammyNinja</td>\n",
       "      <td>1-0</td>\n",
       "      <td>1378</td>\n",
       "      <td>1341</td>\n",
       "      <td>win</td>\n",
       "      <td>checkmated</td>\n",
       "    </tr>\n",
       "    <tr>\n",
       "      <th>4541</th>\n",
       "      <td>2024-11-05</td>\n",
       "      <td>2024-11-05 14:56:47</td>\n",
       "      <td>2024-11-05 14:59:00</td>\n",
       "      <td>bullet</td>\n",
       "      <td>60</td>\n",
       "      <td>True</td>\n",
       "      <td>chess</td>\n",
       "      <td>https://www.chess.com/game/live/124557568389</td>\n",
       "      <td>1. e4 {[%clk 0:01:00] 1... e5 {[%clk 0:00:59.9...</td>\n",
       "      <td>6r1/1qkr4/2pp4/8/7P/P3p2K/1P4P1/2R5 b - -</td>\n",
       "      <td>C26</td>\n",
       "      <td>Vienna-Game-Falkbeer-Stanley-Variation-3...Bc5</td>\n",
       "      <td>JammyNinja</td>\n",
       "      <td>Aakula22</td>\n",
       "      <td>1-0</td>\n",
       "      <td>1350</td>\n",
       "      <td>1369</td>\n",
       "      <td>win</td>\n",
       "      <td>timeout</td>\n",
       "    </tr>\n",
       "    <tr>\n",
       "      <th>4542</th>\n",
       "      <td>2024-11-05</td>\n",
       "      <td>2024-11-05 14:59:05</td>\n",
       "      <td>2024-11-05 14:59:42</td>\n",
       "      <td>bullet</td>\n",
       "      <td>60</td>\n",
       "      <td>True</td>\n",
       "      <td>chess</td>\n",
       "      <td>https://www.chess.com/game/live/124557596139</td>\n",
       "      <td>1. e4 {[%clk 0:01:00] 1... d5 {[%clk 0:01:00] ...</td>\n",
       "      <td>r3k2r/pp1nQpb1/2p2pbp/8/3P4/3B1NN1/qPP2PPP/2KR...</td>\n",
       "      <td>D00</td>\n",
       "      <td>Queens-Pawn-Opening-Blackmar-Diemer-von-Popiel...</td>\n",
       "      <td>Aakula22</td>\n",
       "      <td>JammyNinja</td>\n",
       "      <td>1-0</td>\n",
       "      <td>1377</td>\n",
       "      <td>1342</td>\n",
       "      <td>win</td>\n",
       "      <td>checkmated</td>\n",
       "    </tr>\n",
       "    <tr>\n",
       "      <th>4543</th>\n",
       "      <td>2024-11-05</td>\n",
       "      <td>2024-11-05 15:00:05</td>\n",
       "      <td>2024-11-05 15:02:08</td>\n",
       "      <td>bullet</td>\n",
       "      <td>60</td>\n",
       "      <td>True</td>\n",
       "      <td>chess</td>\n",
       "      <td>https://www.chess.com/game/live/124557608263</td>\n",
       "      <td>1. e4 {[%clk 0:01:00] 1... c5 {[%clk 0:01:00] ...</td>\n",
       "      <td>3Q4/p5pp/8/4np2/3R1k2/P1P5/1P3PPP/6K1 b - -</td>\n",
       "      <td>B30</td>\n",
       "      <td>Sicilian-Defense-Nyezhmetdinov-Rossolimo-Attac...</td>\n",
       "      <td>JammyNinja</td>\n",
       "      <td>apolon776</td>\n",
       "      <td>1-0</td>\n",
       "      <td>1350</td>\n",
       "      <td>1353</td>\n",
       "      <td>win</td>\n",
       "      <td>checkmated</td>\n",
       "    </tr>\n",
       "  </tbody>\n",
       "</table>\n",
       "<p>4544 rows × 19 columns</p>\n",
       "</div>"
      ],
      "text/plain": [
       "            date           start_time             end_time time_class  \\\n",
       "0     2023-01-07  2023-01-07 08:17:06  2023-01-07 14:35:53      daily   \n",
       "1     2023-01-14  2023-01-14 11:34:48  2023-01-14 15:09:28      daily   \n",
       "2     2023-01-30  2023-01-30 17:32:36  2023-01-30 07:50:02      daily   \n",
       "3     2023-01-30  2023-01-30 21:29:25  2023-01-30 21:39:52      blitz   \n",
       "4     2023-02-07  2023-02-07 20:18:19  2023-02-07 19:25:50      daily   \n",
       "...          ...                  ...                  ...        ...   \n",
       "4539  2024-11-05  2024-11-05 14:52:33  2024-11-05 14:54:37     bullet   \n",
       "4540  2024-11-05  2024-11-05 14:54:40  2024-11-05 14:56:44     bullet   \n",
       "4541  2024-11-05  2024-11-05 14:56:47  2024-11-05 14:59:00     bullet   \n",
       "4542  2024-11-05  2024-11-05 14:59:05  2024-11-05 14:59:42     bullet   \n",
       "4543  2024-11-05  2024-11-05 15:00:05  2024-11-05 15:02:08     bullet   \n",
       "\n",
       "     time_control  rated  rules                                           url  \\\n",
       "0        1/604800   True  chess    https://www.chess.com/game/daily/437377841   \n",
       "1        1/604800   True  chess    https://www.chess.com/game/daily/448245095   \n",
       "2        1/604800   True  chess    https://www.chess.com/game/daily/436095119   \n",
       "3             300   True  chess   https://www.chess.com/game/live/68853253455   \n",
       "4        1/604800   True  chess    https://www.chess.com/game/daily/472634081   \n",
       "...           ...    ...    ...                                           ...   \n",
       "4539           60   True  chess  https://www.chess.com/game/live/124557516553   \n",
       "4540           60   True  chess  https://www.chess.com/game/live/124557542239   \n",
       "4541           60   True  chess  https://www.chess.com/game/live/124557568389   \n",
       "4542           60   True  chess  https://www.chess.com/game/live/124557596139   \n",
       "4543           60   True  chess  https://www.chess.com/game/live/124557608263   \n",
       "\n",
       "                                                  moves  \\\n",
       "0     1. e4 {[%clk 0:56:50.2] 1... c6 {[%clk 0:27:49...   \n",
       "1     1. e4 {[%clk 0:02:24.3] 1... c5 {[%clk 0:15:39...   \n",
       "2     1. e4 {[%clk 0:02:06.5] 1... c6 {[%clk 0:27:48...   \n",
       "3     1. Nf3 {[%clk 0:04:54.9] 1... d5 {[%clk 0:04:5...   \n",
       "4     1. c4 {[%clk 0:18:46.2] 1... e5 {[%clk 4:14:19...   \n",
       "...                                                 ...   \n",
       "4539  1. e4 {[%clk 0:01:00] 1... e5 {[%clk 0:01:00] ...   \n",
       "4540  1. e4 {[%clk 0:01:00] 1... d5 {[%clk 0:01:00] ...   \n",
       "4541  1. e4 {[%clk 0:01:00] 1... e5 {[%clk 0:00:59.9...   \n",
       "4542  1. e4 {[%clk 0:01:00] 1... d5 {[%clk 0:01:00] ...   \n",
       "4543  1. e4 {[%clk 0:01:00] 1... c5 {[%clk 0:01:00] ...   \n",
       "\n",
       "                                     final_position_fen opening_code  \\\n",
       "0     2r1k2r/pp3ppp/q7/4pb2/1b1P4/1P2B3/1P3PPP/K2R2N...          B10   \n",
       "1     r2qr3/1b2bpkp/p2p1n2/1p4B1/3Q4/2P2N2/PP3PPP/3R...          B22   \n",
       "2     rr4k1/3n2pp/2p2p2/p2pp3/P7/1P5P/1RPPNPP1/5RK1 ...          B10   \n",
       "3                           8/8/4K3/8/8/8/4Q3/6k1 b - -          A09   \n",
       "4     rnbqk1nr/pppp1ppp/8/2b1p3/2P5/2N2P2/PP1PP1PP/R...          A21   \n",
       "...                                                 ...          ...   \n",
       "4539     8/pp4p1/2n5/5k2/3p1B1p/P2P1P2/2P2KP1/6N1 w - -          C26   \n",
       "4540                 8/4RN2/7p/8/5R2/7P/P1r2kPK/8 b - -          B01   \n",
       "4541          6r1/1qkr4/2pp4/8/7P/P3p2K/1P4P1/2R5 b - -          C26   \n",
       "4542  r3k2r/pp1nQpb1/2p2pbp/8/3P4/3B1NN1/qPP2PPP/2KR...          D00   \n",
       "4543        3Q4/p5pp/8/4np2/3R1k2/P1P5/1P3PPP/6K1 b - -          B30   \n",
       "\n",
       "                                           opening_name white_username  \\\n",
       "0             Caro-Kann-Defense-Hillbilly-Attack-2...d5      sylvainau   \n",
       "1                  Alapin-Sicilian-Defense-2...Nc6-3.d4     JammyNinja   \n",
       "2                Caro-Kann-Defense-2.Nf3-d5-3.exd5-cxd5       ELNAHAS4   \n",
       "3                     Reti-Opening-Reti-Gambit-Accepted     ivangard57   \n",
       "4           English-Opening-Reversed-Sicilian-Variation      ajbouchie   \n",
       "...                                                 ...            ...   \n",
       "4539                     Vienna-Game-Falkbeer-Variation     JammyNinja   \n",
       "4540  Scandinavian-Defense-Mieses-Kotrc-Variation......       Aakula22   \n",
       "4541     Vienna-Game-Falkbeer-Stanley-Variation-3...Bc5     JammyNinja   \n",
       "4542  Queens-Pawn-Opening-Blackmar-Diemer-von-Popiel...       Aakula22   \n",
       "4543  Sicilian-Defense-Nyezhmetdinov-Rossolimo-Attac...     JammyNinja   \n",
       "\n",
       "     black_username   result  white_rating  black_rating white_result  \\\n",
       "0        JammyNinja      0-1          1298          1461   checkmated   \n",
       "1            Timkee      0-1          1429          1234      timeout   \n",
       "2        JammyNinja      0-1          1427          1449      timeout   \n",
       "3        JammyNinja      1-0          1022          1030          win   \n",
       "4        JammyNinja  1/2-1/2          1584          1449       agreed   \n",
       "...             ...      ...           ...           ...          ...   \n",
       "4539       Aakula22      0-1          1349          1370      timeout   \n",
       "4540     JammyNinja      1-0          1378          1341          win   \n",
       "4541       Aakula22      1-0          1350          1369          win   \n",
       "4542     JammyNinja      1-0          1377          1342          win   \n",
       "4543      apolon776      1-0          1350          1353          win   \n",
       "\n",
       "     black_result  \n",
       "0             win  \n",
       "1             win  \n",
       "2             win  \n",
       "3         timeout  \n",
       "4          agreed  \n",
       "...           ...  \n",
       "4539          win  \n",
       "4540   checkmated  \n",
       "4541      timeout  \n",
       "4542   checkmated  \n",
       "4543   checkmated  \n",
       "\n",
       "[4544 rows x 19 columns]"
      ]
     },
     "execution_count": 8,
     "metadata": {},
     "output_type": "execute_result"
    }
   ],
   "source": [
    "all_games_df_raw"
   ]
  },
  {
   "cell_type": "code",
   "execution_count": 9,
   "id": "18d3b1f2",
   "metadata": {
    "ExecuteTime": {
     "end_time": "2024-11-07T18:22:32.912682Z",
     "start_time": "2024-11-07T18:22:32.835546Z"
    }
   },
   "outputs": [
    {
     "data": {
      "text/plain": [
       "date                                                         2023-09-13\n",
       "start_time                                          2023-09-13 19:47:02\n",
       "end_time                                            2023-09-13 19:48:51\n",
       "time_class                                                       bullet\n",
       "time_control                                                       60+1\n",
       "rated                                                              True\n",
       "rules                                                             chess\n",
       "url                         https://www.chess.com/game/live/88373428625\n",
       "moves                 1. e4 {[%clk 0:01:01] 1... e5 {[%clk 0:01:01] ...\n",
       "final_position_fen    2kr3r/1pp1q1pp/p1n2n2/2b1p3/4p3/1BN5/PPPPQPPP/...\n",
       "opening_code                                                        C47\n",
       "opening_name                        Four-Knights-Game-Italian-Variation\n",
       "white_username                                               JammyNinja\n",
       "black_username                                                indiano13\n",
       "result                                                              1-0\n",
       "white_rating                                                       1082\n",
       "black_rating                                                        277\n",
       "white_result                                                        win\n",
       "black_result                                                    timeout\n",
       "Name: 39, dtype: object"
      ]
     },
     "execution_count": 9,
     "metadata": {},
     "output_type": "execute_result"
    }
   ],
   "source": [
    "test_game = all_games_df_raw.query(\"time_class == 'bullet'\").iloc[1]\n",
    "# test_moves = test_game[\"moves\"]\n",
    "test_game"
   ]
  },
  {
   "cell_type": "markdown",
   "id": "3439c51c",
   "metadata": {},
   "source": [
    "# Add new columns"
   ]
  },
  {
   "cell_type": "code",
   "execution_count": 10,
   "id": "670ba359",
   "metadata": {
    "ExecuteTime": {
     "end_time": "2024-11-07T18:22:33.006049Z",
     "start_time": "2024-11-07T18:22:32.920230Z"
    },
    "scrolled": true
   },
   "outputs": [
    {
     "data": {
      "text/plain": [
       "{'move_numbers': ['1.',\n",
       "  '2.',\n",
       "  '3.',\n",
       "  '4.',\n",
       "  '5.',\n",
       "  '6.',\n",
       "  '7.',\n",
       "  '8.',\n",
       "  '9.',\n",
       "  '10.',\n",
       "  '11.',\n",
       "  '12.'],\n",
       " 'white_moves': ['e4',\n",
       "  'Nf3',\n",
       "  'Nc3',\n",
       "  'Bc4',\n",
       "  'Bb3',\n",
       "  'Ng5',\n",
       "  'Nxe6',\n",
       "  'Bxe6',\n",
       "  'Qe2',\n",
       "  'Bb3',\n",
       "  'Qb5',\n",
       "  'Qe2'],\n",
       " 'white_clock': ['0:01:01',\n",
       "  '0:01:00.2',\n",
       "  '0:00:57.9',\n",
       "  '0:00:57.3',\n",
       "  '0:00:56.3',\n",
       "  '0:00:49.1',\n",
       "  '0:00:48.5',\n",
       "  '0:00:48.5',\n",
       "  '0:00:46.3',\n",
       "  '0:00:43.9',\n",
       "  '0:00:43',\n",
       "  '0:00:40.7'],\n",
       " 'black_moves': ['e5',\n",
       "  'Nf6',\n",
       "  'Nc6',\n",
       "  'd5',\n",
       "  'dxe4',\n",
       "  'Be6',\n",
       "  'fxe6',\n",
       "  'Bc5',\n",
       "  'Qe7',\n",
       "  'O-O-O',\n",
       "  'a6',\n",
       "  nan],\n",
       " 'black_clock': ['0:01:01',\n",
       "  '0:01:00.3',\n",
       "  '0:00:58.3',\n",
       "  '0:00:50.9',\n",
       "  '0:00:47.5',\n",
       "  '0:00:34.6',\n",
       "  '0:00:33.6',\n",
       "  '0:00:30.1',\n",
       "  '0:00:26.2',\n",
       "  '0:00:11.1',\n",
       "  '0:00:05.5',\n",
       "  nan],\n",
       " 'w_cstl_side': nan,\n",
       " 'w_cstl_move': 0,\n",
       " 'b_cstl_side': 'Queen',\n",
       " 'b_cstl_move': 10}"
      ]
     },
     "execution_count": 10,
     "metadata": {},
     "output_type": "execute_result"
    }
   ],
   "source": [
    "def process_moves(row):\n",
    "    \"\"\"\n",
    "        Looks at 'moves' column which is pgn string, extracts each players moves and when they castled\n",
    "        ['move_numbers', 'white_moves', 'white_clock', 'black_moves', 'black_clock', \n",
    "        'w_cstl_side', 'w_cstl_move', 'b_cstl_side', 'b_cstl_move']\n",
    "    \"\"\"\n",
    "    #.apply() complained that it was float when didn't manually convert to string?\n",
    "    moves = str(row[\"moves\"])\n",
    "    moves = moves.replace(\"{\",\"\")\n",
    "\n",
    "    move_nums = moves.split()[::8]\n",
    "    white_moves = moves.split()[1::8]\n",
    "    black_moves = moves.split()[5::8]      \n",
    "    \n",
    "    white_clock = [m[:-1] for m in moves.split()[3::8] ]\n",
    "    black_clock = [m[:-1] for m in moves.split()[7::8] ]\n",
    "     \n",
    "    if len(black_moves) < len(white_moves):\n",
    "        black_moves.append(np.nan)\n",
    "        black_clock.append(np.nan)\n",
    "    \n",
    "    #deal with castling\n",
    "    w_castled, w_castled_side = 0,np.nan\n",
    "    b_castled, b_castled_side = 0, np.nan\n",
    "    \n",
    "    for move_num, w_move, b_move in zip(move_nums, white_moves, black_moves):\n",
    "        move_num = int(move_num[:-1]) #7. -> 7\n",
    "        \n",
    "        if w_move == \"O-O\":\n",
    "            w_castled_side = \"King\"\n",
    "            w_castled = move_num\n",
    "        elif w_move == \"O-O-O\":\n",
    "            w_castled_side = \"Queen\"\n",
    "            w_castled = move_num\n",
    "            \n",
    "        if b_move == \"O-O\":\n",
    "            b_castled_side = \"King\"\n",
    "            b_castled = move_num\n",
    "        elif b_move == \"O-O-O\":\n",
    "            b_castled_side = \"Queen\"\n",
    "            b_castled = move_num\n",
    "            \n",
    "#     print(f\"white castled {w_castled_side} side on move {w_castled}\")\n",
    "#     print(f\"black castled {b_castled_side} side on move {b_castled}\")\n",
    "    \n",
    "    df_dict = {\n",
    "        \"move_numbers\" : move_nums,\n",
    "        \"white_moves\"  : white_moves,\n",
    "        \"white_clock\" : white_clock,\n",
    "        \"black_moves\"  : black_moves,\n",
    "        \"black_clock\" : black_clock,\n",
    "        \n",
    "        \"w_cstl_side\" : w_castled_side,\n",
    "        \"w_cstl_move\" : w_castled,        \n",
    "        \"b_cstl_side\" : b_castled_side,\n",
    "        \"b_cstl_move\" : b_castled\n",
    "    }\n",
    "    \n",
    "    return df_dict\n",
    "    \n",
    "process_moves(test_game)"
   ]
  },
  {
   "cell_type": "markdown",
   "id": "44f1937b",
   "metadata": {},
   "source": [
    "## pipeline test"
   ]
  },
  {
   "cell_type": "code",
   "execution_count": 11,
   "id": "321190f7",
   "metadata": {
    "ExecuteTime": {
     "end_time": "2024-11-07T18:22:33.927784Z",
     "start_time": "2024-11-07T18:22:33.016640Z"
    }
   },
   "outputs": [],
   "source": [
    "# Pipelines\n",
    "from sklearn.pipeline import Pipeline, make_pipeline, FeatureUnion, make_union\n",
    "from sklearn.compose import ColumnTransformer, make_column_transformer, make_column_selector\n",
    "from sklearn.preprocessing import FunctionTransformer\n",
    "from sklearn.model_selection import GridSearchCV,RandomizedSearchCV\n",
    "\n",
    "from sklearn.model_selection import train_test_split\n",
    "from imblearn.over_sampling import SMOTE\n",
    "from sklearn.datasets import make_regression, make_classification, make_multilabel_classification, make_blobs\n",
    "import pickle"
   ]
  },
  {
   "cell_type": "code",
   "execution_count": 45,
   "id": "aeb2532c",
   "metadata": {
    "ExecuteTime": {
     "end_time": "2024-11-07T18:40:37.404154Z",
     "start_time": "2024-11-07T18:40:37.325015Z"
    }
   },
   "outputs": [
    {
     "data": {
      "text/html": [
       "<div>\n",
       "<style scoped>\n",
       "    .dataframe tbody tr th:only-of-type {\n",
       "        vertical-align: middle;\n",
       "    }\n",
       "\n",
       "    .dataframe tbody tr th {\n",
       "        vertical-align: top;\n",
       "    }\n",
       "\n",
       "    .dataframe thead th {\n",
       "        text-align: right;\n",
       "    }\n",
       "</style>\n",
       "<table border=\"1\" class=\"dataframe\">\n",
       "  <thead>\n",
       "    <tr style=\"text-align: right;\">\n",
       "      <th></th>\n",
       "      <th>move_numbers</th>\n",
       "      <th>white_moves</th>\n",
       "      <th>white_clock</th>\n",
       "      <th>black_moves</th>\n",
       "      <th>black_clock</th>\n",
       "      <th>w_cstl_side</th>\n",
       "      <th>w_cstl_move</th>\n",
       "      <th>b_cstl_side</th>\n",
       "      <th>b_cstl_move</th>\n",
       "    </tr>\n",
       "  </thead>\n",
       "  <tbody>\n",
       "    <tr>\n",
       "      <th>0</th>\n",
       "      <td>[1., 2., 3., 4., 5., 6., 7., 8., 9., 10., 11.,...</td>\n",
       "      <td>[e4, Bc4, exd5, Bb3, d4, Qe2, Qd3, Bg5, Qe3, N...</td>\n",
       "      <td>[0:56:50.2, 0:07:35.1, 0:55:52.1, 0:51:51.9, 1...</td>\n",
       "      <td>[c6, d5, cxd5, Nf6, Nc6, Nxd4, e5, Be6, Qa5+, ...</td>\n",
       "      <td>[0:27:49.5, 3:13:05.6, 9:10:15.2, 1:04:14.9, 6...</td>\n",
       "      <td>NaN</td>\n",
       "      <td>0</td>\n",
       "      <td>NaN</td>\n",
       "      <td>0</td>\n",
       "    </tr>\n",
       "    <tr>\n",
       "      <th>1</th>\n",
       "      <td>[1., 2., 3., 4., 5., 6., 7., 8., 9., 10., 11.,...</td>\n",
       "      <td>[e4, c3, d4, dxc5, cxd6, Bb5, Bf4, Nd2, Bd3, N...</td>\n",
       "      <td>[0:02:24.3, 0:02:01.1, 1:40:11, 12:21:05.2, 6:...</td>\n",
       "      <td>[c5, Nc6, d6, b6, exd6, Bb7, Nf6, a6, Be7, O-O...</td>\n",
       "      <td>[0:15:39.3, 0:19:39.7, 0:16:34.7, 0:13:40.6, 0...</td>\n",
       "      <td>King</td>\n",
       "      <td>11</td>\n",
       "      <td>King</td>\n",
       "      <td>10</td>\n",
       "    </tr>\n",
       "  </tbody>\n",
       "</table>\n",
       "</div>"
      ],
      "text/plain": [
       "                                        move_numbers  \\\n",
       "0  [1., 2., 3., 4., 5., 6., 7., 8., 9., 10., 11.,...   \n",
       "1  [1., 2., 3., 4., 5., 6., 7., 8., 9., 10., 11.,...   \n",
       "\n",
       "                                         white_moves  \\\n",
       "0  [e4, Bc4, exd5, Bb3, d4, Qe2, Qd3, Bg5, Qe3, N...   \n",
       "1  [e4, c3, d4, dxc5, cxd6, Bb5, Bf4, Nd2, Bd3, N...   \n",
       "\n",
       "                                         white_clock  \\\n",
       "0  [0:56:50.2, 0:07:35.1, 0:55:52.1, 0:51:51.9, 1...   \n",
       "1  [0:02:24.3, 0:02:01.1, 1:40:11, 12:21:05.2, 6:...   \n",
       "\n",
       "                                         black_moves  \\\n",
       "0  [c6, d5, cxd5, Nf6, Nc6, Nxd4, e5, Be6, Qa5+, ...   \n",
       "1  [c5, Nc6, d6, b6, exd6, Bb7, Nf6, a6, Be7, O-O...   \n",
       "\n",
       "                                         black_clock w_cstl_side  w_cstl_move  \\\n",
       "0  [0:27:49.5, 3:13:05.6, 9:10:15.2, 1:04:14.9, 6...         NaN            0   \n",
       "1  [0:15:39.3, 0:19:39.7, 0:16:34.7, 0:13:40.6, 0...        King           11   \n",
       "\n",
       "  b_cstl_side  b_cstl_move  \n",
       "0         NaN            0  \n",
       "1        King           10  "
      ]
     },
     "execution_count": 45,
     "metadata": {},
     "output_type": "execute_result"
    }
   ],
   "source": [
    "def process_moves_pipe(df):\n",
    "    \"\"\"\n",
    "        Looks at 'moves' column which is pgn string, extracts each players moves and when they castled\n",
    "        ['move_numbers', 'white_moves', 'white_clock', 'black_moves', 'black_clock', \n",
    "        'w_cstl_side', 'w_cstl_move', 'b_cstl_side', 'b_cstl_move']\n",
    "    \"\"\"\n",
    "    def process_moves(row):\n",
    "        #.apply() complained that it was float when didn't manually convert to string?\n",
    "        moves = str(row[\"moves\"])\n",
    "        moves = moves.replace(\"{\",\"\")\n",
    "\n",
    "        move_nums = moves.split()[::8]\n",
    "        white_moves = moves.split()[1::8]\n",
    "        black_moves = moves.split()[5::8]      \n",
    "\n",
    "        white_clock = [m[:-1] for m in moves.split()[3::8] ]\n",
    "        black_clock = [m[:-1] for m in moves.split()[7::8] ]\n",
    "\n",
    "        if len(black_moves) < len(white_moves):\n",
    "            black_moves.append(np.nan)\n",
    "            black_clock.append(np.nan)\n",
    "\n",
    "        #deal with castling\n",
    "        w_castled, w_castled_side = 0,np.nan\n",
    "        b_castled, b_castled_side = 0, np.nan\n",
    "\n",
    "        for move_num, w_move, b_move in zip(move_nums, white_moves, black_moves):\n",
    "            move_num = int(move_num[:-1]) #7. -> 7\n",
    "\n",
    "            if w_move == \"O-O\":\n",
    "                w_castled_side = \"King\"\n",
    "                w_castled = move_num\n",
    "            elif w_move == \"O-O-O\":\n",
    "                w_castled_side = \"Queen\"\n",
    "                w_castled = move_num\n",
    "\n",
    "            if b_move == \"O-O\":\n",
    "                b_castled_side = \"King\"\n",
    "                b_castled = move_num\n",
    "            elif b_move == \"O-O-O\":\n",
    "                b_castled_side = \"Queen\"\n",
    "                b_castled = move_num\n",
    "\n",
    "        df_dict = {\n",
    "            \"move_numbers\" : move_nums,\n",
    "            \"white_moves\"  : white_moves,\n",
    "            \"white_clock\" : white_clock,\n",
    "            \"black_moves\"  : black_moves,\n",
    "            \"black_clock\" : black_clock,\n",
    "\n",
    "            \"w_cstl_side\" : w_castled_side,\n",
    "            \"w_cstl_move\" : w_castled,        \n",
    "            \"b_cstl_side\" : b_castled_side,\n",
    "            \"b_cstl_move\" : b_castled\n",
    "        }\n",
    "        return pd.Series(df_dict)\n",
    "\n",
    "    out_df = df.apply(process_moves, axis=1, result_type=\"reduce\")\n",
    "    return out_df \n",
    "\n",
    "# process_moves_pipe(test_game)\n",
    "process_moves_pipe(all_games_df_raw.iloc[:2,:])\n",
    "# pd.DataFrame.apply()"
   ]
  },
  {
   "cell_type": "code",
   "execution_count": 47,
   "id": "f96407e4",
   "metadata": {
    "ExecuteTime": {
     "end_time": "2024-11-07T18:40:55.289973Z",
     "start_time": "2024-11-07T18:40:55.204546Z"
    }
   },
   "outputs": [
    {
     "data": {
      "text/html": [
       "<div>\n",
       "<style scoped>\n",
       "    .dataframe tbody tr th:only-of-type {\n",
       "        vertical-align: middle;\n",
       "    }\n",
       "\n",
       "    .dataframe tbody tr th {\n",
       "        vertical-align: top;\n",
       "    }\n",
       "\n",
       "    .dataframe thead th {\n",
       "        text-align: right;\n",
       "    }\n",
       "</style>\n",
       "<table border=\"1\" class=\"dataframe\">\n",
       "  <thead>\n",
       "    <tr style=\"text-align: right;\">\n",
       "      <th></th>\n",
       "      <th>move_numbers</th>\n",
       "      <th>white_moves</th>\n",
       "      <th>white_clock</th>\n",
       "      <th>black_moves</th>\n",
       "      <th>black_clock</th>\n",
       "      <th>w_cstl_side</th>\n",
       "      <th>w_cstl_move</th>\n",
       "      <th>b_cstl_side</th>\n",
       "      <th>b_cstl_move</th>\n",
       "    </tr>\n",
       "  </thead>\n",
       "  <tbody>\n",
       "    <tr>\n",
       "      <th>0</th>\n",
       "      <td>[1., 2., 3., 4., 5., 6., 7., 8., 9., 10., 11.,...</td>\n",
       "      <td>[e4, Bc4, exd5, Bb3, d4, Qe2, Qd3, Bg5, Qe3, N...</td>\n",
       "      <td>[0:56:50.2, 0:07:35.1, 0:55:52.1, 0:51:51.9, 1...</td>\n",
       "      <td>[c6, d5, cxd5, Nf6, Nc6, Nxd4, e5, Be6, Qa5+, ...</td>\n",
       "      <td>[0:27:49.5, 3:13:05.6, 9:10:15.2, 1:04:14.9, 6...</td>\n",
       "      <td>NaN</td>\n",
       "      <td>0</td>\n",
       "      <td>NaN</td>\n",
       "      <td>0</td>\n",
       "    </tr>\n",
       "    <tr>\n",
       "      <th>1</th>\n",
       "      <td>[1., 2., 3., 4., 5., 6., 7., 8., 9., 10., 11.,...</td>\n",
       "      <td>[e4, c3, d4, dxc5, cxd6, Bb5, Bf4, Nd2, Bd3, N...</td>\n",
       "      <td>[0:02:24.3, 0:02:01.1, 1:40:11, 12:21:05.2, 6:...</td>\n",
       "      <td>[c5, Nc6, d6, b6, exd6, Bb7, Nf6, a6, Be7, O-O...</td>\n",
       "      <td>[0:15:39.3, 0:19:39.7, 0:16:34.7, 0:13:40.6, 0...</td>\n",
       "      <td>King</td>\n",
       "      <td>11</td>\n",
       "      <td>King</td>\n",
       "      <td>10</td>\n",
       "    </tr>\n",
       "    <tr>\n",
       "      <th>2</th>\n",
       "      <td>[1., 2., 3., 4., 5., 6., 7., 8., 9., 10., 11.,...</td>\n",
       "      <td>[e4, Nf3, exd5, b3, h3, Qxf3, Bb5+, O-O, Bb2, ...</td>\n",
       "      <td>[0:02:06.5, 0:15:03.3, 0:00:03.4, 0:12:53.2, 0...</td>\n",
       "      <td>[c6, d5, cxd5, Bg4, Bxf3, e6, Nc6, Bc5, Nf6, O...</td>\n",
       "      <td>[0:27:48.3, 2:08:23.9, 1:21:24.6, 5:33:48.6, 1...</td>\n",
       "      <td>King</td>\n",
       "      <td>8</td>\n",
       "      <td>King</td>\n",
       "      <td>10</td>\n",
       "    </tr>\n",
       "    <tr>\n",
       "      <th>3</th>\n",
       "      <td>[1., 2., 3., 4., 5., 6., 7., 8., 9., 10., 11.,...</td>\n",
       "      <td>[Nf3, c4, e4, a4, axb5, Nc3, b3, Bxa6, Rxa6, Q...</td>\n",
       "      <td>[0:04:54.9, 0:04:53.1, 0:04:50.9, 0:04:48.6, 0...</td>\n",
       "      <td>[d5, dxc4, b5, Bd7, Bxb5, Ba6, cxb3, Nxa6, Qd3...</td>\n",
       "      <td>[0:04:58, 0:04:56, 0:04:47.6, 0:04:42.5, 0:04:...</td>\n",
       "      <td>King</td>\n",
       "      <td>16</td>\n",
       "      <td>Queen</td>\n",
       "      <td>12</td>\n",
       "    </tr>\n",
       "    <tr>\n",
       "      <th>4</th>\n",
       "      <td>[1., 2., 3.]</td>\n",
       "      <td>[c4, Nc3, f3]</td>\n",
       "      <td>[0:18:46.2, 0:42:16.7, 0:06:49.3]</td>\n",
       "      <td>[e5, Bc5, nan]</td>\n",
       "      <td>[4:14:19.7, 11:29:36.4, nan]</td>\n",
       "      <td>NaN</td>\n",
       "      <td>0</td>\n",
       "      <td>NaN</td>\n",
       "      <td>0</td>\n",
       "    </tr>\n",
       "  </tbody>\n",
       "</table>\n",
       "</div>"
      ],
      "text/plain": [
       "                                        move_numbers  \\\n",
       "0  [1., 2., 3., 4., 5., 6., 7., 8., 9., 10., 11.,...   \n",
       "1  [1., 2., 3., 4., 5., 6., 7., 8., 9., 10., 11.,...   \n",
       "2  [1., 2., 3., 4., 5., 6., 7., 8., 9., 10., 11.,...   \n",
       "3  [1., 2., 3., 4., 5., 6., 7., 8., 9., 10., 11.,...   \n",
       "4                                       [1., 2., 3.]   \n",
       "\n",
       "                                         white_moves  \\\n",
       "0  [e4, Bc4, exd5, Bb3, d4, Qe2, Qd3, Bg5, Qe3, N...   \n",
       "1  [e4, c3, d4, dxc5, cxd6, Bb5, Bf4, Nd2, Bd3, N...   \n",
       "2  [e4, Nf3, exd5, b3, h3, Qxf3, Bb5+, O-O, Bb2, ...   \n",
       "3  [Nf3, c4, e4, a4, axb5, Nc3, b3, Bxa6, Rxa6, Q...   \n",
       "4                                      [c4, Nc3, f3]   \n",
       "\n",
       "                                         white_clock  \\\n",
       "0  [0:56:50.2, 0:07:35.1, 0:55:52.1, 0:51:51.9, 1...   \n",
       "1  [0:02:24.3, 0:02:01.1, 1:40:11, 12:21:05.2, 6:...   \n",
       "2  [0:02:06.5, 0:15:03.3, 0:00:03.4, 0:12:53.2, 0...   \n",
       "3  [0:04:54.9, 0:04:53.1, 0:04:50.9, 0:04:48.6, 0...   \n",
       "4                  [0:18:46.2, 0:42:16.7, 0:06:49.3]   \n",
       "\n",
       "                                         black_moves  \\\n",
       "0  [c6, d5, cxd5, Nf6, Nc6, Nxd4, e5, Be6, Qa5+, ...   \n",
       "1  [c5, Nc6, d6, b6, exd6, Bb7, Nf6, a6, Be7, O-O...   \n",
       "2  [c6, d5, cxd5, Bg4, Bxf3, e6, Nc6, Bc5, Nf6, O...   \n",
       "3  [d5, dxc4, b5, Bd7, Bxb5, Ba6, cxb3, Nxa6, Qd3...   \n",
       "4                                     [e5, Bc5, nan]   \n",
       "\n",
       "                                         black_clock w_cstl_side  w_cstl_move  \\\n",
       "0  [0:27:49.5, 3:13:05.6, 9:10:15.2, 1:04:14.9, 6...         NaN            0   \n",
       "1  [0:15:39.3, 0:19:39.7, 0:16:34.7, 0:13:40.6, 0...        King           11   \n",
       "2  [0:27:48.3, 2:08:23.9, 1:21:24.6, 5:33:48.6, 1...        King            8   \n",
       "3  [0:04:58, 0:04:56, 0:04:47.6, 0:04:42.5, 0:04:...        King           16   \n",
       "4                       [4:14:19.7, 11:29:36.4, nan]         NaN            0   \n",
       "\n",
       "  b_cstl_side  b_cstl_move  \n",
       "0         NaN            0  \n",
       "1        King           10  \n",
       "2        King           10  \n",
       "3       Queen           12  \n",
       "4         NaN            0  "
      ]
     },
     "execution_count": 47,
     "metadata": {},
     "output_type": "execute_result"
    }
   ],
   "source": [
    "moves_proc = FunctionTransformer(process_moves_pipe)\n",
    "\n",
    "moves_pipe = Pipeline([\n",
    "    (\"process_moves\", moves_proc)\n",
    "])\n",
    "moves_pipe.fit_transform(X.iloc[:5])"
   ]
  },
  {
   "cell_type": "code",
   "execution_count": 55,
   "id": "c29c2126",
   "metadata": {
    "ExecuteTime": {
     "end_time": "2024-11-07T19:10:28.879681Z",
     "start_time": "2024-11-07T19:10:28.820877Z"
    }
   },
   "outputs": [
    {
     "ename": "AttributeError",
     "evalue": "Estimator process_moves does not provide get_feature_names_out. Did you mean to call pipeline[:-1].get_feature_names_out()?",
     "output_type": "error",
     "traceback": [
      "\u001b[0;31m---------------------------------------------------------------------------\u001b[0m",
      "\u001b[0;31mAttributeError\u001b[0m                            Traceback (most recent call last)",
      "Cell \u001b[0;32mIn [55], line 1\u001b[0m\n\u001b[0;32m----> 1\u001b[0m \u001b[43mmoves_pipe\u001b[49m\u001b[38;5;241;43m.\u001b[39;49m\u001b[43mget_feature_names_out\u001b[49m\u001b[43m(\u001b[49m\u001b[43m)\u001b[49m\n",
      "File \u001b[0;32m~/.pyenv/versions/3.10.6/envs/lewagon/lib/python3.10/site-packages/sklearn/pipeline.py:1062\u001b[0m, in \u001b[0;36mPipeline.get_feature_names_out\u001b[0;34m(self, input_features)\u001b[0m\n\u001b[1;32m   1060\u001b[0m \u001b[38;5;28;01mfor\u001b[39;00m _, name, transform \u001b[38;5;129;01min\u001b[39;00m \u001b[38;5;28mself\u001b[39m\u001b[38;5;241m.\u001b[39m_iter():\n\u001b[1;32m   1061\u001b[0m     \u001b[38;5;28;01mif\u001b[39;00m \u001b[38;5;129;01mnot\u001b[39;00m \u001b[38;5;28mhasattr\u001b[39m(transform, \u001b[38;5;124m\"\u001b[39m\u001b[38;5;124mget_feature_names_out\u001b[39m\u001b[38;5;124m\"\u001b[39m):\n\u001b[0;32m-> 1062\u001b[0m         \u001b[38;5;28;01mraise\u001b[39;00m \u001b[38;5;167;01mAttributeError\u001b[39;00m(\n\u001b[1;32m   1063\u001b[0m             \u001b[38;5;124m\"\u001b[39m\u001b[38;5;124mEstimator \u001b[39m\u001b[38;5;132;01m{}\u001b[39;00m\u001b[38;5;124m does not provide get_feature_names_out. \u001b[39m\u001b[38;5;124m\"\u001b[39m\n\u001b[1;32m   1064\u001b[0m             \u001b[38;5;124m\"\u001b[39m\u001b[38;5;124mDid you mean to call pipeline[:-1].get_feature_names_out\u001b[39m\u001b[38;5;124m\"\u001b[39m\n\u001b[1;32m   1065\u001b[0m             \u001b[38;5;124m\"\u001b[39m\u001b[38;5;124m()?\u001b[39m\u001b[38;5;124m\"\u001b[39m\u001b[38;5;241m.\u001b[39mformat(name)\n\u001b[1;32m   1066\u001b[0m         )\n\u001b[1;32m   1067\u001b[0m     feature_names_out \u001b[38;5;241m=\u001b[39m transform\u001b[38;5;241m.\u001b[39mget_feature_names_out(feature_names_out)\n\u001b[1;32m   1068\u001b[0m \u001b[38;5;28;01mreturn\u001b[39;00m feature_names_out\n",
      "\u001b[0;31mAttributeError\u001b[0m: Estimator process_moves does not provide get_feature_names_out. Did you mean to call pipeline[:-1].get_feature_names_out()?"
     ]
    }
   ],
   "source": [
    "moves_pipe.get_feature_names_out()"
   ]
  },
  {
   "cell_type": "code",
   "execution_count": 54,
   "id": "454cd6f1",
   "metadata": {
    "ExecuteTime": {
     "end_time": "2024-11-07T18:57:13.061376Z",
     "start_time": "2024-11-07T18:57:13.021728Z"
    }
   },
   "outputs": [
    {
     "data": {
      "text/plain": [
       "date                                                         2023-02-07\n",
       "start_time                                          2023-02-07 20:18:19\n",
       "end_time                                            2023-02-07 19:25:50\n",
       "time_class                                                        daily\n",
       "time_control                                                   1/604800\n",
       "rated                                                              True\n",
       "rules                                                             chess\n",
       "url                          https://www.chess.com/game/daily/472634081\n",
       "moves                 1. c4 {[%clk 0:18:46.2] 1... e5 {[%clk 4:14:19...\n",
       "final_position_fen    rnbqk1nr/pppp1ppp/8/2b1p3/2P5/2N2P2/PP1PP1PP/R...\n",
       "opening_code                                                        A21\n",
       "opening_name                English-Opening-Reversed-Sicilian-Variation\n",
       "white_username                                                ajbouchie\n",
       "black_username                                               JammyNinja\n",
       "result                                                          1/2-1/2\n",
       "white_rating                                                       1584\n",
       "black_rating                                                       1449\n",
       "white_result                                                     agreed\n",
       "black_result                                                     agreed\n",
       "Name: 4, dtype: object"
      ]
     },
     "execution_count": 54,
     "metadata": {},
     "output_type": "execute_result"
    }
   ],
   "source": [
    "moves_pipe.fit_transform(X.iloc[4:5])\n",
    "X.iloc[4]"
   ]
  },
  {
   "cell_type": "code",
   "execution_count": 10,
   "id": "674b0d74",
   "metadata": {
    "ExecuteTime": {
     "end_time": "2024-09-15T00:32:33.718869Z",
     "start_time": "2024-09-15T00:32:33.683497Z"
    }
   },
   "outputs": [
    {
     "data": {
      "text/plain": [
       "dict_keys(['higher_rated_colour', 'winner', 'winner_rating_diff', 'user_rating_diff', 'user_rating', 'user_win', 'user_colour'])"
      ]
     },
     "execution_count": 10,
     "metadata": {},
     "output_type": "execute_result"
    }
   ],
   "source": [
    "def process_winner_rating(row):\n",
    "    \n",
    "    winner = \"white\" if row[\"result\"] == \"1-0\" else \"black\" if row[\"result\"] == \"0-1\" else \"DRAW\"\n",
    "    \n",
    "    w_rating, b_rating = row[\"white_rating\"], row[\"black_rating\"] #reduce line size\n",
    "    \n",
    "    higher_rated = \"white\" if w_rating > b_rating else \"black\" #assumes draw is good for black\n",
    "    \n",
    "    user_colour = \"white\" if row[\"white_username\"] == \"JammyNinja\" else \"black\"\n",
    "        \n",
    "    def did_user_win(user = \"JammyNinja\"):\n",
    "        if winner == \"white\" and row[\"white_username\"] == user:\n",
    "            return True\n",
    "        if winner == \"black\" and row[\"black_username\"] == user:\n",
    "            return True\n",
    "        if winner == \"draw\":\n",
    "            return \"DRAW\"\n",
    "        return False\n",
    "    \n",
    "    user_win = did_user_win()\n",
    "    \n",
    "    user_rating = w_rating if user_colour == \"white\" else b_rating\n",
    "    \n",
    "    winner_rating_diff = w_rating - b_rating if winner == \"white\" else b_rating - w_rating\n",
    "    user_rating_diff = w_rating - b_rating if user_colour == \"white\" else b_rating - w_rating\n",
    "        \n",
    "    return {\n",
    "        \"higher_rated_colour\" : higher_rated,\n",
    "        \"winner\"       : winner,\n",
    "        \"winner_rating_diff\"  : winner_rating_diff,\n",
    "        \"user_rating_diff\" : user_rating_diff,\n",
    "        \"user_rating\" : user_rating,\n",
    "        \"user_win\"     : user_win,\n",
    "        \"user_colour\" : user_colour\n",
    "    }\n",
    "process_winner_rating(all_games_df_raw.iloc[4]).keys()"
   ]
  },
  {
   "cell_type": "code",
   "execution_count": 11,
   "id": "24ac5436",
   "metadata": {
    "ExecuteTime": {
     "end_time": "2024-09-15T00:32:33.756687Z",
     "start_time": "2024-09-15T00:32:33.725086Z"
    }
   },
   "outputs": [],
   "source": [
    "def user_castled(row):\n",
    "#         print(row)\n",
    "        user_castled = False\n",
    "        opp_castled = False\n",
    "\n",
    "        w_cstl_move = row[\"w_cstl_move\"]\n",
    "        b_cstl_move = row[\"b_cstl_move\"]\n",
    "\n",
    "        if row[\"user_colour\"] == \"white\":\n",
    "            if w_cstl_move > 0:\n",
    "                user_castled = True\n",
    "                user_cstl_diff = w_cstl_move - b_cstl_move  \n",
    "            if b_cstl_move > 0:\n",
    "                opp_castled = True\n",
    "        else: #user is black\n",
    "            if b_cstl_move > 0:\n",
    "                user_castled = True\n",
    "                user_cstl_diff = b_cstl_move - w_cstl_move \n",
    "            if w_cstl_move > 0:\n",
    "                opp_castled = True\n",
    "                \n",
    "        \n",
    "        #create columns to do with who castled first         \n",
    "        #null if user didn't castle\n",
    "        if not user_castled:\n",
    "            user_cstl_diff = np.nan\n",
    "        #WHAT IF I CASTLE AND THEY DONT - cant subtract?\n",
    "        \n",
    "        return {\n",
    "            \"user_castled\" : user_castled,\n",
    "            \"opp_castled\" : opp_castled,\n",
    "#             \"user_cstl_diff\" : user_cstl_diff,\n",
    "#             \"winner_cstl_diff\" : win_cstl_diff\n",
    "        }\n",
    "# user_castled(all_games_df.iloc[80])\n",
    "# display(all_games_df.iloc[80])"
   ]
  },
  {
   "cell_type": "code",
   "execution_count": 12,
   "id": "cfdb056e",
   "metadata": {
    "ExecuteTime": {
     "end_time": "2024-09-15T00:32:33.795128Z",
     "start_time": "2024-09-15T00:32:33.763567Z"
    }
   },
   "outputs": [
    {
     "data": {
      "text/plain": [
       "date                                                         2023-09-13\n",
       "start_time                                          2023-09-13 19:47:02\n",
       "end_time                                            2023-09-13 19:48:51\n",
       "time_class                                                       bullet\n",
       "time_control                                                       60+1\n",
       "rated                                                              True\n",
       "rules                                                             chess\n",
       "url                   https://www.chess.com/game/47ff5565-526e-11ee-...\n",
       "moves                 1. e4 {[%clk 0:01:01] 1... e5 {[%clk 0:01:01] ...\n",
       "final_position_fen    2kr3r/1pp1q1pp/p1n2n2/2b1p3/4p3/1BN5/PPPPQPPP/...\n",
       "opening_code                                                        C47\n",
       "opening_name                        Four-Knights-Game-Italian-Variation\n",
       "white_username                                               JammyNinja\n",
       "black_username                                                indiano13\n",
       "result                                                              1-0\n",
       "white_rating                                                       1082\n",
       "black_rating                                                        277\n",
       "white_result                                                        win\n",
       "black_result                                                    timeout\n",
       "Name: 39, dtype: object"
      ]
     },
     "execution_count": 12,
     "metadata": {},
     "output_type": "execute_result"
    }
   ],
   "source": [
    "test_game"
   ]
  },
  {
   "cell_type": "code",
   "execution_count": 13,
   "id": "65e7a1ee",
   "metadata": {
    "ExecuteTime": {
     "end_time": "2024-09-15T00:32:35.886945Z",
     "start_time": "2024-09-15T00:32:33.800439Z"
    }
   },
   "outputs": [
    {
     "ename": "AttributeError",
     "evalue": "'Series' object has no attribute 'winner'",
     "output_type": "error",
     "traceback": [
      "\u001b[0;31m---------------------------------------------------------------------------\u001b[0m",
      "\u001b[0;31mAttributeError\u001b[0m                            Traceback (most recent call last)",
      "Cell \u001b[0;32mIn [13], line 90\u001b[0m\n\u001b[1;32m     88\u001b[0m test_game \u001b[38;5;241m=\u001b[39m all_games_df_raw\u001b[38;5;241m.\u001b[39mquery(\u001b[38;5;124m\"\u001b[39m\u001b[38;5;124mtime_class == \u001b[39m\u001b[38;5;124m'\u001b[39m\u001b[38;5;124mbullet\u001b[39m\u001b[38;5;124m'\u001b[39m\u001b[38;5;124m\"\u001b[39m)\u001b[38;5;241m.\u001b[39miloc[\u001b[38;5;241m9\u001b[39m]\n\u001b[1;32m     89\u001b[0m \u001b[38;5;66;03m# print(test_game.final_position_fen)\u001b[39;00m\n\u001b[0;32m---> 90\u001b[0m \u001b[43mpieces_final_position\u001b[49m\u001b[43m(\u001b[49m\u001b[43mtest_game\u001b[49m\u001b[43m)\u001b[49m\u001b[38;5;241m.\u001b[39mkeys()\n",
      "Cell \u001b[0;32mIn [13], line 44\u001b[0m, in \u001b[0;36mpieces_final_position\u001b[0;34m(game)\u001b[0m\n\u001b[1;32m     41\u001b[0m w_material_count\u001b[38;5;241m=\u001b[39msum_piece_values(w_pcs)\n\u001b[1;32m     42\u001b[0m b_material_count\u001b[38;5;241m=\u001b[39msum_piece_values(b_pcs)\n\u001b[0;32m---> 44\u001b[0m \u001b[38;5;28;01mif\u001b[39;00m \u001b[43mgame\u001b[49m\u001b[38;5;241;43m.\u001b[39;49m\u001b[43mwinner\u001b[49m \u001b[38;5;241m==\u001b[39m \u001b[38;5;124m\"\u001b[39m\u001b[38;5;124mwhite\u001b[39m\u001b[38;5;124m\"\u001b[39m:\n\u001b[1;32m     45\u001b[0m     win_pcs, lose_pcs \u001b[38;5;241m=\u001b[39m w_pcs, b_pcs\n\u001b[1;32m     46\u001b[0m     winner_ttl_pieces_count \u001b[38;5;241m=\u001b[39m ttl_white_pcs\n",
      "File \u001b[0;32m~/.pyenv/versions/3.10.6/envs/lewagon/lib/python3.10/site-packages/pandas/core/generic.py:5575\u001b[0m, in \u001b[0;36mNDFrame.__getattr__\u001b[0;34m(self, name)\u001b[0m\n\u001b[1;32m   5568\u001b[0m \u001b[38;5;28;01mif\u001b[39;00m (\n\u001b[1;32m   5569\u001b[0m     name \u001b[38;5;129;01mnot\u001b[39;00m \u001b[38;5;129;01min\u001b[39;00m \u001b[38;5;28mself\u001b[39m\u001b[38;5;241m.\u001b[39m_internal_names_set\n\u001b[1;32m   5570\u001b[0m     \u001b[38;5;129;01mand\u001b[39;00m name \u001b[38;5;129;01mnot\u001b[39;00m \u001b[38;5;129;01min\u001b[39;00m \u001b[38;5;28mself\u001b[39m\u001b[38;5;241m.\u001b[39m_metadata\n\u001b[1;32m   5571\u001b[0m     \u001b[38;5;129;01mand\u001b[39;00m name \u001b[38;5;129;01mnot\u001b[39;00m \u001b[38;5;129;01min\u001b[39;00m \u001b[38;5;28mself\u001b[39m\u001b[38;5;241m.\u001b[39m_accessors\n\u001b[1;32m   5572\u001b[0m     \u001b[38;5;129;01mand\u001b[39;00m \u001b[38;5;28mself\u001b[39m\u001b[38;5;241m.\u001b[39m_info_axis\u001b[38;5;241m.\u001b[39m_can_hold_identifiers_and_holds_name(name)\n\u001b[1;32m   5573\u001b[0m ):\n\u001b[1;32m   5574\u001b[0m     \u001b[38;5;28;01mreturn\u001b[39;00m \u001b[38;5;28mself\u001b[39m[name]\n\u001b[0;32m-> 5575\u001b[0m \u001b[38;5;28;01mreturn\u001b[39;00m \u001b[38;5;28;43mobject\u001b[39;49m\u001b[38;5;241;43m.\u001b[39;49m\u001b[38;5;21;43m__getattribute__\u001b[39;49m\u001b[43m(\u001b[49m\u001b[38;5;28;43mself\u001b[39;49m\u001b[43m,\u001b[49m\u001b[43m \u001b[49m\u001b[43mname\u001b[49m\u001b[43m)\u001b[49m\n",
      "\u001b[0;31mAttributeError\u001b[0m: 'Series' object has no attribute 'winner'"
     ]
    }
   ],
   "source": [
    "def pieces_final_position(game):\n",
    "    \"\"\"\n",
    "    starts with eighth rank, first file to eighth\n",
    "    white is uppercase, black lowercase\n",
    "    p: pawn, r: rook, n: knight, b: bishop, q : queen, k : king \n",
    "    \"\"\"\n",
    "    fen = game[\"final_position_fen\"]\n",
    "    fin_pos = fen.split()[0]\n",
    "    \n",
    "    board = fin_pos.split(\"/\")\n",
    "    ttl_white_pcs, ttl_black_pcs = 0,0\n",
    "    \n",
    "    #white pieces are uppercase, black lowercase\n",
    "    w_pcs = [piece for piece in \"\".join(board) if piece.isupper()]\n",
    "    b_pcs = [piece for piece in \"\".join(board) if piece.islower()]\n",
    "    #count total pieces (including king), and also count just the pawns\n",
    "    ttl_white_pcs = len(w_pcs)\n",
    "    ttl_black_pcs = len(b_pcs)\n",
    "    ttl_white_pwns = len([p for p in w_pcs if p == \"P\"])\n",
    "    ttl_black_pwns = len([p for p in b_pcs if p == \"p\"])\n",
    "\n",
    "    #create material counts\n",
    "    def sum_piece_values(pcs):\n",
    "        \"\"\"\n",
    "        Accepts as input b_pcs or w_bcs and outputs the total value of what's given.\n",
    "        \"\"\"\n",
    "        # dictionary for piece values\n",
    "        chess_piece_values = {\n",
    "            'P': 1,  # Pawn\n",
    "            'N': 3,  # Knight\n",
    "            'B': 3,  # Bishop\n",
    "            'R': 5,  # Rook\n",
    "            'Q': 9,  # Queen\n",
    "            'K': 0,   # King (often considered to have infinite value, but in practical terms, it is 0 for valuation purposes)\n",
    "        }\n",
    "        count = 0\n",
    "        for i in pcs:\n",
    "            count += chess_piece_values[i.upper()]\n",
    "        return count\n",
    "    \n",
    "    w_material_count=sum_piece_values(w_pcs)\n",
    "    b_material_count=sum_piece_values(b_pcs)\n",
    "        \n",
    "    if game.winner == \"white\":\n",
    "        win_pcs, lose_pcs = w_pcs, b_pcs\n",
    "        winner_ttl_pieces_count = ttl_white_pcs\n",
    "        loser_ttl_pieces_count = ttl_black_pcs\n",
    "        winner_pawns_count = ttl_white_pwns\n",
    "        loser_pawns_count = ttl_black_pwns\n",
    "        winner_material_ttl = w_material_count\n",
    "        loser_material_ttl = b_material_count        \n",
    "        \n",
    "    else: #includes DRAWs\n",
    "        win_pcs, lose_pcs = b_pcs, w_pcs\n",
    "        winner_ttl_pieces_count = ttl_black_pcs\n",
    "        loser_ttl_pieces_count = ttl_white_pcs\n",
    "        winner_pawns_count = ttl_black_pwns\n",
    "        loser_pawns_count = ttl_white_pwns\n",
    "        winner_material_ttl = b_material_count\n",
    "        loser_material_ttl = w_material_count\n",
    "    \n",
    "    #count of just the major/minor pieces, -1 to not include King,    \n",
    "    winner_pieces_only_count = winner_ttl_pieces_count - winner_pawns_count -1\n",
    "    loser_pieces_only_count = loser_ttl_pieces_count - loser_pawns_count -1\n",
    "    \n",
    "    output = {\n",
    "        #pieces on the board including king\n",
    "        \"winner_ttl_pieces_count\" : winner_ttl_pieces_count, \n",
    "        \"loser_ttl_pieces_count\" : loser_ttl_pieces_count,\n",
    "#       #count pawns\n",
    "        \"winner_pawns_count\" : winner_pawns_count, \n",
    "        \"loser_pawns_count\" : loser_pawns_count,\n",
    "        #count of just the major/minor pieces\n",
    "        \"winner_pieces_only_count\" : winner_pieces_only_count,\n",
    "        \"loser_pieces_only_count\" : loser_pieces_only_count,\n",
    "        \"pieces_count_diff\" : winner_pieces_only_count - loser_pieces_only_count,\n",
    "        \"pawns_count_diff\" : winner_pawns_count - loser_pawns_count,\n",
    "        #count the material worth\n",
    "        \"winner_material_ttl\" : winner_material_ttl,\n",
    "        \"loser_material_ttl\" : loser_material_ttl,\n",
    "        #might as well throw the pieces in too\n",
    "        \"winner_pcs\" : win_pcs,\n",
    "        \"loser_pcs\"  : lose_pcs,\n",
    "    }\n",
    "    \n",
    "    return output\n",
    "\n",
    "test_game = all_games_df_raw.query(\"time_class == 'bullet'\").iloc[9]\n",
    "# print(test_game.final_position_fen)\n",
    "pieces_final_position(test_game).keys()"
   ]
  },
  {
   "cell_type": "code",
   "execution_count": null,
   "id": "4d6bfdbd",
   "metadata": {},
   "outputs": [],
   "source": []
  },
  {
   "cell_type": "code",
   "execution_count": null,
   "id": "e5746d07",
   "metadata": {
    "ExecuteTime": {
     "end_time": "2024-09-15T00:32:35.898027Z",
     "start_time": "2024-09-15T00:32:35.897993Z"
    }
   },
   "outputs": [],
   "source": [
    "def add_new_columns(games_df_in, printing=True):\n",
    "    \n",
    "    orig_cols = games_df_in.columns\n",
    "    \n",
    "    #uses winner_rating function to calculate the winner and rating swing\n",
    "    win_rating_cols = games_df_in.apply(process_winner_rating, axis=\"columns\", result_type=\"expand\")\n",
    "    \n",
    "    #uses process moves function to break down the moves into w/b, and when castled\n",
    "    move_cols =       games_df_in.apply(process_moves, axis=\"columns\", result_type=\"expand\")\n",
    "    \n",
    "    #add the above columns for now, so that the below funcs know who the winner was\n",
    "    games_df_win = pd.concat([win_rating_cols, move_cols, games_df_in], axis=1)\n",
    "\n",
    "    #drop duplicated columns\n",
    "    #https://stackoverflow.com/questions/32041245/fast-method-for-removing-duplicate-columns-in-pandas-dataframe\n",
    "    unique_cols = ~games_df_win.columns.duplicated()\n",
    "    games_df_win = games_df_win.loc[:, unique_cols]\n",
    "    \n",
    "    display(games_df_win.columns)\n",
    "    #create final position columns, gets the material left on the board\n",
    "    final_pos_cols = games_df_win.apply(pieces_final_position, axis=\"columns\", result_type=\"expand\")\n",
    "    \n",
    "    #now calculate castle cols using some of the above columns\n",
    "    cstl_cols =       games_df_win.apply(user_castled, axis=\"columns\", result_type=\"expand\")\n",
    "    games_df_out = pd.concat([games_df_win, cstl_cols, final_pos_cols], axis=1)\n",
    "    \n",
    "    if printing:\n",
    "        print(\"Created win/rating columns:\\n\" + \"\\n\".join([f\"- {col}\" for col in win_rating_cols]))\n",
    "        print(\"Created moves columns:\\n\" + \"\\n\".join([f\"- {col}\" for col in move_cols]))\n",
    "        print(\"Created final position columns:\\n\" + \"\\n\".join([f\"- {col}\" for col in final_pos_cols]))\n",
    "        print(\"Created castling columns:\\n\" + \"\\n\".join([f\"- {col}\" for col in cstl_cols]))\n",
    "        print(\"\\nStarted with:\\n\" + \"\\n\".join([f\"- {col}\" for col in orig_cols]))\n",
    "    return games_df_out\n",
    "    \n",
    "all_games_df = add_new_columns(all_games_df_raw)\n",
    "all_games_df.sample(2)"
   ]
  },
  {
   "cell_type": "code",
   "execution_count": null,
   "id": "51c2f9a4",
   "metadata": {
    "ExecuteTime": {
     "end_time": "2024-09-15T00:32:35.900486Z",
     "start_time": "2024-09-15T00:32:35.900432Z"
    }
   },
   "outputs": [],
   "source": [
    "all_games_df.columns"
   ]
  },
  {
   "cell_type": "code",
   "execution_count": null,
   "id": "ba7f2aec",
   "metadata": {
    "ExecuteTime": {
     "end_time": "2024-09-15T00:32:35.902718Z",
     "start_time": "2024-09-15T00:32:35.902700Z"
    }
   },
   "outputs": [],
   "source": [
    "test_game = all_games_df.query(\"time_class == 'bullet'\").iloc[10]\n",
    "test_game"
   ]
  },
  {
   "cell_type": "markdown",
   "id": "6f16528a",
   "metadata": {},
   "source": [
    "## order the columns"
   ]
  },
  {
   "cell_type": "code",
   "execution_count": null,
   "id": "1b3efad5",
   "metadata": {
    "ExecuteTime": {
     "end_time": "2024-09-15T00:32:35.907957Z",
     "start_time": "2024-09-15T00:32:35.907938Z"
    }
   },
   "outputs": [],
   "source": [
    "all_cols_order = [\n",
    "    #meta\n",
    "    'date', 'start_time', 'end_time',\n",
    "    'time_class', 'time_control', 'rated', 'rules',\n",
    "    'url', 'moves',\n",
    "    'opening_code', 'opening_name',\n",
    "    'white_username', 'black_username',\n",
    "    'white_clock', 'black_clock',\n",
    "    \n",
    "    #ratings/results\n",
    "    'white_rating', 'black_rating',\n",
    "    'result', 'white_result', 'black_result',\n",
    "    'higher_rated_colour', 'winner', \n",
    "    'winner_rating_diff', 'user_rating_diff',\n",
    "    'user_win', 'user_colour', \n",
    "    'user_rating', 'move_numbers',\n",
    "     \n",
    "    #moves\n",
    "    'white_moves',  'black_moves',\n",
    "    'w_cstl_side', 'w_cstl_move', \n",
    "    'b_cstl_side', 'b_cstl_move',\n",
    "    'user_castled', 'opp_castled',\n",
    "    \n",
    "    #final position\n",
    "     'final_position_fen',\n",
    "    'winner_ttl_pieces_count','loser_ttl_pieces_count',\n",
    "    'winner_pawns_count', 'loser_pawns_count',\n",
    "    'winner_pieces_only_count', 'loser_pieces_only_count',\n",
    "    'pieces_count_diff', 'pawns_count_diff',\n",
    "    'winner_material_ttl', 'loser_material_ttl',\n",
    "    'winner_pcs', 'loser_pcs'\n",
    "]\n",
    "\n",
    "cols_pre = all_games_df.columns\n",
    "all_games_df = all_games_df[all_cols_order]\n",
    "\n",
    "removed_cols = [col for col in all_games_df.columns if col not in cols_pre]\n",
    "if removed_cols:\n",
    "    print(\"You have excluded the following columns:\\n\" + \"\\n\".join([f\"- {col}\" for col in removed_cols]))"
   ]
  },
  {
   "cell_type": "markdown",
   "id": "d95b9ca3",
   "metadata": {
    "ExecuteTime": {
     "end_time": "2024-06-26T22:18:58.655794Z",
     "start_time": "2024-06-26T22:18:58.616661Z"
    }
   },
   "source": [
    "## Save to file"
   ]
  },
  {
   "cell_type": "code",
   "execution_count": null,
   "id": "3b7d83a6",
   "metadata": {
    "ExecuteTime": {
     "end_time": "2024-09-15T00:32:35.911535Z",
     "start_time": "2024-09-15T00:32:35.911501Z"
    }
   },
   "outputs": [],
   "source": [
    "# filename = \"all_games_all_cols.csv\"\n",
    "# all_games_df.to_csv(os.path.join(\"..\",\"data\",filename), index=False)"
   ]
  },
  {
   "cell_type": "markdown",
   "id": "dcdaffa7",
   "metadata": {},
   "source": [
    "# Selecting data"
   ]
  },
  {
   "cell_type": "code",
   "execution_count": null,
   "id": "fad9de76",
   "metadata": {
    "ExecuteTime": {
     "end_time": "2024-09-15T00:32:35.916398Z",
     "start_time": "2024-09-15T00:32:35.916380Z"
    }
   },
   "outputs": [],
   "source": [
    "def exclude_games(df, diff_max = 400):\n",
    "    #if True, remove corresponding games\n",
    "    constraints = {\n",
    "        \"chess960\" : True,\n",
    "        \"daily\" : True,\n",
    "        \"unrated\" : True,\n",
    "        \"rating\": True,\n",
    "        \"drawn\" : False\n",
    "    }\n",
    "    \n",
    "    queries = {\n",
    "        #\"title\" : [ False_query, True_query] -> [to remove, to keep]\n",
    "        \"chess960\" : [\"rules != 'chess'\", \"rules == 'chess'\"],\n",
    "        \"unrated\" : [\"rated != True\", \"rated == True\"],\n",
    "        \"daily\" : [\"time_class == 'daily'\", \"time_class != 'daily'\"],\n",
    "        \"rating\" : [f\"abs(winner_rating_diff) > {diff_max}\", f\"abs(winner_rating_diff) <= {diff_max}\"],\n",
    "        \"drawn\" :[\"winner == 'DRAW'\", \"winner != 'DRAW'\"]\n",
    "    }\n",
    "    \n",
    "    selected_games_df = df.copy()\n",
    "    \n",
    "    for constraint, exclude in constraints.items():\n",
    "        exclude_df = df.query(queries[constraint][0])            \n",
    "        include_df = selected_games_df.query(queries[constraint][1])\n",
    "        suffix = \"include\"\n",
    "        \n",
    "        if exclude:\n",
    "            selected_games_df = include_df\n",
    "            suffix=\"exclude\"\n",
    "            \n",
    "        if constraint != \"rating\":\n",
    "            print(f\"Found {len(exclude_df)} {constraint} games to {suffix}\")\n",
    "        else:\n",
    "            print(f\"Found {len(exclude_df)} games with a rating difference over {diff_max} to {suffix}\")\n",
    "\n",
    "    print(f\"\\nExcluded a total of {len(df) - len(selected_games_df)} rows due to constraints\")\n",
    "    print(f\"Leaving {len(selected_games_df)} games to work with\")\n",
    "    \n",
    "    return selected_games_df\n",
    "    \n",
    "exclude_games(all_games_df)\n",
    "#test not excluding, test rating change"
   ]
  },
  {
   "cell_type": "markdown",
   "id": "8f25e42e",
   "metadata": {},
   "source": [
    "### Exclude rows"
   ]
  },
  {
   "cell_type": "code",
   "execution_count": null,
   "id": "126f677f",
   "metadata": {
    "ExecuteTime": {
     "end_time": "2024-09-15T00:32:35.920960Z",
     "start_time": "2024-09-15T00:32:35.920904Z"
    }
   },
   "outputs": [],
   "source": [
    "selected_games_df = all_games_df.copy()\n",
    "\n",
    "#exclude any chess960 games\n",
    "selected_games_df = all_games_df.query(\"rules == 'chess'\")\n",
    "\n",
    "#exclude unrated games\n",
    "selected_games_df = selected_games_df.query(\"rated == True\")\n",
    "\n",
    "#exclude daily games\n",
    "selected_games_df = selected_games_df.query(\"time_class != 'daily'\")\n",
    "\n",
    "#exclude excess rating diff\n",
    "diff_max = 400\n",
    "selected_games_df = selected_games_df.query(f\"abs(winner_rating_diff) <= {diff_max}\")\n",
    "\n",
    "print(f\"Excluded {len(all_games_df) - len(selected_games_df)} rows due to constraints\")\n",
    "print(f\"Leaves {len(selected_games_df)} games to work with\")\n",
    "\n",
    "draws_df = selected_games_df.query(\"winner=='DRAW'\") #result=='1/2-1/2'\n",
    "print(f\"Of which {len(draws_df)} are draws\")\n",
    "\n",
    "selected_games_df.sample(3)"
   ]
  },
  {
   "cell_type": "code",
   "execution_count": null,
   "id": "c3341bda",
   "metadata": {},
   "outputs": [],
   "source": []
  },
  {
   "cell_type": "markdown",
   "id": "19233a7e",
   "metadata": {},
   "source": [
    "### Select columns"
   ]
  },
  {
   "cell_type": "code",
   "execution_count": null,
   "id": "1cafebd0",
   "metadata": {
    "ExecuteTime": {
     "end_time": "2024-09-15T00:32:35.926711Z",
     "start_time": "2024-09-15T00:32:35.926671Z"
    }
   },
   "outputs": [],
   "source": [
    "select_cols = [\n",
    "        #metadata\n",
    "        'date', 'url',\n",
    "        'start_time', 'end_time', \n",
    "        'time_class', 'time_control',\n",
    "#         'rated', 'rules', #used to filter out unwanted games\n",
    "        'white_username', 'black_username', \"user_colour\",\n",
    "        #ratings/result\n",
    "        'result', 'winner', 'higher_rated_colour',\n",
    "        'white_rating', 'black_rating', \n",
    "        'white_result', 'black_result',\n",
    "        'winner_rating_diff', \"user_rating_diff\", \"user_rating\",\n",
    "        #specific moves of the game\n",
    "        'opening_name', 'opening_code',\n",
    "        'w_cstl_side', 'w_cstl_move', \n",
    "        'b_cstl_side', 'b_cstl_move',\n",
    "        'user_castled', 'opp_castled',\n",
    "        #final position stats\n",
    "        'winner_ttl_pieces_count', 'loser_ttl_pieces_count',\n",
    "        'winner_pawns_count', 'loser_pawns_count',\n",
    "        'winner_pieces_only_count', 'loser_pieces_only_count',\n",
    "        'pieces_count_diff', 'pawns_count_diff', \n",
    "        'winner_material_ttl', 'loser_material_ttl',\n",
    "        'winner_pcs', 'loser_pcs',\n",
    "        #target\n",
    "        'user_win' \n",
    "]\n",
    "\n",
    "selected_games_df = selected_games_df[select_cols]\n",
    "\n",
    "removed_cols = [col for col in all_games_df.columns if col not in selected_games_df.columns]\n",
    "print(\"You have excluded the following columns:\\n\" + \"\\n\".join([f\"- {col}\" for col in removed_cols]))\n",
    "\n"
   ]
  },
  {
   "cell_type": "markdown",
   "id": "2b375358",
   "metadata": {},
   "source": [
    "## Inspect selected data"
   ]
  },
  {
   "cell_type": "code",
   "execution_count": null,
   "id": "a65d852a",
   "metadata": {
    "ExecuteTime": {
     "end_time": "2024-09-15T00:32:35.930272Z",
     "start_time": "2024-09-15T00:32:35.930235Z"
    }
   },
   "outputs": [],
   "source": [
    "selected_games_df.sample(5)"
   ]
  },
  {
   "cell_type": "markdown",
   "id": "3f0292a4",
   "metadata": {},
   "source": [
    "## Save selected data"
   ]
  },
  {
   "cell_type": "code",
   "execution_count": null,
   "id": "49d67682",
   "metadata": {
    "ExecuteTime": {
     "end_time": "2024-09-15T00:32:35.935179Z",
     "start_time": "2024-09-15T00:32:35.935103Z"
    }
   },
   "outputs": [],
   "source": [
    "dates = [part for part in filename.split('_') if '-' in part]\n",
    "print(dates) "
   ]
  },
  {
   "cell_type": "code",
   "execution_count": null,
   "id": "9918acec",
   "metadata": {
    "ExecuteTime": {
     "end_time": "2024-09-15T00:32:35.939069Z",
     "start_time": "2024-09-15T00:32:35.939048Z"
    }
   },
   "outputs": [],
   "source": [
    "filename_select = f\"select_games_{dates[0]}_to_{dates[1]}_select_cols.csv\"\n",
    "selected_games_df.to_csv(os.path.join(\"..\",\"data\",filename), index=False)"
   ]
  },
  {
   "cell_type": "code",
   "execution_count": null,
   "id": "ea8ea2d3",
   "metadata": {},
   "outputs": [],
   "source": []
  }
 ],
 "metadata": {
  "kernelspec": {
   "display_name": "Python 3 (ipykernel)",
   "language": "python",
   "name": "python3"
  },
  "language_info": {
   "codemirror_mode": {
    "name": "ipython",
    "version": 3
   },
   "file_extension": ".py",
   "mimetype": "text/x-python",
   "name": "python",
   "nbconvert_exporter": "python",
   "pygments_lexer": "ipython3",
   "version": "3.10.6"
  },
  "toc": {
   "base_numbering": 1,
   "nav_menu": {},
   "number_sections": true,
   "sideBar": true,
   "skip_h1_title": false,
   "title_cell": "Table of Contents",
   "title_sidebar": "Contents",
   "toc_cell": false,
   "toc_position": {},
   "toc_section_display": true,
   "toc_window_display": false
  },
  "varInspector": {
   "cols": {
    "lenName": 16,
    "lenType": 16,
    "lenVar": 40
   },
   "kernels_config": {
    "python": {
     "delete_cmd_postfix": "",
     "delete_cmd_prefix": "del ",
     "library": "var_list.py",
     "varRefreshCmd": "print(var_dic_list())"
    },
    "r": {
     "delete_cmd_postfix": ") ",
     "delete_cmd_prefix": "rm(",
     "library": "var_list.r",
     "varRefreshCmd": "cat(var_dic_list()) "
    }
   },
   "types_to_exclude": [
    "module",
    "function",
    "builtin_function_or_method",
    "instance",
    "_Feature"
   ],
   "window_display": false
  }
 },
 "nbformat": 4,
 "nbformat_minor": 5
}
