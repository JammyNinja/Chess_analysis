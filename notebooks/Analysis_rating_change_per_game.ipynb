{
 "cells": [
  {
   "cell_type": "code",
   "execution_count": null,
   "id": "9c5b6db1",
   "metadata": {},
   "outputs": [],
   "source": []
  },
  {
   "cell_type": "markdown",
   "id": "ddbdc9c2",
   "metadata": {},
   "source": [
    "# imports"
   ]
  },
  {
   "cell_type": "code",
   "execution_count": 10,
   "id": "6803686d",
   "metadata": {
    "ExecuteTime": {
     "end_time": "2024-09-13T20:42:01.802046Z",
     "start_time": "2024-09-13T20:42:01.766651Z"
    }
   },
   "outputs": [
    {
     "name": "stdout",
     "output_type": "stream",
     "text": [
      "The autoreload extension is already loaded. To reload it, use:\n",
      "  %reload_ext autoreload\n"
     ]
    }
   ],
   "source": [
    "# standard imports\n",
    "import numpy as np\n",
    "import pandas as pd\n",
    "import matplotlib.pyplot as plt\n",
    "import seaborn as sns\n",
    "import os\n",
    "\n",
    "# magic lines\n",
    "%load_ext autoreload\n",
    "%autoreload 2\n",
    "%matplotlib inline"
   ]
  },
  {
   "cell_type": "markdown",
   "id": "9d156a65",
   "metadata": {
    "heading_collapsed": true
   },
   "source": [
    "## import my scripts"
   ]
  },
  {
   "cell_type": "code",
   "execution_count": 13,
   "id": "c221c88e",
   "metadata": {
    "ExecuteTime": {
     "end_time": "2024-09-13T20:45:16.320496Z",
     "start_time": "2024-09-13T20:45:16.278339Z"
    },
    "hidden": true
   },
   "outputs": [
    {
     "data": {
      "text/plain": [
       "['/home/louis/code/JammyNinja/Sandbox/Chess_analysis/notebooks',\n",
       " '/home/louis/code/JammyNinja/lectures/lecture_w3_d1_olist_project_setup/challenges_prep/data-context-and-setup',\n",
       " '/home/louis/.pyenv/versions/3.10.6/lib/python310.zip',\n",
       " '/home/louis/.pyenv/versions/3.10.6/lib/python3.10',\n",
       " '/home/louis/.pyenv/versions/3.10.6/lib/python3.10/lib-dynload',\n",
       " '',\n",
       " '/home/louis/.pyenv/versions/3.10.6/envs/lewagon/lib/python3.10/site-packages',\n",
       " '/home/louis/code/JammyNinja/Sandbox/Chess_analysis/scripts']"
      ]
     },
     "metadata": {},
     "output_type": "display_data"
    }
   ],
   "source": [
    "#import from my data.py\n",
    "#https://stackoverflow.com/a/57790804/6163759\n",
    "\n",
    "import sys\n",
    "module_path = os.path.abspath(os.path.join('..'))\n",
    "if module_path not in sys.path:\n",
    "    scripts_path = os.path.join(module_path, \"scripts\")\n",
    "    if scripts_path not in sys.path:\n",
    "        sys.path.append(scripts_path)\n",
    "    display(sys.path)\n",
    "    \n",
    "from data import get_data"
   ]
  },
  {
   "cell_type": "markdown",
   "id": "706fe60f",
   "metadata": {},
   "source": [
    "## Load (clean) data"
   ]
  },
  {
   "cell_type": "code",
   "execution_count": 14,
   "id": "0400ec6e",
   "metadata": {
    "ExecuteTime": {
     "end_time": "2024-09-13T20:45:27.025573Z",
     "start_time": "2024-09-13T20:45:22.726675Z"
    }
   },
   "outputs": [
    {
     "name": "stdout",
     "output_type": "stream",
     "text": [
      "Looking for all games of chess played on Chess.com by JammyNinja\n",
      "          between 2023-01 and 2024-09\n",
      "file /home/louis/code/JammyNinja/Sandbox/Chess_analysis/data/all_games_2023-01_to_2024-09_raw.csv already exists!\n",
      "Do you want to download all games again?\n",
      ">>(Have you played more since last running this?)\n",
      "y/n:n\n"
     ]
    }
   ],
   "source": [
    "get_data()"
   ]
  },
  {
   "cell_type": "code",
   "execution_count": 17,
   "id": "d712e554",
   "metadata": {
    "ExecuteTime": {
     "end_time": "2024-09-13T20:48:38.307300Z",
     "start_time": "2024-09-13T20:48:37.159847Z"
    }
   },
   "outputs": [
    {
     "name": "stdout",
     "output_type": "stream",
     "text": [
      "Looking for all games of chess played on Chess.com by JammyNinja\n",
      "          between 2023-01 and 2024-09\n",
      "file /home/louis/code/JammyNinja/Sandbox/Chess_analysis/data/all_games_2023-01_to_2024-09_raw.csv already exists!\n",
      "Do you want to download all games again?\n",
      ">>(Have you played more since last running this?)\n",
      "y/n:n\n"
     ]
    }
   ],
   "source": [
    "# filename = \"select_games_2023-01_to_2024-06_select_cols.csv\"\n",
    "# filepath = os.path.join(\"..\",\"data\", filename)\n",
    "# all_games_df = pd.read_csv(fileapath)\n",
    "all_games_df = get_data()"
   ]
  },
  {
   "cell_type": "code",
   "execution_count": 18,
   "id": "b14f203c",
   "metadata": {
    "ExecuteTime": {
     "end_time": "2024-09-13T20:48:38.925635Z",
     "start_time": "2024-09-13T20:48:38.894286Z"
    }
   },
   "outputs": [
    {
     "data": {
      "text/plain": [
       "date                                                         2023-01-07\n",
       "start_time                                          2023-01-07 08:17:06\n",
       "end_time                                            2023-01-07 14:35:53\n",
       "time_class                                                        daily\n",
       "time_control                                                   1/604800\n",
       "rated                                                              True\n",
       "rules                                                             chess\n",
       "url                   https://www.chess.com/game/42d2c63a-4a06-11ed-...\n",
       "moves                 1. e4 {[%clk 0:56:50.2] 1... c6 {[%clk 0:27:49...\n",
       "final_position_fen    2r1k2r/pp3ppp/q7/4pb2/1b1P4/1P2B3/1P3PPP/K2R2N...\n",
       "opening_code                                                        B10\n",
       "opening_name                  Caro-Kann-Defense-Hillbilly-Attack-2...d5\n",
       "white_username                                                sylvainau\n",
       "black_username                                               JammyNinja\n",
       "result                                                              0-1\n",
       "white_rating                                                       1298\n",
       "black_rating                                                       1461\n",
       "white_result                                                 checkmated\n",
       "black_result                                                        win\n",
       "Name: 0, dtype: object"
      ]
     },
     "execution_count": 18,
     "metadata": {},
     "output_type": "execute_result"
    }
   ],
   "source": [
    "all_games_df.iloc[0]"
   ]
  },
  {
   "cell_type": "code",
   "execution_count": null,
   "id": "26369401",
   "metadata": {},
   "outputs": [],
   "source": []
  },
  {
   "cell_type": "code",
   "execution_count": null,
   "id": "c31bcf73",
   "metadata": {},
   "outputs": [],
   "source": []
  }
 ],
 "metadata": {
  "kernelspec": {
   "display_name": "Python 3 (ipykernel)",
   "language": "python",
   "name": "python3"
  },
  "language_info": {
   "codemirror_mode": {
    "name": "ipython",
    "version": 3
   },
   "file_extension": ".py",
   "mimetype": "text/x-python",
   "name": "python",
   "nbconvert_exporter": "python",
   "pygments_lexer": "ipython3",
   "version": "3.10.6"
  },
  "toc": {
   "base_numbering": 1,
   "nav_menu": {},
   "number_sections": true,
   "sideBar": true,
   "skip_h1_title": false,
   "title_cell": "Table of Contents",
   "title_sidebar": "Contents",
   "toc_cell": false,
   "toc_position": {},
   "toc_section_display": true,
   "toc_window_display": false
  },
  "varInspector": {
   "cols": {
    "lenName": 16,
    "lenType": 16,
    "lenVar": 40
   },
   "kernels_config": {
    "python": {
     "delete_cmd_postfix": "",
     "delete_cmd_prefix": "del ",
     "library": "var_list.py",
     "varRefreshCmd": "print(var_dic_list())"
    },
    "r": {
     "delete_cmd_postfix": ") ",
     "delete_cmd_prefix": "rm(",
     "library": "var_list.r",
     "varRefreshCmd": "cat(var_dic_list()) "
    }
   },
   "types_to_exclude": [
    "module",
    "function",
    "builtin_function_or_method",
    "instance",
    "_Feature"
   ],
   "window_display": false
  }
 },
 "nbformat": 4,
 "nbformat_minor": 5
}
