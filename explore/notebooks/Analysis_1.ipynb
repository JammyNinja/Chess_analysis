{
 "cells": [
  {
   "cell_type": "markdown",
   "id": "9cf71e4d",
   "metadata": {
    "ExecuteTime": {
     "end_time": "2024-06-26T22:09:03.768242Z",
     "start_time": "2024-06-26T22:09:03.762856Z"
    }
   },
   "source": [
    "# Imports"
   ]
  },
  {
   "cell_type": "code",
   "execution_count": 1,
   "id": "f29595b3",
   "metadata": {
    "ExecuteTime": {
     "end_time": "2024-08-18T04:04:02.264342Z",
     "start_time": "2024-08-18T04:03:56.566907Z"
    }
   },
   "outputs": [],
   "source": [
    "# standard imports\n",
    "import numpy as np\n",
    "import pandas as pd\n",
    "import matplotlib.pyplot as plt\n",
    "import seaborn as sns\n",
    "\n",
    "# magic lines\n",
    "%load_ext autoreload\n",
    "%autoreload 2\n",
    "%matplotlib inline"
   ]
  },
  {
   "cell_type": "code",
   "execution_count": 2,
   "id": "99497808",
   "metadata": {
    "ExecuteTime": {
     "end_time": "2024-08-18T04:04:02.453183Z",
     "start_time": "2024-08-18T04:04:02.384563Z"
    }
   },
   "outputs": [],
   "source": [
    "import os"
   ]
  },
  {
   "cell_type": "markdown",
   "id": "93f0265e",
   "metadata": {},
   "source": [
    "# Load clean data"
   ]
  },
  {
   "cell_type": "code",
   "execution_count": 3,
   "id": "480f25fd",
   "metadata": {
    "ExecuteTime": {
     "end_time": "2024-08-18T04:04:02.921107Z",
     "start_time": "2024-08-18T04:04:02.502221Z"
    }
   },
   "outputs": [],
   "source": [
    "filename = \"all_games_2023-01_to_2024-06_all_cols.csv\"\n",
    "filepath = os.path.join(\"..\",\"data\", filename)\n",
    "all_games_df = pd.read_csv(filepath)"
   ]
  },
  {
   "cell_type": "code",
   "execution_count": 4,
   "id": "eb552841",
   "metadata": {
    "ExecuteTime": {
     "end_time": "2024-08-18T04:04:03.149487Z",
     "start_time": "2024-08-18T04:04:03.052981Z"
    }
   },
   "outputs": [
    {
     "data": {
      "text/html": [
       "<div>\n",
       "<style scoped>\n",
       "    .dataframe tbody tr th:only-of-type {\n",
       "        vertical-align: middle;\n",
       "    }\n",
       "\n",
       "    .dataframe tbody tr th {\n",
       "        vertical-align: top;\n",
       "    }\n",
       "\n",
       "    .dataframe thead th {\n",
       "        text-align: right;\n",
       "    }\n",
       "</style>\n",
       "<table border=\"1\" class=\"dataframe\">\n",
       "  <thead>\n",
       "    <tr style=\"text-align: right;\">\n",
       "      <th></th>\n",
       "      <th>date</th>\n",
       "      <th>start_time</th>\n",
       "      <th>end_time</th>\n",
       "      <th>time_class</th>\n",
       "      <th>time_control</th>\n",
       "      <th>rated</th>\n",
       "      <th>rules</th>\n",
       "      <th>url</th>\n",
       "      <th>moves</th>\n",
       "      <th>opening_code</th>\n",
       "      <th>...</th>\n",
       "      <th>winner_pawns_count</th>\n",
       "      <th>loser_pawns_count</th>\n",
       "      <th>winner_pieces_only_count</th>\n",
       "      <th>loser_pieces_only_count</th>\n",
       "      <th>pieces_count_diff</th>\n",
       "      <th>pawns_count_diff</th>\n",
       "      <th>winner_material_ttl</th>\n",
       "      <th>loser_material_ttl</th>\n",
       "      <th>winner_pcs</th>\n",
       "      <th>loser_pcs</th>\n",
       "    </tr>\n",
       "  </thead>\n",
       "  <tbody>\n",
       "    <tr>\n",
       "      <th>0</th>\n",
       "      <td>2023-01-07</td>\n",
       "      <td>2023-01-07 08:17:06</td>\n",
       "      <td>2023-01-07 14:35:53</td>\n",
       "      <td>daily</td>\n",
       "      <td>1/604800</td>\n",
       "      <td>True</td>\n",
       "      <td>chess</td>\n",
       "      <td>https://www.chess.com/game/daily/437377841</td>\n",
       "      <td>1. e4 {[%clk 158:31:38] 1... c6 {[%clk 163:21:...</td>\n",
       "      <td>B10</td>\n",
       "      <td>...</td>\n",
       "      <td>6</td>\n",
       "      <td>6</td>\n",
       "      <td>5</td>\n",
       "      <td>4</td>\n",
       "      <td>1</td>\n",
       "      <td>0</td>\n",
       "      <td>31</td>\n",
       "      <td>22</td>\n",
       "      <td>['r', 'k', 'r', 'p', 'p', 'p', 'p', 'p', 'q', ...</td>\n",
       "      <td>['P', 'P', 'B', 'P', 'P', 'P', 'P', 'K', 'R', ...</td>\n",
       "    </tr>\n",
       "    <tr>\n",
       "      <th>1</th>\n",
       "      <td>2023-01-14</td>\n",
       "      <td>2023-01-14 11:34:48</td>\n",
       "      <td>2023-01-14 15:09:28</td>\n",
       "      <td>daily</td>\n",
       "      <td>1/604800</td>\n",
       "      <td>True</td>\n",
       "      <td>chess</td>\n",
       "      <td>https://www.chess.com/game/daily/448245095</td>\n",
       "      <td>1. e4 {[%clk 167:35:57] 1... c5 {[%clk 165:23:...</td>\n",
       "      <td>B22</td>\n",
       "      <td>...</td>\n",
       "      <td>5</td>\n",
       "      <td>6</td>\n",
       "      <td>6</td>\n",
       "      <td>6</td>\n",
       "      <td>0</td>\n",
       "      <td>-1</td>\n",
       "      <td>33</td>\n",
       "      <td>34</td>\n",
       "      <td>['r', 'q', 'r', 'b', 'b', 'p', 'k', 'p', 'p', ...</td>\n",
       "      <td>['B', 'Q', 'P', 'N', 'P', 'P', 'P', 'P', 'P', ...</td>\n",
       "    </tr>\n",
       "    <tr>\n",
       "      <th>2</th>\n",
       "      <td>2023-01-30</td>\n",
       "      <td>2023-01-30 17:32:36</td>\n",
       "      <td>2023-01-30 07:50:02</td>\n",
       "      <td>daily</td>\n",
       "      <td>1/604800</td>\n",
       "      <td>True</td>\n",
       "      <td>chess</td>\n",
       "      <td>https://www.chess.com/game/daily/436095119</td>\n",
       "      <td>1. e4 {[%clk 167:38:55] 1... c6 {[%clk 163:21:...</td>\n",
       "      <td>B10</td>\n",
       "      <td>...</td>\n",
       "      <td>7</td>\n",
       "      <td>7</td>\n",
       "      <td>3</td>\n",
       "      <td>3</td>\n",
       "      <td>0</td>\n",
       "      <td>0</td>\n",
       "      <td>20</td>\n",
       "      <td>20</td>\n",
       "      <td>['r', 'r', 'k', 'n', 'p', 'p', 'p', 'p', 'p', ...</td>\n",
       "      <td>['P', 'P', 'P', 'R', 'P', 'P', 'N', 'P', 'P', ...</td>\n",
       "    </tr>\n",
       "    <tr>\n",
       "      <th>3</th>\n",
       "      <td>2023-01-30</td>\n",
       "      <td>2023-01-30 21:29:25</td>\n",
       "      <td>2023-01-30 21:39:52</td>\n",
       "      <td>blitz</td>\n",
       "      <td>300</td>\n",
       "      <td>True</td>\n",
       "      <td>chess</td>\n",
       "      <td>https://www.chess.com/game/live/68853253455</td>\n",
       "      <td>1. Nf3 {[%clk 0:04:54.9] 1... d5 {[%clk 0:04:5...</td>\n",
       "      <td>A09</td>\n",
       "      <td>...</td>\n",
       "      <td>0</td>\n",
       "      <td>0</td>\n",
       "      <td>1</td>\n",
       "      <td>0</td>\n",
       "      <td>1</td>\n",
       "      <td>0</td>\n",
       "      <td>9</td>\n",
       "      <td>0</td>\n",
       "      <td>['K', 'Q']</td>\n",
       "      <td>['k']</td>\n",
       "    </tr>\n",
       "    <tr>\n",
       "      <th>4</th>\n",
       "      <td>2023-02-07</td>\n",
       "      <td>2023-02-07 20:18:19</td>\n",
       "      <td>2023-02-07 19:25:50</td>\n",
       "      <td>daily</td>\n",
       "      <td>1/604800</td>\n",
       "      <td>True</td>\n",
       "      <td>chess</td>\n",
       "      <td>https://www.chess.com/game/daily/472634081</td>\n",
       "      <td>1. c4 {[%clk 164:52:18] 1... e5 {[%clk 125:36:...</td>\n",
       "      <td>A21</td>\n",
       "      <td>...</td>\n",
       "      <td>8</td>\n",
       "      <td>8</td>\n",
       "      <td>7</td>\n",
       "      <td>7</td>\n",
       "      <td>0</td>\n",
       "      <td>0</td>\n",
       "      <td>39</td>\n",
       "      <td>39</td>\n",
       "      <td>['r', 'n', 'b', 'q', 'k', 'n', 'r', 'p', 'p', ...</td>\n",
       "      <td>['P', 'N', 'P', 'P', 'P', 'P', 'P', 'P', 'P', ...</td>\n",
       "    </tr>\n",
       "    <tr>\n",
       "      <th>...</th>\n",
       "      <td>...</td>\n",
       "      <td>...</td>\n",
       "      <td>...</td>\n",
       "      <td>...</td>\n",
       "      <td>...</td>\n",
       "      <td>...</td>\n",
       "      <td>...</td>\n",
       "      <td>...</td>\n",
       "      <td>...</td>\n",
       "      <td>...</td>\n",
       "      <td>...</td>\n",
       "      <td>...</td>\n",
       "      <td>...</td>\n",
       "      <td>...</td>\n",
       "      <td>...</td>\n",
       "      <td>...</td>\n",
       "      <td>...</td>\n",
       "      <td>...</td>\n",
       "      <td>...</td>\n",
       "      <td>...</td>\n",
       "      <td>...</td>\n",
       "    </tr>\n",
       "    <tr>\n",
       "      <th>3203</th>\n",
       "      <td>2024-05-31</td>\n",
       "      <td>2024-05-31 12:33:22</td>\n",
       "      <td>2024-05-31 12:35:40</td>\n",
       "      <td>bullet</td>\n",
       "      <td>60</td>\n",
       "      <td>True</td>\n",
       "      <td>chess</td>\n",
       "      <td>https://www.chess.com/game/live/110898007115</td>\n",
       "      <td>1. e4 {[%clk 0:01:00] 1... d5 {[%clk 0:00:59.9...</td>\n",
       "      <td>B01</td>\n",
       "      <td>...</td>\n",
       "      <td>2</td>\n",
       "      <td>0</td>\n",
       "      <td>4</td>\n",
       "      <td>0</td>\n",
       "      <td>4</td>\n",
       "      <td>2</td>\n",
       "      <td>22</td>\n",
       "      <td>0</td>\n",
       "      <td>['R', 'Q', 'N', 'P', 'P', 'K', 'N']</td>\n",
       "      <td>['k']</td>\n",
       "    </tr>\n",
       "    <tr>\n",
       "      <th>3204</th>\n",
       "      <td>2024-05-31</td>\n",
       "      <td>2024-05-31 12:35:50</td>\n",
       "      <td>2024-05-31 12:37:37</td>\n",
       "      <td>bullet</td>\n",
       "      <td>60</td>\n",
       "      <td>True</td>\n",
       "      <td>chess</td>\n",
       "      <td>https://www.chess.com/game/live/110898034915</td>\n",
       "      <td>1. e4 {[%clk 0:01:00] 1... e6 {[%clk 0:01:00] ...</td>\n",
       "      <td>C00</td>\n",
       "      <td>...</td>\n",
       "      <td>6</td>\n",
       "      <td>5</td>\n",
       "      <td>5</td>\n",
       "      <td>5</td>\n",
       "      <td>0</td>\n",
       "      <td>1</td>\n",
       "      <td>31</td>\n",
       "      <td>30</td>\n",
       "      <td>['R', 'P', 'P', 'N', 'Q', 'P', 'B', 'P', 'P', ...</td>\n",
       "      <td>['r', 'q', 'r', 'k', 'p', 'b', 'p', 'p', 'p', ...</td>\n",
       "    </tr>\n",
       "    <tr>\n",
       "      <th>3205</th>\n",
       "      <td>2024-05-31</td>\n",
       "      <td>2024-05-31 12:37:42</td>\n",
       "      <td>2024-05-31 12:39:28</td>\n",
       "      <td>bullet</td>\n",
       "      <td>60</td>\n",
       "      <td>True</td>\n",
       "      <td>chess</td>\n",
       "      <td>https://www.chess.com/game/live/110898057561</td>\n",
       "      <td>1. e4 {[%clk 0:01:00] 1... e5 {[%clk 0:01:00] ...</td>\n",
       "      <td>C50</td>\n",
       "      <td>...</td>\n",
       "      <td>5</td>\n",
       "      <td>5</td>\n",
       "      <td>2</td>\n",
       "      <td>2</td>\n",
       "      <td>0</td>\n",
       "      <td>0</td>\n",
       "      <td>19</td>\n",
       "      <td>15</td>\n",
       "      <td>['r', 'k', 'p', 'p', 'p', 'p', 'p', 'q']</td>\n",
       "      <td>['P', 'P', 'P', 'P', 'P', 'R', 'R', 'K']</td>\n",
       "    </tr>\n",
       "    <tr>\n",
       "      <th>3206</th>\n",
       "      <td>2024-05-31</td>\n",
       "      <td>2024-05-31 13:49:35</td>\n",
       "      <td>2024-05-31 13:51:50</td>\n",
       "      <td>bullet</td>\n",
       "      <td>60</td>\n",
       "      <td>True</td>\n",
       "      <td>chess</td>\n",
       "      <td>https://www.chess.com/game/live/110902287015</td>\n",
       "      <td>1. e4 {[%clk 0:01:00] 1... d5 {[%clk 0:01:00] ...</td>\n",
       "      <td>B01</td>\n",
       "      <td>...</td>\n",
       "      <td>4</td>\n",
       "      <td>4</td>\n",
       "      <td>3</td>\n",
       "      <td>0</td>\n",
       "      <td>3</td>\n",
       "      <td>0</td>\n",
       "      <td>21</td>\n",
       "      <td>4</td>\n",
       "      <td>['Q', 'R', 'P', 'P', 'P', 'N', 'P', 'K']</td>\n",
       "      <td>['k', 'p', 'p', 'p', 'p']</td>\n",
       "    </tr>\n",
       "    <tr>\n",
       "      <th>3207</th>\n",
       "      <td>2024-05-31</td>\n",
       "      <td>2024-05-31 13:52:26</td>\n",
       "      <td>2024-05-31 13:53:00</td>\n",
       "      <td>bullet</td>\n",
       "      <td>60</td>\n",
       "      <td>True</td>\n",
       "      <td>chess</td>\n",
       "      <td>https://www.chess.com/game/live/110902322717</td>\n",
       "      <td>1. e4 {[%clk 0:01:00] 1... g6 {[%clk 0:01:00] ...</td>\n",
       "      <td>B06</td>\n",
       "      <td>...</td>\n",
       "      <td>8</td>\n",
       "      <td>8</td>\n",
       "      <td>6</td>\n",
       "      <td>4</td>\n",
       "      <td>2</td>\n",
       "      <td>0</td>\n",
       "      <td>36</td>\n",
       "      <td>22</td>\n",
       "      <td>['r', 'q', 'r', 'b', 'n', 'p', 'p', 'k', 'p', ...</td>\n",
       "      <td>['P', 'P', 'P', 'N', 'P', 'P', 'P', 'N', 'B', ...</td>\n",
       "    </tr>\n",
       "  </tbody>\n",
       "</table>\n",
       "<p>3208 rows × 48 columns</p>\n",
       "</div>"
      ],
      "text/plain": [
       "            date           start_time             end_time time_class  \\\n",
       "0     2023-01-07  2023-01-07 08:17:06  2023-01-07 14:35:53      daily   \n",
       "1     2023-01-14  2023-01-14 11:34:48  2023-01-14 15:09:28      daily   \n",
       "2     2023-01-30  2023-01-30 17:32:36  2023-01-30 07:50:02      daily   \n",
       "3     2023-01-30  2023-01-30 21:29:25  2023-01-30 21:39:52      blitz   \n",
       "4     2023-02-07  2023-02-07 20:18:19  2023-02-07 19:25:50      daily   \n",
       "...          ...                  ...                  ...        ...   \n",
       "3203  2024-05-31  2024-05-31 12:33:22  2024-05-31 12:35:40     bullet   \n",
       "3204  2024-05-31  2024-05-31 12:35:50  2024-05-31 12:37:37     bullet   \n",
       "3205  2024-05-31  2024-05-31 12:37:42  2024-05-31 12:39:28     bullet   \n",
       "3206  2024-05-31  2024-05-31 13:49:35  2024-05-31 13:51:50     bullet   \n",
       "3207  2024-05-31  2024-05-31 13:52:26  2024-05-31 13:53:00     bullet   \n",
       "\n",
       "     time_control  rated  rules                                           url  \\\n",
       "0        1/604800   True  chess    https://www.chess.com/game/daily/437377841   \n",
       "1        1/604800   True  chess    https://www.chess.com/game/daily/448245095   \n",
       "2        1/604800   True  chess    https://www.chess.com/game/daily/436095119   \n",
       "3             300   True  chess   https://www.chess.com/game/live/68853253455   \n",
       "4        1/604800   True  chess    https://www.chess.com/game/daily/472634081   \n",
       "...           ...    ...    ...                                           ...   \n",
       "3203           60   True  chess  https://www.chess.com/game/live/110898007115   \n",
       "3204           60   True  chess  https://www.chess.com/game/live/110898034915   \n",
       "3205           60   True  chess  https://www.chess.com/game/live/110898057561   \n",
       "3206           60   True  chess  https://www.chess.com/game/live/110902287015   \n",
       "3207           60   True  chess  https://www.chess.com/game/live/110902322717   \n",
       "\n",
       "                                                  moves opening_code  ...  \\\n",
       "0     1. e4 {[%clk 158:31:38] 1... c6 {[%clk 163:21:...          B10  ...   \n",
       "1     1. e4 {[%clk 167:35:57] 1... c5 {[%clk 165:23:...          B22  ...   \n",
       "2     1. e4 {[%clk 167:38:55] 1... c6 {[%clk 163:21:...          B10  ...   \n",
       "3     1. Nf3 {[%clk 0:04:54.9] 1... d5 {[%clk 0:04:5...          A09  ...   \n",
       "4     1. c4 {[%clk 164:52:18] 1... e5 {[%clk 125:36:...          A21  ...   \n",
       "...                                                 ...          ...  ...   \n",
       "3203  1. e4 {[%clk 0:01:00] 1... d5 {[%clk 0:00:59.9...          B01  ...   \n",
       "3204  1. e4 {[%clk 0:01:00] 1... e6 {[%clk 0:01:00] ...          C00  ...   \n",
       "3205  1. e4 {[%clk 0:01:00] 1... e5 {[%clk 0:01:00] ...          C50  ...   \n",
       "3206  1. e4 {[%clk 0:01:00] 1... d5 {[%clk 0:01:00] ...          B01  ...   \n",
       "3207  1. e4 {[%clk 0:01:00] 1... g6 {[%clk 0:01:00] ...          B06  ...   \n",
       "\n",
       "     winner_pawns_count loser_pawns_count winner_pieces_only_count  \\\n",
       "0                     6                 6                        5   \n",
       "1                     5                 6                        6   \n",
       "2                     7                 7                        3   \n",
       "3                     0                 0                        1   \n",
       "4                     8                 8                        7   \n",
       "...                 ...               ...                      ...   \n",
       "3203                  2                 0                        4   \n",
       "3204                  6                 5                        5   \n",
       "3205                  5                 5                        2   \n",
       "3206                  4                 4                        3   \n",
       "3207                  8                 8                        6   \n",
       "\n",
       "     loser_pieces_only_count pieces_count_diff  pawns_count_diff  \\\n",
       "0                          4                 1                 0   \n",
       "1                          6                 0                -1   \n",
       "2                          3                 0                 0   \n",
       "3                          0                 1                 0   \n",
       "4                          7                 0                 0   \n",
       "...                      ...               ...               ...   \n",
       "3203                       0                 4                 2   \n",
       "3204                       5                 0                 1   \n",
       "3205                       2                 0                 0   \n",
       "3206                       0                 3                 0   \n",
       "3207                       4                 2                 0   \n",
       "\n",
       "      winner_material_ttl loser_material_ttl  \\\n",
       "0                      31                 22   \n",
       "1                      33                 34   \n",
       "2                      20                 20   \n",
       "3                       9                  0   \n",
       "4                      39                 39   \n",
       "...                   ...                ...   \n",
       "3203                   22                  0   \n",
       "3204                   31                 30   \n",
       "3205                   19                 15   \n",
       "3206                   21                  4   \n",
       "3207                   36                 22   \n",
       "\n",
       "                                             winner_pcs  \\\n",
       "0     ['r', 'k', 'r', 'p', 'p', 'p', 'p', 'p', 'q', ...   \n",
       "1     ['r', 'q', 'r', 'b', 'b', 'p', 'k', 'p', 'p', ...   \n",
       "2     ['r', 'r', 'k', 'n', 'p', 'p', 'p', 'p', 'p', ...   \n",
       "3                                            ['K', 'Q']   \n",
       "4     ['r', 'n', 'b', 'q', 'k', 'n', 'r', 'p', 'p', ...   \n",
       "...                                                 ...   \n",
       "3203                ['R', 'Q', 'N', 'P', 'P', 'K', 'N']   \n",
       "3204  ['R', 'P', 'P', 'N', 'Q', 'P', 'B', 'P', 'P', ...   \n",
       "3205           ['r', 'k', 'p', 'p', 'p', 'p', 'p', 'q']   \n",
       "3206           ['Q', 'R', 'P', 'P', 'P', 'N', 'P', 'K']   \n",
       "3207  ['r', 'q', 'r', 'b', 'n', 'p', 'p', 'k', 'p', ...   \n",
       "\n",
       "                                              loser_pcs  \n",
       "0     ['P', 'P', 'B', 'P', 'P', 'P', 'P', 'K', 'R', ...  \n",
       "1     ['B', 'Q', 'P', 'N', 'P', 'P', 'P', 'P', 'P', ...  \n",
       "2     ['P', 'P', 'P', 'R', 'P', 'P', 'N', 'P', 'P', ...  \n",
       "3                                                 ['k']  \n",
       "4     ['P', 'N', 'P', 'P', 'P', 'P', 'P', 'P', 'P', ...  \n",
       "...                                                 ...  \n",
       "3203                                              ['k']  \n",
       "3204  ['r', 'q', 'r', 'k', 'p', 'b', 'p', 'p', 'p', ...  \n",
       "3205           ['P', 'P', 'P', 'P', 'P', 'R', 'R', 'K']  \n",
       "3206                          ['k', 'p', 'p', 'p', 'p']  \n",
       "3207  ['P', 'P', 'P', 'N', 'P', 'P', 'P', 'N', 'B', ...  \n",
       "\n",
       "[3208 rows x 48 columns]"
      ]
     },
     "execution_count": 4,
     "metadata": {},
     "output_type": "execute_result"
    }
   ],
   "source": [
    "all_games_df"
   ]
  },
  {
   "cell_type": "code",
   "execution_count": null,
   "id": "c8052c3c",
   "metadata": {},
   "outputs": [],
   "source": []
  },
  {
   "cell_type": "markdown",
   "id": "5b9c62c4",
   "metadata": {},
   "source": [
    "# Analyses"
   ]
  },
  {
   "cell_type": "markdown",
   "id": "6a5029e3",
   "metadata": {},
   "source": [
    "## Castling"
   ]
  },
  {
   "cell_type": "code",
   "execution_count": 14,
   "id": "58d23109",
   "metadata": {
    "ExecuteTime": {
     "end_time": "2024-06-28T12:01:47.587980Z",
     "start_time": "2024-06-28T12:01:47.525083Z"
    }
   },
   "outputs": [
    {
     "data": {
      "text/html": [
       "<div>\n",
       "<style scoped>\n",
       "    .dataframe tbody tr th:only-of-type {\n",
       "        vertical-align: middle;\n",
       "    }\n",
       "\n",
       "    .dataframe tbody tr th {\n",
       "        vertical-align: top;\n",
       "    }\n",
       "\n",
       "    .dataframe thead th {\n",
       "        text-align: right;\n",
       "    }\n",
       "</style>\n",
       "<table border=\"1\" class=\"dataframe\">\n",
       "  <thead>\n",
       "    <tr style=\"text-align: right;\">\n",
       "      <th></th>\n",
       "      <th>user_castled</th>\n",
       "      <th>opp_castled</th>\n",
       "    </tr>\n",
       "    <tr>\n",
       "      <th>user_win</th>\n",
       "      <th></th>\n",
       "      <th></th>\n",
       "    </tr>\n",
       "  </thead>\n",
       "  <tbody>\n",
       "    <tr>\n",
       "      <th>False</th>\n",
       "      <td>0.80517</td>\n",
       "      <td>0.801387</td>\n",
       "    </tr>\n",
       "    <tr>\n",
       "      <th>True</th>\n",
       "      <td>0.82984</td>\n",
       "      <td>0.750925</td>\n",
       "    </tr>\n",
       "  </tbody>\n",
       "</table>\n",
       "</div>"
      ],
      "text/plain": [
       "          user_castled  opp_castled\n",
       "user_win                           \n",
       "False          0.80517     0.801387\n",
       "True           0.82984     0.750925"
      ]
     },
     "execution_count": 14,
     "metadata": {},
     "output_type": "execute_result"
    }
   ],
   "source": [
    "castle_df = all_games_df[[\"user_castled\", \"opp_castled\", \"user_colour\", \"user_win\"]]\n",
    "\n",
    "castle_df = castle_df.query(\"user_win != 'DRAW'\")\n",
    "castle_df\n",
    "\n",
    "castle_df.groupby(\"user_win\").mean()"
   ]
  },
  {
   "cell_type": "code",
   "execution_count": null,
   "id": "d2b4b921",
   "metadata": {},
   "outputs": [],
   "source": []
  },
  {
   "cell_type": "markdown",
   "id": "64e7a3f5",
   "metadata": {},
   "source": [
    "## Rating"
   ]
  },
  {
   "cell_type": "code",
   "execution_count": 25,
   "id": "64c086d5",
   "metadata": {
    "ExecuteTime": {
     "end_time": "2024-06-28T12:10:30.164110Z",
     "start_time": "2024-06-28T12:10:30.132183Z"
    }
   },
   "outputs": [
    {
     "data": {
      "text/plain": [
       "Index(['date', 'start_time', 'end_time', 'time_class', 'time_control', 'rated',\n",
       "       'rules', 'url', 'moves', 'opening_code', 'opening_name',\n",
       "       'white_username', 'black_username', 'white_clock', 'black_clock',\n",
       "       'white_rating', 'black_rating', 'result', 'white_result',\n",
       "       'black_result', 'higher_rated_colour', 'winner', 'winner_rating_diff',\n",
       "       'user_rating_diff', 'user_win', 'user_colour', 'move_numbers',\n",
       "       'white_moves', 'black_moves', 'w_cstl_side', 'w_cstl_move',\n",
       "       'b_cstl_side', 'b_cstl_move', 'user_castled', 'opp_castled',\n",
       "       'final_position_fen', 'winner_ttl_pieces_count',\n",
       "       'loser_ttl_pieces_count', 'winner_pawns_count', 'loser_pawns_count',\n",
       "       'winner_pieces_only_count', 'loser_pieces_only_count',\n",
       "       'pieces_count_diff', 'pawns_count_diff', 'winner_material_ttl',\n",
       "       'loser_material_ttl', 'winner_pcs', 'loser_pcs'],\n",
       "      dtype='object')"
      ]
     },
     "execution_count": 25,
     "metadata": {},
     "output_type": "execute_result"
    }
   ],
   "source": [
    "all_games_df.columns"
   ]
  },
  {
   "cell_type": "code",
   "execution_count": 27,
   "id": "0b824b9c",
   "metadata": {
    "ExecuteTime": {
     "end_time": "2024-06-28T12:11:10.429747Z",
     "start_time": "2024-06-28T12:11:10.395453Z"
    }
   },
   "outputs": [],
   "source": [
    "rating_cols = ['white_rating', 'black_rating', 'result', 'white_result',\n",
    "       'black_result', 'higher_rated_colour', 'winner', 'winner_rating_diff',\n",
    "       'user_rating_diff', 'user_win', 'user_colour', 'time_class']\n",
    "rating_df = all_games_df[rating_cols]"
   ]
  },
  {
   "cell_type": "code",
   "execution_count": 28,
   "id": "2eb8e83f",
   "metadata": {
    "ExecuteTime": {
     "end_time": "2024-06-28T12:11:10.667275Z",
     "start_time": "2024-06-28T12:11:10.623457Z"
    }
   },
   "outputs": [
    {
     "data": {
      "text/html": [
       "<div>\n",
       "<style scoped>\n",
       "    .dataframe tbody tr th:only-of-type {\n",
       "        vertical-align: middle;\n",
       "    }\n",
       "\n",
       "    .dataframe tbody tr th {\n",
       "        vertical-align: top;\n",
       "    }\n",
       "\n",
       "    .dataframe thead th {\n",
       "        text-align: right;\n",
       "    }\n",
       "</style>\n",
       "<table border=\"1\" class=\"dataframe\">\n",
       "  <thead>\n",
       "    <tr style=\"text-align: right;\">\n",
       "      <th></th>\n",
       "      <th>white_rating</th>\n",
       "      <th>black_rating</th>\n",
       "      <th>result</th>\n",
       "      <th>white_result</th>\n",
       "      <th>black_result</th>\n",
       "      <th>higher_rated_colour</th>\n",
       "      <th>winner</th>\n",
       "      <th>winner_rating_diff</th>\n",
       "      <th>user_rating_diff</th>\n",
       "      <th>user_win</th>\n",
       "      <th>user_colour</th>\n",
       "      <th>time_class</th>\n",
       "    </tr>\n",
       "  </thead>\n",
       "  <tbody>\n",
       "    <tr>\n",
       "      <th>0</th>\n",
       "      <td>1298</td>\n",
       "      <td>1461</td>\n",
       "      <td>0-1</td>\n",
       "      <td>checkmated</td>\n",
       "      <td>win</td>\n",
       "      <td>black</td>\n",
       "      <td>black</td>\n",
       "      <td>163</td>\n",
       "      <td>163</td>\n",
       "      <td>True</td>\n",
       "      <td>black</td>\n",
       "      <td>daily</td>\n",
       "    </tr>\n",
       "    <tr>\n",
       "      <th>1</th>\n",
       "      <td>1429</td>\n",
       "      <td>1234</td>\n",
       "      <td>0-1</td>\n",
       "      <td>timeout</td>\n",
       "      <td>win</td>\n",
       "      <td>white</td>\n",
       "      <td>black</td>\n",
       "      <td>-195</td>\n",
       "      <td>195</td>\n",
       "      <td>False</td>\n",
       "      <td>white</td>\n",
       "      <td>daily</td>\n",
       "    </tr>\n",
       "    <tr>\n",
       "      <th>2</th>\n",
       "      <td>1427</td>\n",
       "      <td>1449</td>\n",
       "      <td>0-1</td>\n",
       "      <td>timeout</td>\n",
       "      <td>win</td>\n",
       "      <td>black</td>\n",
       "      <td>black</td>\n",
       "      <td>22</td>\n",
       "      <td>22</td>\n",
       "      <td>True</td>\n",
       "      <td>black</td>\n",
       "      <td>daily</td>\n",
       "    </tr>\n",
       "    <tr>\n",
       "      <th>3</th>\n",
       "      <td>1022</td>\n",
       "      <td>1030</td>\n",
       "      <td>1-0</td>\n",
       "      <td>win</td>\n",
       "      <td>timeout</td>\n",
       "      <td>black</td>\n",
       "      <td>white</td>\n",
       "      <td>-8</td>\n",
       "      <td>8</td>\n",
       "      <td>False</td>\n",
       "      <td>black</td>\n",
       "      <td>blitz</td>\n",
       "    </tr>\n",
       "    <tr>\n",
       "      <th>4</th>\n",
       "      <td>1584</td>\n",
       "      <td>1449</td>\n",
       "      <td>1/2-1/2</td>\n",
       "      <td>agreed</td>\n",
       "      <td>agreed</td>\n",
       "      <td>white</td>\n",
       "      <td>DRAW</td>\n",
       "      <td>-135</td>\n",
       "      <td>-135</td>\n",
       "      <td>False</td>\n",
       "      <td>black</td>\n",
       "      <td>daily</td>\n",
       "    </tr>\n",
       "    <tr>\n",
       "      <th>...</th>\n",
       "      <td>...</td>\n",
       "      <td>...</td>\n",
       "      <td>...</td>\n",
       "      <td>...</td>\n",
       "      <td>...</td>\n",
       "      <td>...</td>\n",
       "      <td>...</td>\n",
       "      <td>...</td>\n",
       "      <td>...</td>\n",
       "      <td>...</td>\n",
       "      <td>...</td>\n",
       "      <td>...</td>\n",
       "    </tr>\n",
       "    <tr>\n",
       "      <th>3203</th>\n",
       "      <td>1356</td>\n",
       "      <td>1350</td>\n",
       "      <td>1-0</td>\n",
       "      <td>win</td>\n",
       "      <td>checkmated</td>\n",
       "      <td>white</td>\n",
       "      <td>white</td>\n",
       "      <td>6</td>\n",
       "      <td>-6</td>\n",
       "      <td>False</td>\n",
       "      <td>black</td>\n",
       "      <td>bullet</td>\n",
       "    </tr>\n",
       "    <tr>\n",
       "      <th>3204</th>\n",
       "      <td>1358</td>\n",
       "      <td>1360</td>\n",
       "      <td>1-0</td>\n",
       "      <td>win</td>\n",
       "      <td>timeout</td>\n",
       "      <td>black</td>\n",
       "      <td>white</td>\n",
       "      <td>-2</td>\n",
       "      <td>-2</td>\n",
       "      <td>True</td>\n",
       "      <td>white</td>\n",
       "      <td>bullet</td>\n",
       "    </tr>\n",
       "    <tr>\n",
       "      <th>3205</th>\n",
       "      <td>1350</td>\n",
       "      <td>1347</td>\n",
       "      <td>0-1</td>\n",
       "      <td>checkmated</td>\n",
       "      <td>win</td>\n",
       "      <td>white</td>\n",
       "      <td>black</td>\n",
       "      <td>-3</td>\n",
       "      <td>3</td>\n",
       "      <td>False</td>\n",
       "      <td>white</td>\n",
       "      <td>bullet</td>\n",
       "    </tr>\n",
       "    <tr>\n",
       "      <th>3206</th>\n",
       "      <td>1356</td>\n",
       "      <td>1342</td>\n",
       "      <td>1-0</td>\n",
       "      <td>win</td>\n",
       "      <td>checkmated</td>\n",
       "      <td>white</td>\n",
       "      <td>white</td>\n",
       "      <td>14</td>\n",
       "      <td>-14</td>\n",
       "      <td>False</td>\n",
       "      <td>black</td>\n",
       "      <td>bullet</td>\n",
       "    </tr>\n",
       "    <tr>\n",
       "      <th>3207</th>\n",
       "      <td>1334</td>\n",
       "      <td>1370</td>\n",
       "      <td>0-1</td>\n",
       "      <td>resigned</td>\n",
       "      <td>win</td>\n",
       "      <td>black</td>\n",
       "      <td>black</td>\n",
       "      <td>36</td>\n",
       "      <td>-36</td>\n",
       "      <td>False</td>\n",
       "      <td>white</td>\n",
       "      <td>bullet</td>\n",
       "    </tr>\n",
       "  </tbody>\n",
       "</table>\n",
       "<p>3208 rows × 12 columns</p>\n",
       "</div>"
      ],
      "text/plain": [
       "      white_rating  black_rating   result white_result black_result  \\\n",
       "0             1298          1461      0-1   checkmated          win   \n",
       "1             1429          1234      0-1      timeout          win   \n",
       "2             1427          1449      0-1      timeout          win   \n",
       "3             1022          1030      1-0          win      timeout   \n",
       "4             1584          1449  1/2-1/2       agreed       agreed   \n",
       "...            ...           ...      ...          ...          ...   \n",
       "3203          1356          1350      1-0          win   checkmated   \n",
       "3204          1358          1360      1-0          win      timeout   \n",
       "3205          1350          1347      0-1   checkmated          win   \n",
       "3206          1356          1342      1-0          win   checkmated   \n",
       "3207          1334          1370      0-1     resigned          win   \n",
       "\n",
       "     higher_rated_colour winner  winner_rating_diff  user_rating_diff  \\\n",
       "0                  black  black                 163               163   \n",
       "1                  white  black                -195               195   \n",
       "2                  black  black                  22                22   \n",
       "3                  black  white                  -8                 8   \n",
       "4                  white   DRAW                -135              -135   \n",
       "...                  ...    ...                 ...               ...   \n",
       "3203               white  white                   6                -6   \n",
       "3204               black  white                  -2                -2   \n",
       "3205               white  black                  -3                 3   \n",
       "3206               white  white                  14               -14   \n",
       "3207               black  black                  36               -36   \n",
       "\n",
       "      user_win user_colour time_class  \n",
       "0         True       black      daily  \n",
       "1        False       white      daily  \n",
       "2         True       black      daily  \n",
       "3        False       black      blitz  \n",
       "4        False       black      daily  \n",
       "...        ...         ...        ...  \n",
       "3203     False       black     bullet  \n",
       "3204      True       white     bullet  \n",
       "3205     False       white     bullet  \n",
       "3206     False       black     bullet  \n",
       "3207     False       white     bullet  \n",
       "\n",
       "[3208 rows x 12 columns]"
      ]
     },
     "execution_count": 28,
     "metadata": {},
     "output_type": "execute_result"
    }
   ],
   "source": [
    "rating_df"
   ]
  },
  {
   "cell_type": "code",
   "execution_count": 29,
   "id": "88097270",
   "metadata": {
    "ExecuteTime": {
     "end_time": "2024-06-28T12:11:12.107609Z",
     "start_time": "2024-06-28T12:11:11.604029Z"
    }
   },
   "outputs": [
    {
     "data": {
      "text/plain": [
       "<seaborn.axisgrid.FacetGrid at 0x7f1fb6c64fd0>"
      ]
     },
     "execution_count": 29,
     "metadata": {},
     "output_type": "execute_result"
    },
    {
     "data": {
      "image/png": "[encoded data removed]",
      "text/plain": [
       "<Figure size 589.375x500 with 1 Axes>"
      ]
     },
     "metadata": {},
     "output_type": "display_data"
    }
   ],
   "source": [
    "sns.catplot(y=\"user_rating_diff\", x=\"user_win\", data=rating_df, alpha=0.2, hue=\"time_class\")"
   ]
  },
  {
   "cell_type": "code",
   "execution_count": 11,
   "id": "e91bf4a4",
   "metadata": {
    "ExecuteTime": {
     "end_time": "2024-08-18T04:14:32.383919Z",
     "start_time": "2024-08-18T04:14:32.339892Z"
    }
   },
   "outputs": [
    {
     "data": {
      "text/plain": [
       "Index(['date', 'start_time', 'end_time', 'time_class', 'time_control', 'rated',\n",
       "       'rules', 'url', 'moves', 'opening_code', 'opening_name',\n",
       "       'white_username', 'black_username', 'white_clock', 'black_clock',\n",
       "       'white_rating', 'black_rating', 'result', 'white_result',\n",
       "       'black_result', 'higher_rated_colour', 'winner', 'winner_rating_diff',\n",
       "       'user_rating_diff', 'user_win', 'user_colour', 'move_numbers',\n",
       "       'white_moves', 'black_moves', 'w_cstl_side', 'w_cstl_move',\n",
       "       'b_cstl_side', 'b_cstl_move', 'user_castled', 'opp_castled',\n",
       "       'final_position_fen', 'winner_ttl_pieces_count',\n",
       "       'loser_ttl_pieces_count', 'winner_pawns_count', 'loser_pawns_count',\n",
       "       'winner_pieces_only_count', 'loser_pieces_only_count',\n",
       "       'pieces_count_diff', 'pawns_count_diff', 'winner_material_ttl',\n",
       "       'loser_material_ttl', 'winner_pcs', 'loser_pcs'],\n",
       "      dtype='object')"
      ]
     },
     "execution_count": 11,
     "metadata": {},
     "output_type": "execute_result"
    }
   ],
   "source": [
    "all_games_df.columns#.moves#.map(lambda x: len(x))"
   ]
  },
  {
   "cell_type": "code",
   "execution_count": 22,
   "id": "224db625",
   "metadata": {
    "ExecuteTime": {
     "end_time": "2024-08-18T04:18:14.720979Z",
     "start_time": "2024-08-18T04:18:14.648632Z"
    }
   },
   "outputs": [],
   "source": [
    "all_games_df['number_of_moves'] = all_games_df.move_numbers.map(lambda x : int(len(x)/2))"
   ]
  },
  {
   "cell_type": "code",
   "execution_count": 26,
   "id": "cd85de8b",
   "metadata": {
    "ExecuteTime": {
     "end_time": "2024-08-18T04:21:28.335344Z",
     "start_time": "2024-08-18T04:21:28.274261Z"
    }
   },
   "outputs": [
    {
     "data": {
      "text/plain": [
       "0        True\n",
       "1       False\n",
       "2        True\n",
       "3       False\n",
       "4       False\n",
       "        ...  \n",
       "3203    False\n",
       "3204     True\n",
       "3205    False\n",
       "3206    False\n",
       "3207    False\n",
       "Name: user_win, Length: 3208, dtype: bool"
      ]
     },
     "execution_count": 26,
     "metadata": {},
     "output_type": "execute_result"
    }
   ],
   "source": [
    "all_games_df['user_win']"
   ]
  },
  {
   "cell_type": "code",
   "execution_count": 38,
   "id": "3c83f931",
   "metadata": {
    "ExecuteTime": {
     "end_time": "2024-08-18T04:28:44.464654Z",
     "start_time": "2024-08-18T04:28:43.374931Z"
    }
   },
   "outputs": [
    {
     "ename": "ValueError",
     "evalue": "Could not interpret value `user_win` for parameter `hue`",
     "output_type": "error",
     "traceback": [
      "\u001b[0;31m---------------------------------------------------------------------------\u001b[0m",
      "\u001b[0;31mValueError\u001b[0m                                Traceback (most recent call last)",
      "Cell \u001b[0;32mIn [38], line 2\u001b[0m\n\u001b[1;32m      1\u001b[0m grid \u001b[38;5;241m=\u001b[39m sns\u001b[38;5;241m.\u001b[39mFacetGrid(all_games_df, col\u001b[38;5;241m=\u001b[39m\u001b[38;5;124m'\u001b[39m\u001b[38;5;124mtime_class\u001b[39m\u001b[38;5;124m'\u001b[39m, row\u001b[38;5;241m=\u001b[39m\u001b[38;5;124m'\u001b[39m\u001b[38;5;124muser_colour\u001b[39m\u001b[38;5;124m'\u001b[39m)\n\u001b[0;32m----> 2\u001b[0m \u001b[43mgrid\u001b[49m\u001b[38;5;241;43m.\u001b[39;49m\u001b[43mmap\u001b[49m\u001b[43m(\u001b[49m\u001b[43msns\u001b[49m\u001b[38;5;241;43m.\u001b[39;49m\u001b[43mscatterplot\u001b[49m\u001b[43m,\u001b[49m\u001b[43m \u001b[49m\u001b[38;5;124;43m\"\u001b[39;49m\u001b[38;5;124;43muser_rating_diff\u001b[39;49m\u001b[38;5;124;43m\"\u001b[39;49m\u001b[43m,\u001b[49m\u001b[43m \u001b[49m\u001b[38;5;124;43m\"\u001b[39;49m\u001b[38;5;124;43mnumber_of_moves\u001b[39;49m\u001b[38;5;124;43m\"\u001b[39;49m\u001b[43m,\u001b[49m\u001b[43m \u001b[49m\u001b[43malpha\u001b[49m\u001b[38;5;241;43m=\u001b[39;49m\u001b[38;5;241;43m0.2\u001b[39;49m\u001b[43m,\u001b[49m\u001b[43m \u001b[49m\u001b[43mhue\u001b[49m\u001b[38;5;241;43m=\u001b[39;49m\u001b[38;5;124;43m\"\u001b[39;49m\u001b[38;5;124;43muser_win\u001b[39;49m\u001b[38;5;124;43m\"\u001b[39;49m\u001b[43m,\u001b[49m\u001b[43m \u001b[49m\u001b[43mhue_order\u001b[49m\u001b[38;5;241;43m=\u001b[39;49m\u001b[43m[\u001b[49m\u001b[38;5;28;43;01mTrue\u001b[39;49;00m\u001b[43m,\u001b[49m\u001b[38;5;28;43;01mFalse\u001b[39;49;00m\u001b[43m]\u001b[49m\u001b[43m)\u001b[49m\n\u001b[1;32m      3\u001b[0m grid\u001b[38;5;241m.\u001b[39mset(xlim\u001b[38;5;241m=\u001b[39m(\u001b[38;5;241m-\u001b[39m\u001b[38;5;241m150\u001b[39m,\u001b[38;5;241m150\u001b[39m))\n",
      "File \u001b[0;32m~/.pyenv/versions/3.10.6/envs/lewagon/lib/python3.10/site-packages/seaborn/axisgrid.py:710\u001b[0m, in \u001b[0;36mFacetGrid.map\u001b[0;34m(self, func, *args, **kwargs)\u001b[0m\n\u001b[1;32m    707\u001b[0m         plot_args \u001b[38;5;241m=\u001b[39m [v\u001b[38;5;241m.\u001b[39mvalues \u001b[38;5;28;01mfor\u001b[39;00m v \u001b[38;5;129;01min\u001b[39;00m plot_args]\n\u001b[1;32m    709\u001b[0m     \u001b[38;5;66;03m# Draw the plot\u001b[39;00m\n\u001b[0;32m--> 710\u001b[0m     \u001b[38;5;28;43mself\u001b[39;49m\u001b[38;5;241;43m.\u001b[39;49m\u001b[43m_facet_plot\u001b[49m\u001b[43m(\u001b[49m\u001b[43mfunc\u001b[49m\u001b[43m,\u001b[49m\u001b[43m \u001b[49m\u001b[43max\u001b[49m\u001b[43m,\u001b[49m\u001b[43m \u001b[49m\u001b[43mplot_args\u001b[49m\u001b[43m,\u001b[49m\u001b[43m \u001b[49m\u001b[43mkwargs\u001b[49m\u001b[43m)\u001b[49m\n\u001b[1;32m    712\u001b[0m \u001b[38;5;66;03m# Finalize the annotations and layout\u001b[39;00m\n\u001b[1;32m    713\u001b[0m \u001b[38;5;28mself\u001b[39m\u001b[38;5;241m.\u001b[39m_finalize_grid(args[:\u001b[38;5;241m2\u001b[39m])\n",
      "File \u001b[0;32m~/.pyenv/versions/3.10.6/envs/lewagon/lib/python3.10/site-packages/seaborn/axisgrid.py:806\u001b[0m, in \u001b[0;36mFacetGrid._facet_plot\u001b[0;34m(self, func, ax, plot_args, plot_kwargs)\u001b[0m\n\u001b[1;32m    804\u001b[0m     plot_args \u001b[38;5;241m=\u001b[39m []\n\u001b[1;32m    805\u001b[0m     plot_kwargs[\u001b[38;5;124m\"\u001b[39m\u001b[38;5;124max\u001b[39m\u001b[38;5;124m\"\u001b[39m] \u001b[38;5;241m=\u001b[39m ax\n\u001b[0;32m--> 806\u001b[0m \u001b[43mfunc\u001b[49m\u001b[43m(\u001b[49m\u001b[38;5;241;43m*\u001b[39;49m\u001b[43mplot_args\u001b[49m\u001b[43m,\u001b[49m\u001b[43m \u001b[49m\u001b[38;5;241;43m*\u001b[39;49m\u001b[38;5;241;43m*\u001b[39;49m\u001b[43mplot_kwargs\u001b[49m\u001b[43m)\u001b[49m\n\u001b[1;32m    808\u001b[0m \u001b[38;5;66;03m# Sort out the supporting information\u001b[39;00m\n\u001b[1;32m    809\u001b[0m \u001b[38;5;28mself\u001b[39m\u001b[38;5;241m.\u001b[39m_update_legend_data(ax)\n",
      "File \u001b[0;32m~/.pyenv/versions/3.10.6/envs/lewagon/lib/python3.10/site-packages/seaborn/_decorators.py:46\u001b[0m, in \u001b[0;36m_deprecate_positional_args.<locals>.inner_f\u001b[0;34m(*args, **kwargs)\u001b[0m\n\u001b[1;32m     36\u001b[0m     warnings\u001b[38;5;241m.\u001b[39mwarn(\n\u001b[1;32m     37\u001b[0m         \u001b[38;5;124m\"\u001b[39m\u001b[38;5;124mPass the following variable\u001b[39m\u001b[38;5;132;01m{}\u001b[39;00m\u001b[38;5;124m as \u001b[39m\u001b[38;5;132;01m{}\u001b[39;00m\u001b[38;5;124mkeyword arg\u001b[39m\u001b[38;5;132;01m{}\u001b[39;00m\u001b[38;5;124m: \u001b[39m\u001b[38;5;132;01m{}\u001b[39;00m\u001b[38;5;124m. \u001b[39m\u001b[38;5;124m\"\u001b[39m\n\u001b[1;32m     38\u001b[0m         \u001b[38;5;124m\"\u001b[39m\u001b[38;5;124mFrom version 0.12, the only valid positional argument \u001b[39m\u001b[38;5;124m\"\u001b[39m\n\u001b[0;32m   (...)\u001b[0m\n\u001b[1;32m     43\u001b[0m         \u001b[38;5;167;01mFutureWarning\u001b[39;00m\n\u001b[1;32m     44\u001b[0m     )\n\u001b[1;32m     45\u001b[0m kwargs\u001b[38;5;241m.\u001b[39mupdate({k: arg \u001b[38;5;28;01mfor\u001b[39;00m k, arg \u001b[38;5;129;01min\u001b[39;00m \u001b[38;5;28mzip\u001b[39m(sig\u001b[38;5;241m.\u001b[39mparameters, args)})\n\u001b[0;32m---> 46\u001b[0m \u001b[38;5;28;01mreturn\u001b[39;00m \u001b[43mf\u001b[49m\u001b[43m(\u001b[49m\u001b[38;5;241;43m*\u001b[39;49m\u001b[38;5;241;43m*\u001b[39;49m\u001b[43mkwargs\u001b[49m\u001b[43m)\u001b[49m\n",
      "File \u001b[0;32m~/.pyenv/versions/3.10.6/envs/lewagon/lib/python3.10/site-packages/seaborn/relational.py:808\u001b[0m, in \u001b[0;36mscatterplot\u001b[0;34m(x, y, hue, style, size, data, palette, hue_order, hue_norm, sizes, size_order, size_norm, markers, style_order, x_bins, y_bins, units, estimator, ci, n_boot, alpha, x_jitter, y_jitter, legend, ax, **kwargs)\u001b[0m\n\u001b[1;32m    793\u001b[0m \u001b[38;5;129m@_deprecate_positional_args\u001b[39m\n\u001b[1;32m    794\u001b[0m \u001b[38;5;28;01mdef\u001b[39;00m \u001b[38;5;21mscatterplot\u001b[39m(\n\u001b[1;32m    795\u001b[0m     \u001b[38;5;241m*\u001b[39m,\n\u001b[0;32m   (...)\u001b[0m\n\u001b[1;32m    804\u001b[0m     legend\u001b[38;5;241m=\u001b[39m\u001b[38;5;124m\"\u001b[39m\u001b[38;5;124mauto\u001b[39m\u001b[38;5;124m\"\u001b[39m, ax\u001b[38;5;241m=\u001b[39m\u001b[38;5;28;01mNone\u001b[39;00m, \u001b[38;5;241m*\u001b[39m\u001b[38;5;241m*\u001b[39mkwargs\n\u001b[1;32m    805\u001b[0m ):\n\u001b[1;32m    807\u001b[0m     variables \u001b[38;5;241m=\u001b[39m _ScatterPlotter\u001b[38;5;241m.\u001b[39mget_semantics(\u001b[38;5;28mlocals\u001b[39m())\n\u001b[0;32m--> 808\u001b[0m     p \u001b[38;5;241m=\u001b[39m \u001b[43m_ScatterPlotter\u001b[49m\u001b[43m(\u001b[49m\n\u001b[1;32m    809\u001b[0m \u001b[43m        \u001b[49m\u001b[43mdata\u001b[49m\u001b[38;5;241;43m=\u001b[39;49m\u001b[43mdata\u001b[49m\u001b[43m,\u001b[49m\u001b[43m \u001b[49m\u001b[43mvariables\u001b[49m\u001b[38;5;241;43m=\u001b[39;49m\u001b[43mvariables\u001b[49m\u001b[43m,\u001b[49m\n\u001b[1;32m    810\u001b[0m \u001b[43m        \u001b[49m\u001b[43mx_bins\u001b[49m\u001b[38;5;241;43m=\u001b[39;49m\u001b[43mx_bins\u001b[49m\u001b[43m,\u001b[49m\u001b[43m \u001b[49m\u001b[43my_bins\u001b[49m\u001b[38;5;241;43m=\u001b[39;49m\u001b[43my_bins\u001b[49m\u001b[43m,\u001b[49m\n\u001b[1;32m    811\u001b[0m \u001b[43m        \u001b[49m\u001b[43mestimator\u001b[49m\u001b[38;5;241;43m=\u001b[39;49m\u001b[43mestimator\u001b[49m\u001b[43m,\u001b[49m\u001b[43m \u001b[49m\u001b[43mci\u001b[49m\u001b[38;5;241;43m=\u001b[39;49m\u001b[43mci\u001b[49m\u001b[43m,\u001b[49m\u001b[43m \u001b[49m\u001b[43mn_boot\u001b[49m\u001b[38;5;241;43m=\u001b[39;49m\u001b[43mn_boot\u001b[49m\u001b[43m,\u001b[49m\n\u001b[1;32m    812\u001b[0m \u001b[43m        \u001b[49m\u001b[43malpha\u001b[49m\u001b[38;5;241;43m=\u001b[39;49m\u001b[43malpha\u001b[49m\u001b[43m,\u001b[49m\u001b[43m \u001b[49m\u001b[43mx_jitter\u001b[49m\u001b[38;5;241;43m=\u001b[39;49m\u001b[43mx_jitter\u001b[49m\u001b[43m,\u001b[49m\u001b[43m \u001b[49m\u001b[43my_jitter\u001b[49m\u001b[38;5;241;43m=\u001b[39;49m\u001b[43my_jitter\u001b[49m\u001b[43m,\u001b[49m\u001b[43m \u001b[49m\u001b[43mlegend\u001b[49m\u001b[38;5;241;43m=\u001b[39;49m\u001b[43mlegend\u001b[49m\u001b[43m,\u001b[49m\n\u001b[1;32m    813\u001b[0m \u001b[43m    \u001b[49m\u001b[43m)\u001b[49m\n\u001b[1;32m    815\u001b[0m     p\u001b[38;5;241m.\u001b[39mmap_hue(palette\u001b[38;5;241m=\u001b[39mpalette, order\u001b[38;5;241m=\u001b[39mhue_order, norm\u001b[38;5;241m=\u001b[39mhue_norm)\n\u001b[1;32m    816\u001b[0m     p\u001b[38;5;241m.\u001b[39mmap_size(sizes\u001b[38;5;241m=\u001b[39msizes, order\u001b[38;5;241m=\u001b[39msize_order, norm\u001b[38;5;241m=\u001b[39msize_norm)\n",
      "File \u001b[0;32m~/.pyenv/versions/3.10.6/envs/lewagon/lib/python3.10/site-packages/seaborn/relational.py:587\u001b[0m, in \u001b[0;36m_ScatterPlotter.__init__\u001b[0;34m(self, data, variables, x_bins, y_bins, estimator, ci, n_boot, alpha, x_jitter, y_jitter, legend)\u001b[0m\n\u001b[1;32m    571\u001b[0m \u001b[38;5;28;01mdef\u001b[39;00m \u001b[38;5;21m__init__\u001b[39m(\n\u001b[1;32m    572\u001b[0m     \u001b[38;5;28mself\u001b[39m, \u001b[38;5;241m*\u001b[39m,\n\u001b[1;32m    573\u001b[0m     data\u001b[38;5;241m=\u001b[39m\u001b[38;5;28;01mNone\u001b[39;00m, variables\u001b[38;5;241m=\u001b[39m{},\n\u001b[0;32m   (...)\u001b[0m\n\u001b[1;32m    581\u001b[0m     \u001b[38;5;66;03m# the kind of plot to draw, but for the time being we need to set\u001b[39;00m\n\u001b[1;32m    582\u001b[0m     \u001b[38;5;66;03m# this information so the SizeMapping can use it\u001b[39;00m\n\u001b[1;32m    583\u001b[0m     \u001b[38;5;28mself\u001b[39m\u001b[38;5;241m.\u001b[39m_default_size_range \u001b[38;5;241m=\u001b[39m (\n\u001b[1;32m    584\u001b[0m         np\u001b[38;5;241m.\u001b[39mr_[\u001b[38;5;241m.5\u001b[39m, \u001b[38;5;241m2\u001b[39m] \u001b[38;5;241m*\u001b[39m np\u001b[38;5;241m.\u001b[39msquare(mpl\u001b[38;5;241m.\u001b[39mrcParams[\u001b[38;5;124m\"\u001b[39m\u001b[38;5;124mlines.markersize\u001b[39m\u001b[38;5;124m\"\u001b[39m])\n\u001b[1;32m    585\u001b[0m     )\n\u001b[0;32m--> 587\u001b[0m     \u001b[38;5;28;43msuper\u001b[39;49m\u001b[43m(\u001b[49m\u001b[43m)\u001b[49m\u001b[38;5;241;43m.\u001b[39;49m\u001b[38;5;21;43m__init__\u001b[39;49m\u001b[43m(\u001b[49m\u001b[43mdata\u001b[49m\u001b[38;5;241;43m=\u001b[39;49m\u001b[43mdata\u001b[49m\u001b[43m,\u001b[49m\u001b[43m \u001b[49m\u001b[43mvariables\u001b[49m\u001b[38;5;241;43m=\u001b[39;49m\u001b[43mvariables\u001b[49m\u001b[43m)\u001b[49m\n\u001b[1;32m    589\u001b[0m     \u001b[38;5;28mself\u001b[39m\u001b[38;5;241m.\u001b[39malpha \u001b[38;5;241m=\u001b[39m alpha\n\u001b[1;32m    590\u001b[0m     \u001b[38;5;28mself\u001b[39m\u001b[38;5;241m.\u001b[39mlegend \u001b[38;5;241m=\u001b[39m legend\n",
      "File \u001b[0;32m~/.pyenv/versions/3.10.6/envs/lewagon/lib/python3.10/site-packages/seaborn/_core.py:605\u001b[0m, in \u001b[0;36mVectorPlotter.__init__\u001b[0;34m(self, data, variables)\u001b[0m\n\u001b[1;32m    603\u001b[0m \u001b[38;5;28;01mdef\u001b[39;00m \u001b[38;5;21m__init__\u001b[39m(\u001b[38;5;28mself\u001b[39m, data\u001b[38;5;241m=\u001b[39m\u001b[38;5;28;01mNone\u001b[39;00m, variables\u001b[38;5;241m=\u001b[39m{}):\n\u001b[0;32m--> 605\u001b[0m     \u001b[38;5;28;43mself\u001b[39;49m\u001b[38;5;241;43m.\u001b[39;49m\u001b[43massign_variables\u001b[49m\u001b[43m(\u001b[49m\u001b[43mdata\u001b[49m\u001b[43m,\u001b[49m\u001b[43m \u001b[49m\u001b[43mvariables\u001b[49m\u001b[43m)\u001b[49m\n\u001b[1;32m    607\u001b[0m     \u001b[38;5;28;01mfor\u001b[39;00m var, \u001b[38;5;28mcls\u001b[39m \u001b[38;5;129;01min\u001b[39;00m \u001b[38;5;28mself\u001b[39m\u001b[38;5;241m.\u001b[39m_semantic_mappings\u001b[38;5;241m.\u001b[39mitems():\n\u001b[1;32m    608\u001b[0m \n\u001b[1;32m    609\u001b[0m         \u001b[38;5;66;03m# Create the mapping function\u001b[39;00m\n\u001b[1;32m    610\u001b[0m         map_func \u001b[38;5;241m=\u001b[39m partial(\u001b[38;5;28mcls\u001b[39m\u001b[38;5;241m.\u001b[39mmap, plotter\u001b[38;5;241m=\u001b[39m\u001b[38;5;28mself\u001b[39m)\n",
      "File \u001b[0;32m~/.pyenv/versions/3.10.6/envs/lewagon/lib/python3.10/site-packages/seaborn/_core.py:668\u001b[0m, in \u001b[0;36mVectorPlotter.assign_variables\u001b[0;34m(self, data, variables)\u001b[0m\n\u001b[1;32m    666\u001b[0m \u001b[38;5;28;01melse\u001b[39;00m:\n\u001b[1;32m    667\u001b[0m     \u001b[38;5;28mself\u001b[39m\u001b[38;5;241m.\u001b[39minput_format \u001b[38;5;241m=\u001b[39m \u001b[38;5;124m\"\u001b[39m\u001b[38;5;124mlong\u001b[39m\u001b[38;5;124m\"\u001b[39m\n\u001b[0;32m--> 668\u001b[0m     plot_data, variables \u001b[38;5;241m=\u001b[39m \u001b[38;5;28;43mself\u001b[39;49m\u001b[38;5;241;43m.\u001b[39;49m\u001b[43m_assign_variables_longform\u001b[49m\u001b[43m(\u001b[49m\n\u001b[1;32m    669\u001b[0m \u001b[43m        \u001b[49m\u001b[43mdata\u001b[49m\u001b[43m,\u001b[49m\u001b[43m \u001b[49m\u001b[38;5;241;43m*\u001b[39;49m\u001b[38;5;241;43m*\u001b[39;49m\u001b[43mvariables\u001b[49m\u001b[43m,\u001b[49m\n\u001b[1;32m    670\u001b[0m \u001b[43m    \u001b[49m\u001b[43m)\u001b[49m\n\u001b[1;32m    672\u001b[0m \u001b[38;5;28mself\u001b[39m\u001b[38;5;241m.\u001b[39mplot_data \u001b[38;5;241m=\u001b[39m plot_data\n\u001b[1;32m    673\u001b[0m \u001b[38;5;28mself\u001b[39m\u001b[38;5;241m.\u001b[39mvariables \u001b[38;5;241m=\u001b[39m variables\n",
      "File \u001b[0;32m~/.pyenv/versions/3.10.6/envs/lewagon/lib/python3.10/site-packages/seaborn/_core.py:903\u001b[0m, in \u001b[0;36mVectorPlotter._assign_variables_longform\u001b[0;34m(self, data, **kwargs)\u001b[0m\n\u001b[1;32m    898\u001b[0m \u001b[38;5;28;01melif\u001b[39;00m \u001b[38;5;28misinstance\u001b[39m(val, (\u001b[38;5;28mstr\u001b[39m, \u001b[38;5;28mbytes\u001b[39m)):\n\u001b[1;32m    899\u001b[0m \n\u001b[1;32m    900\u001b[0m     \u001b[38;5;66;03m# This looks like a column name but we don't know what it means!\u001b[39;00m\n\u001b[1;32m    902\u001b[0m     err \u001b[38;5;241m=\u001b[39m \u001b[38;5;124mf\u001b[39m\u001b[38;5;124m\"\u001b[39m\u001b[38;5;124mCould not interpret value `\u001b[39m\u001b[38;5;132;01m{\u001b[39;00mval\u001b[38;5;132;01m}\u001b[39;00m\u001b[38;5;124m` for parameter `\u001b[39m\u001b[38;5;132;01m{\u001b[39;00mkey\u001b[38;5;132;01m}\u001b[39;00m\u001b[38;5;124m`\u001b[39m\u001b[38;5;124m\"\u001b[39m\n\u001b[0;32m--> 903\u001b[0m     \u001b[38;5;28;01mraise\u001b[39;00m \u001b[38;5;167;01mValueError\u001b[39;00m(err)\n\u001b[1;32m    905\u001b[0m \u001b[38;5;28;01melse\u001b[39;00m:\n\u001b[1;32m    906\u001b[0m \n\u001b[1;32m    907\u001b[0m     \u001b[38;5;66;03m# Otherwise, assume the value is itself data\u001b[39;00m\n\u001b[1;32m    908\u001b[0m \n\u001b[1;32m    909\u001b[0m     \u001b[38;5;66;03m# Raise when data object is present and a vector can't matched\u001b[39;00m\n\u001b[1;32m    910\u001b[0m     \u001b[38;5;28;01mif\u001b[39;00m \u001b[38;5;28misinstance\u001b[39m(data, pd\u001b[38;5;241m.\u001b[39mDataFrame) \u001b[38;5;129;01mand\u001b[39;00m \u001b[38;5;129;01mnot\u001b[39;00m \u001b[38;5;28misinstance\u001b[39m(val, pd\u001b[38;5;241m.\u001b[39mSeries):\n",
      "\u001b[0;31mValueError\u001b[0m: Could not interpret value `user_win` for parameter `hue`"
     ]
    },
    {
     "data": {
      "image/png": "[encoded data removed]",
      "text/plain": [
       "<Figure size 1200x600 with 8 Axes>"
      ]
     },
     "metadata": {},
     "output_type": "display_data"
    }
   ],
   "source": [
    "grid = sns.FacetGrid(all_games_df, col='time_class', row='user_colour')\n",
    "grid.map(sns.scatterplot, \"user_rating_diff\", \"number_of_moves\", alpha=0.2, hue=\"user_win\", hue_order=[True,False])\n",
    "grid.set(xlim=(-150,150))"
   ]
  },
  {
   "cell_type": "code",
   "execution_count": null,
   "id": "96e3721e",
   "metadata": {},
   "outputs": [],
   "source": []
  },
  {
   "cell_type": "code",
   "execution_count": null,
   "id": "ac3c422f",
   "metadata": {},
   "outputs": [],
   "source": []
  }
 ],
 "metadata": {
  "kernelspec": {
   "display_name": "Python 3 (ipykernel)",
   "language": "python",
   "name": "python3"
  },
  "language_info": {
   "codemirror_mode": {
    "name": "ipython",
    "version": 3
   },
   "file_extension": ".py",
   "mimetype": "text/x-python",
   "name": "python",
   "nbconvert_exporter": "python",
   "pygments_lexer": "ipython3",
   "version": "3.10.6"
  },
  "toc": {
   "base_numbering": 1,
   "nav_menu": {},
   "number_sections": true,
   "sideBar": true,
   "skip_h1_title": false,
   "title_cell": "Table of Contents",
   "title_sidebar": "Contents",
   "toc_cell": false,
   "toc_position": {},
   "toc_section_display": true,
   "toc_window_display": false
  },
  "varInspector": {
   "cols": {
    "lenName": 16,
    "lenType": 16,
    "lenVar": 40
   },
   "kernels_config": {
    "python": {
     "delete_cmd_postfix": "",
     "delete_cmd_prefix": "del ",
     "library": "var_list.py",
     "varRefreshCmd": "print(var_dic_list())"
    },
    "r": {
     "delete_cmd_postfix": ") ",
     "delete_cmd_prefix": "rm(",
     "library": "var_list.r",
     "varRefreshCmd": "cat(var_dic_list()) "
    }
   },
   "types_to_exclude": [
    "module",
    "function",
    "builtin_function_or_method",
    "instance",
    "_Feature"
   ],
   "window_display": false
  }
 },
 "nbformat": 4,
 "nbformat_minor": 5
}
