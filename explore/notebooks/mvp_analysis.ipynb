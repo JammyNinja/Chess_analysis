{
 "cells": [
  {
   "cell_type": "markdown",
   "id": "f837be4a-9c8a-468d-a6da-82c11889cb41",
   "metadata": {},
   "source": [
    "# Imports"
   ]
  },
  {
   "cell_type": "code",
   "execution_count": null,
   "id": "dfb19154-f0bd-481c-bc31-39d75d22f5e4",
   "metadata": {},
   "outputs": [],
   "source": [
    "# import standard\n",
    "import numpy as np\n",
    "import pandas as pd\n",
    "import matplotlib.pyplot as plt\n",
    "import seaborn as sns\n",
    "\n",
    "# magic lines\n",
    "%load_ext autoreload\n",
    "%autoreload 2\n",
    "%matplotlib inline"
   ]
  },
  {
   "cell_type": "code",
   "execution_count": null,
   "id": "0f104cbb-4ee2-4cd2-8a4b-ca78c6bed3aa",
   "metadata": {},
   "outputs": [],
   "source": [
    "#import my scripts\n",
    "import sys, os\n",
    "module_path = os.path.abspath(os.path.join('..'))\n",
    "if module_path not in sys.path:\n",
    "    scripts_path = os.path.join(module_path, \"scripts\")\n",
    "    if scripts_path not in sys.path:\n",
    "        sys.path.append(scripts_path)\n",
    "    display(sys.path)\n",
    "   \n",
    "from data import get_data\n",
    "from preprocessing import preprocess, add_new_columns"
   ]
  },
  {
   "cell_type": "code",
   "execution_count": null,
   "id": "d22db77b-fe2c-4374-900a-4377a08b5d4d",
   "metadata": {},
   "outputs": [],
   "source": [
    "raw_data = get_data(df_name=\"all_games\", descriptor=\"all_cols\")\n",
    "df = preprocess(raw_data)"
   ]
  },
  {
   "cell_type": "code",
   "execution_count": null,
   "id": "d68a9c10-ffa9-4746-8084-5d40ac2711ec",
   "metadata": {},
   "outputs": [],
   "source": [
    "fname = \"all_games_2023-01_to_2024-12_all_new_cols.csv\"\n",
    "path = os.path.join(\"..\", \"data\", fname)\n",
    "os.path.getsize(path) / 1_000_000 #1_048_576"
   ]
  },
  {
   "cell_type": "code",
   "execution_count": null,
   "id": "b4e7ede9-08d2-49e9-9a42-98e9c1683688",
   "metadata": {},
   "outputs": [],
   "source": [
    "# path = os.path.join(\"..\", \"data\", \"sample_raw_data.csv\")\n",
    "df = pd.read_csv(path)"
   ]
  },
  {
   "cell_type": "code",
   "execution_count": null,
   "id": "be9c5dbb-a02c-4fd5-898c-6129c4f13916",
   "metadata": {},
   "outputs": [],
   "source": [
    "df.iloc[0]"
   ]
  },
  {
   "cell_type": "markdown",
   "id": "480c1e0a-167e-4e13-8264-1e77f18272d7",
   "metadata": {},
   "source": [
    "### Exclude slower time formats"
   ]
  },
  {
   "cell_type": "code",
   "execution_count": null,
   "id": "a1301242-e5a7-4ac8-a3ff-bd3113422536",
   "metadata": {},
   "outputs": [],
   "source": [
    "n_games_pre = len(df)\n",
    "df = df.query(\"time_class == ['bullet']\")\n",
    "n_games_post = len(df)\n",
    "\n",
    "print(f\"excluded {n_games_pre - n_games_post} games.\")"
   ]
  },
  {
   "cell_type": "markdown",
   "id": "2edd87f7-3494-43ef-b0a5-f15bc0fd020b",
   "metadata": {},
   "source": [
    "# Analysis"
   ]
  },
  {
   "cell_type": "markdown",
   "id": "6d77bcc1-4d5b-46e8-b15a-b5110cffae35",
   "metadata": {},
   "source": [
    "## General game end status\n",
    "- how often do you resign?\n",
    "- how often do you lose on time vs how often do your opponents?\n",
    "\n",
    "-> pie chart"
   ]
  },
  {
   "cell_type": "markdown",
   "id": "ab729894-d8d3-466c-9413-2f325a45babc",
   "metadata": {},
   "source": [
    "### mvp new columns"
   ]
  },
  {
   "cell_type": "code",
   "execution_count": null,
   "id": "61f9909d-d30b-4495-b851-b2781d5d7807",
   "metadata": {},
   "outputs": [],
   "source": [
    "test = 53\n",
    "display(df.iloc[test])\n",
    "\n",
    "def get_user_result(row):\n",
    "    \"\"\"\n",
    "        to be applied to df to generate new column\n",
    "    \"\"\"\n",
    "\n",
    "    user_colour = row[\"user_colour\"]\n",
    "    user_result = row[\"white_result\"] if user_colour == \"white\" else row[\"black_result\"]\n",
    "    opp_result  = row[\"white_result\"] if user_colour == \"black\" else row[\"black_result\"]\n",
    "\n",
    "    user_rating = row[\"white_rating\"] if user_colour == \"white\" else row[\"black_rating\"]\n",
    "    opp_rating  = row[\"white_rating\"] if user_colour == \"black\" else row[\"black_rating\"]\n",
    "    \n",
    "    data_out = {\n",
    "        \"user_result\" : user_result,\n",
    "        \"opp_result\"  : opp_result,\n",
    "        # \"user_rating\": user_rating,\n",
    "        \"opp_rating\" : opp_rating\n",
    "    }\n",
    "    return pd.Series(data_out)\n",
    "    \n",
    "get_user_result(df.iloc[test])"
   ]
  },
  {
   "cell_type": "markdown",
   "id": "1a649410-bce0-42ec-a7e2-146449ee3a1e",
   "metadata": {},
   "source": [
    "## load clean data"
   ]
  },
  {
   "cell_type": "code",
   "execution_count": null,
   "id": "87e832ee-f242-4a68-a2ec-5544d1b0b3e4",
   "metadata": {},
   "outputs": [],
   "source": [
    "import pickle\n",
    "clean_filename = \"sample_clean.pkl\"\n",
    "clean_path = os.path.join(\"..\", \"data\", clean_filename)\n",
    "with open (clean_path, \"rb\") as file:\n",
    "    clean_df = pickle.load(file)\n",
    "clean_df"
   ]
  },
  {
   "cell_type": "code",
   "execution_count": null,
   "id": "9c039bed-53bf-4c13-b338-47d2e91e4b40",
   "metadata": {},
   "outputs": [],
   "source": []
  },
  {
   "cell_type": "markdown",
   "id": "f44fc63b-f3d7-4a11-9416-2ab8dbcf773b",
   "metadata": {},
   "source": [
    "### game end status"
   ]
  },
  {
   "cell_type": "code",
   "execution_count": null,
   "id": "a6d3f179-e269-485c-8815-f4843f433b6b",
   "metadata": {},
   "outputs": [],
   "source": [
    "# game_results = df.apply(get_user_result, axis=1, result_type=\"expand\")\n",
    "# game_results"
   ]
  },
  {
   "cell_type": "code",
   "execution_count": null,
   "id": "46a96503-eb9f-4471-87c1-f74dfdaa43f2",
   "metadata": {},
   "outputs": [],
   "source": [
    "# df = pd.concat([df,game_results], axis=1)\n",
    "# df"
   ]
  },
  {
   "cell_type": "code",
   "execution_count": null,
   "id": "238f6418-5fff-420c-a4e9-94d54e28da81",
   "metadata": {},
   "outputs": [],
   "source": [
    "user_results = clean_df.user_result.value_counts()\n",
    "user_results"
   ]
  },
  {
   "cell_type": "code",
   "execution_count": null,
   "id": "bbcab896-142b-4e27-a54c-6235761639af",
   "metadata": {},
   "outputs": [],
   "source": [
    "plt.pie(x = user_results.values, labels = user_results.index);"
   ]
  },
  {
   "cell_type": "code",
   "execution_count": null,
   "id": "86415b22-fc0a-41e2-bea4-aa02fa1e7071",
   "metadata": {},
   "outputs": [],
   "source": [
    "#of the games you won, how did you beat the opponent?\n",
    "won_games = clean_df.query(\"user_result == 'win'\")\n",
    "won_games.head(3)"
   ]
  },
  {
   "cell_type": "code",
   "execution_count": null,
   "id": "1fe79f6d-b955-4232-982f-795861914206",
   "metadata": {},
   "outputs": [],
   "source": [
    "won_results = won_games.opp_result.value_counts()\n",
    "plt.pie(x = won_results.values, labels = won_results.index);"
   ]
  },
  {
   "cell_type": "markdown",
   "id": "a6e48e8a-ad53-48a3-8ef7-31f1cc139efe",
   "metadata": {},
   "source": [
    "## Rating over time\n"
   ]
  },
  {
   "cell_type": "code",
   "execution_count": null,
   "id": "692e37fd-91c4-4697-ad31-f758fe4d5c76",
   "metadata": {},
   "outputs": [],
   "source": [
    "rating_df = clean_df[[\"date\", \"user_rating\"]].copy()\n",
    "rating_df"
   ]
  },
  {
   "cell_type": "code",
   "execution_count": null,
   "id": "f39b4ebc-f6e9-4bd8-93dc-9495779964b8",
   "metadata": {},
   "outputs": [],
   "source": [
    "rating_df[\"date\"] = pd.to_datetime(rating_df[\"date\"])"
   ]
  },
  {
   "cell_type": "code",
   "execution_count": null,
   "id": "cbd6d84b-4954-4614-b37a-7ddfda1428cc",
   "metadata": {},
   "outputs": [],
   "source": [
    "sns.lineplot(data=rating_df,\n",
    "             x=\"date\", y=\"user_rating\", \n",
    "             errorbar=None)\n",
    "plt.tick_params(axis=\"x\", rotation=45)"
   ]
  },
  {
   "cell_type": "markdown",
   "id": "c08e0c03-bdcb-42e0-9f01-e7e5215282cf",
   "metadata": {},
   "source": [
    "## results vs opponents by rating range\n",
    "every 50, what's your win/lose/draw split? - your 'true' rating is where it is about 50% "
   ]
  },
  {
   "cell_type": "code",
   "execution_count": null,
   "id": "7b2fb9f2-b0eb-488b-8a07-32d2105c2de6",
   "metadata": {},
   "outputs": [],
   "source": [
    "cols = [\"user_rating\", \"user_result\", \"opp_result\", \"opp_rating\"]\n",
    "opp_rating_df = clean_df[cols].copy()\n",
    "opp_rating_df"
   ]
  },
  {
   "cell_type": "markdown",
   "id": "b591b95d-3982-439c-b566-4c195fcc670e",
   "metadata": {},
   "source": [
    "#### investigate different game end statuses"
   ]
  },
  {
   "cell_type": "code",
   "execution_count": null,
   "id": "1c013b19-12b7-47b5-a1f5-01e38b70978a",
   "metadata": {},
   "outputs": [],
   "source": [
    "game_endings = set(list(opp_rating_df.user_result.unique()) + list(opp_rating_df.opp_result.unique()))\n",
    "display(game_endings)"
   ]
  },
  {
   "cell_type": "code",
   "execution_count": null,
   "id": "99dd8910-9a82-4202-b0b3-e8a46aab70cd",
   "metadata": {},
   "outputs": [],
   "source": [
    "game_endings_mapping = {\n",
    "    'abandoned' : \"lose\",\n",
    "    'checkmated' : \"lose\",\n",
    "    'resigned' : \"lose\",\n",
    "    'timeout' : \"lose\",\n",
    "    'agreed' : \"draw\",\n",
    "    'insufficient': \"draw\",\n",
    "    'repetition' : \"draw\",\n",
    "    'stalemate' : \"draw\",\n",
    "    'timevsinsufficient' : \"draw\",\n",
    "    'win' : \"win\"\n",
    "}\n",
    "game_endings_mapping"
   ]
  },
  {
   "cell_type": "code",
   "execution_count": null,
   "id": "9e41f4c6-1540-4840-aa19-494f028b1420",
   "metadata": {},
   "outputs": [],
   "source": [
    "keyword = 'timevsinsufficient'\n",
    "opp_rating_df.query(f\"user_result == '{keyword}' or opp_result == '{keyword}'\")"
   ]
  },
  {
   "cell_type": "code",
   "execution_count": null,
   "id": "79017362-a4f9-42b2-80af-6aee7df1aab6",
   "metadata": {},
   "outputs": [],
   "source": [
    "opp_rating_df['user_result_map'] = opp_rating_df.user_result.map(game_endings_mapping)\n",
    "opp_rating_df"
   ]
  },
  {
   "cell_type": "code",
   "execution_count": null,
   "id": "daa8e489-87cf-478a-817e-1de828b21543",
   "metadata": {},
   "outputs": [],
   "source": [
    "bin_width = 50\n",
    "min_bin = df.opp_rating.min() // bin_width * bin_width #round down to nearest 50\n",
    "max_bin = df.opp_rating.max() // bin_width * bin_width + bin_width #round up to nearst 50\n",
    "\n",
    "#printable\n",
    "# list(range(min_bin, max_bin+1, bin_width))\n",
    "\n",
    "bin_vals,bins_out = pd.cut(x=opp_rating_df[\"opp_rating\"],\n",
    "       bins =range(min_bin, max_bin+1, bin_width),\n",
    "        retbins=True)\n",
    "display(bins_out)\n",
    "\n",
    "opp_rating_df.loc[:,\"opp_rating_range\"] = bin_vals#.values"
   ]
  },
  {
   "cell_type": "code",
   "execution_count": null,
   "id": "b4c35e3a-8cb2-429c-98c0-66cf137d1e95",
   "metadata": {},
   "outputs": [],
   "source": [
    "opp_rating_df.groupby(by=\"opp_rating_range\", observed=False)[\"user_result_map\"].value_counts(normalize=True).unstack().plot(kind=\"barh\", stacked=True)"
   ]
  },
  {
   "cell_type": "code",
   "execution_count": null,
   "id": "34ce0d33-a61e-425c-8d0d-445a5ab49f9a",
   "metadata": {},
   "outputs": [],
   "source": [
    "results_by_rating = opp_rating_df.groupby(by=\"opp_rating_range\", observed=False)[\"user_result_map\"].value_counts(normalize=True).unstack()\n",
    "results_by_rating = results_by_rating.reindex(labels=[\"win\", \"draw\", \"lose\"], axis=1)\n",
    "results_by_rating.head(3)"
   ]
  },
  {
   "cell_type": "code",
   "execution_count": null,
   "id": "cb082583-74be-4291-98b8-d13339845b6c",
   "metadata": {},
   "outputs": [],
   "source": [
    "#https://matplotlib.org/stable/gallery/lines_bars_and_markers/bar_stacked.html\n",
    "fig, ax = plt.subplots()\n",
    "\n",
    "results_by_rating.index = bins_out[:-1]\n",
    "results_by_rating.plot(kind=\"barh\", \n",
    "                       stacked=True,\n",
    "                      ax=ax,\n",
    "                       color = [\"green\", \"orange\", \"red\"],\n",
    "                      ylabel=\"opponent rating range\",\n",
    "                      xlabel=\"share of games\");\n",
    "# ax.set_yticks(bins_out[:-1])\n",
    "# https://www.geeksforgeeks.org/create-a-stacked-bar-plot-in-matplotlib/\n",
    "#show hist on margin?\n",
    "fig.savefig(fname=os.path.join(path_to_data, \"test_fig.jpg\"))"
   ]
  },
  {
   "cell_type": "markdown",
   "id": "52b44ef5-74ef-4682-9273-b1b4518be7f5",
   "metadata": {},
   "source": [
    "using markdown to display the image:\n",
    "![filler txt](../data/test_fig.jpg)"
   ]
  },
  {
   "cell_type": "code",
   "execution_count": null,
   "id": "5ab8ac43-34b4-4979-9d6b-e3bc89ce4eca",
   "metadata": {},
   "outputs": [],
   "source": [
    "results_by_rating['test'] = bins_out[:-1]\n",
    "results_by_rating"
   ]
  },
  {
   "cell_type": "code",
   "execution_count": null,
   "id": "f29318f4-c7d9-43eb-9d97-fbc06737087e",
   "metadata": {},
   "outputs": [],
   "source": []
  },
  {
   "cell_type": "code",
   "execution_count": null,
   "id": "541cec03-6333-4081-b078-7e330c44ab9e",
   "metadata": {},
   "outputs": [],
   "source": [
    "len(results_by_rating.reset_index())"
   ]
  },
  {
   "cell_type": "code",
   "execution_count": null,
   "id": "860408f0-80e6-4e2d-aed6-572c9b00966b",
   "metadata": {},
   "outputs": [],
   "source": [
    "x = results_by_rating.reset_index()['opp_rating_range']#.values\n",
    "x"
   ]
  },
  {
   "cell_type": "code",
   "execution_count": null,
   "id": "0c07f1c2-edba-42eb-bec8-926b8086ca04",
   "metadata": {},
   "outputs": [],
   "source": [
    "results_by_rating"
   ]
  },
  {
   "cell_type": "code",
   "execution_count": null,
   "id": "787948b5-b14f-4f3f-892c-74cb2000ca05",
   "metadata": {
    "scrolled": true
   },
   "outputs": [],
   "source": [
    "ratings = bins_out[:-1]\n",
    "# x = results_by_rating.reset_index(level=0)['opp_rating_range']\n",
    "ywin  = list(results_by_rating['win'].values)\n",
    "ydraw = list(results_by_rating['draw'].values)\n",
    "ylose = list(results_by_rating['lose'].values)\n",
    "\n",
    "barheight = 20\n",
    "plt.barh(y=ratings, width=ywin, height=barheight)\n",
    "plt.barh(y=ratings, width=ydraw, left=ywin, height=barheight)\n",
    "plt.barh(y=ratings, width=ylose, left=np.array(ywin)+np.array(ydraw), height=barheight)"
   ]
  },
  {
   "cell_type": "markdown",
   "id": "9329198d-16f4-410b-9141-945d113f4674",
   "metadata": {},
   "source": [
    "## MVP plan\n",
    "- load raw data from a csv\n",
    "- add only columns required\n",
    "    - user colour\n",
    "     - user result \n",
    "     - opp result \n",
    "     - user rating\n",
    "     - opp rating\n",
    "- display pie chart of how games end\n",
    "- display bar chart with performance against different ratings\n"
   ]
  },
  {
   "cell_type": "markdown",
   "id": "ea348d55-0582-4699-aeb7-e34107bbd54e",
   "metadata": {},
   "source": [
    "## mvp preproc\n",
    "\n",
    "- work from local file (2024?)\n",
    "    - sample_raw.csv \n",
    "- minimum clean (pipe!)\n",
    "    - date to datetime \n",
    "- minimum new cols (pipe!)\n",
    "    - user colour\n",
    "    - user/opp rating\n",
    "    - user/opp result \n",
    "- save to local file\n",
    "    - sample_preproc.csv "
   ]
  },
  {
   "cell_type": "markdown",
   "id": "8de27d81-f289-4eee-90bf-78e4d55e6e1f",
   "metadata": {},
   "source": [
    "## Create sample raw data from the year 2023\n",
    "\n",
    "to be used in mvp preproc"
   ]
  },
  {
   "cell_type": "code",
   "execution_count": null,
   "id": "85a03c33-bda2-445b-826e-ae8526d8a901",
   "metadata": {},
   "outputs": [],
   "source": [
    "from data import get_all_games_list\n",
    "\n",
    "raw_list = get_all_games_list()"
   ]
  },
  {
   "cell_type": "code",
   "execution_count": null,
   "id": "f4397f1a-95a6-4d55-82f8-68a6d87166c0",
   "metadata": {},
   "outputs": [],
   "source": [
    "path_to_data = os.path.join(\"..\", \"data\")\n",
    "raw_pickle = \"sample_raw.pkl\"\n",
    "pkl_path = os.path.join(path_to_data, raw_pickle)\n",
    "pkl_path"
   ]
  },
  {
   "cell_type": "code",
   "execution_count": null,
   "id": "c395a058-f65b-49f4-8f6a-ea0ea520c2a1",
   "metadata": {},
   "outputs": [],
   "source": [
    "import pickle"
   ]
  },
  {
   "cell_type": "code",
   "execution_count": null,
   "id": "1d2be112-9246-4951-8ac0-e60b0e834bde",
   "metadata": {},
   "outputs": [],
   "source": [
    "with open (pkl_path, \"wb\") as file:\n",
    "    pickle.dump(raw_list, file)"
   ]
  },
  {
   "cell_type": "code",
   "execution_count": null,
   "id": "e38b590b-6d3d-4777-ab72-a434810290dc",
   "metadata": {},
   "outputs": [],
   "source": [
    "! ls {path_to_data}"
   ]
  },
  {
   "cell_type": "code",
   "execution_count": null,
   "id": "ef188388-a68b-4a6d-8f74-7da30cdd7fba",
   "metadata": {},
   "outputs": [],
   "source": []
  }
 ],
 "metadata": {
  "kernelspec": {
   "display_name": "Python 3 (ipykernel)",
   "language": "python",
   "name": "python3"
  },
  "language_info": {
   "codemirror_mode": {
    "name": "ipython",
    "version": 3
   },
   "file_extension": ".py",
   "mimetype": "text/x-python",
   "name": "python",
   "nbconvert_exporter": "python",
   "pygments_lexer": "ipython3",
   "version": "3.10.6"
  }
 },
 "nbformat": 4,
 "nbformat_minor": 5
}
