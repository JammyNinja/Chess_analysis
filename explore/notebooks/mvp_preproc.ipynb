{
 "cells": [
  {
   "cell_type": "markdown",
   "id": "63ad91c6-a7de-4a31-bea8-23589e824cfd",
   "metadata": {},
   "source": [
    "# Imports"
   ]
  },
  {
   "cell_type": "code",
   "execution_count": null,
   "id": "a130cde2-64c2-4027-9e78-0befdf98c245",
   "metadata": {},
   "outputs": [],
   "source": [
    "import os\n",
    "import pandas as pd\n",
    "import datetime"
   ]
  },
  {
   "cell_type": "markdown",
   "id": "57eb63d2-b4fc-482c-a8fd-71f5ef474d87",
   "metadata": {},
   "source": [
    "## load sample raw data\n"
   ]
  },
  {
   "cell_type": "code",
   "execution_count": null,
   "id": "b4523e2e-fdc9-49d6-9a05-7fa0bb1f7b53",
   "metadata": {},
   "outputs": [],
   "source": [
    "import pickle\n",
    "path_to_data = os.path.join(\"..\", \"data\")\n",
    "sample_fname = \"sample_raw.pkl\"\n",
    "\n",
    "with open(os.path.join(path_to_data, sample_fname), \"rb\") as file:\n",
    "    raw_data = pickle.load(file)\n",
    "\n",
    "raw_data[:1]"
   ]
  },
  {
   "cell_type": "markdown",
   "id": "1d32d717-41a1-4339-8176-92108cf83a15",
   "metadata": {},
   "source": [
    "## create cleaning pipeline\n",
    "\n",
    "steps:\n",
    "- convert games from list/dict to pandas Series\n",
    "- convert dates to pd.datetimes"
   ]
  },
  {
   "cell_type": "code",
   "execution_count": null,
   "id": "debe7ca4-3d4e-4922-9058-352f267f924e",
   "metadata": {},
   "outputs": [],
   "source": [
    "from sklearn.pipeline import Pipeline\n",
    "from sklearn.preprocessing import FunctionTransformer"
   ]
  },
  {
   "cell_type": "code",
   "execution_count": null,
   "id": "0b758a31-c5de-4494-9c25-2018a078a328",
   "metadata": {},
   "outputs": [],
   "source": [
    "USERNAME = \"JammyNinja\"\n",
    "def game_to_pandas(game):\n",
    "    \"\"\" \n",
    "        converts a game as received from chess.com API JSON to pandas Series\n",
    "\n",
    "        try out the raw form at: \n",
    "            https://api.chess.com/pub/player/jammyninja/games/2023/01\n",
    "    \"\"\"\n",
    "    display(game)\n",
    "    game_dict = {}\n",
    "    \n",
    "    game_pgn = game[\"pgn\"]\n",
    "    game_dict[\"result\"] = game_pgn.split(\"}\")[-1].strip()\n",
    "    game_dict['time_control'] = game[\"time_control\"]\n",
    "    game_dict['time_class'] = game[\"time_class\"]\n",
    "    game_dict['rules'] = game[\"rules\"] #to exclude any chess960 or other that may have been played\n",
    "\n",
    "    game_dict['start_time'] = game[\"start_time\"]\n",
    "\n",
    "    user_colour = \"white\" if game[\"white\"][\"username\"] == USERNAME else \"black\"\n",
    "    opp_colour = \"black\" if user_colour == \"white\" else \"white\" #used to save time below\n",
    "\n",
    "    game_dict[\"user_colour\"] = user_colour\n",
    "    game_dict['opp_username'] = game[opp_colour][\"username\"]\n",
    "    \n",
    "    game_dict['user_rating'] = game[user_colour][\"rating\"]\n",
    "    game_dict['opp_rating'] = game[opp_colour][\"rating\"]\n",
    "\n",
    "    game_dict['user_result'] = game[user_colour][\"result\"]\n",
    "    game_dict['opp_result'] = game[opp_colour][\"result\"]\n",
    "    \n",
    "    return game_dict\n",
    "    \n",
    "\n",
    "\n",
    "test_game_dict = game_to_pandas(raw_data[0])\n",
    "test_game_dict"
   ]
  },
  {
   "cell_type": "code",
   "execution_count": null,
   "id": "fef47bbd-85c1-4db0-ab06-3c113469e4a4",
   "metadata": {},
   "outputs": [],
   "source": [
    "def get_date(game_dict):\n",
    "    print(datetime.datetime.fromtimestamp(game_dict['start_time']).strftime('%d-%m-%Y'))\n",
    "    return\n",
    "                                                                      \n",
    "get_date(test_game_dict)"
   ]
  },
  {
   "cell_type": "code",
   "execution_count": null,
   "id": "09746a9c-737f-446d-9682-db238e8f9d45",
   "metadata": {},
   "outputs": [],
   "source": [
    "def date_conversion(df):\n",
    "    dt_cols = [\"date\", \"start_time\", \"end_time\"]\n",
    "    for col in dt_cols:\n",
    "        df[col] = pd.to_datetime(df[col])\n",
    "    return df\n",
    "\n",
    "date_conversion(raw_data).dtypes"
   ]
  },
  {
   "cell_type": "code",
   "execution_count": null,
   "id": "99b8769e-013b-4dab-8537-20c5af1c00da",
   "metadata": {},
   "outputs": [],
   "source": [
    "date_converter = FunctionTransformer(date_conversion)\n",
    "\n",
    "clean_pipe = Pipeline([\n",
    "    #(\"json to dict\")\n",
    "    #(dict to pandas)\n",
    "    (\"date dtype\", date_converter)\n",
    "])"
   ]
  },
  {
   "cell_type": "code",
   "execution_count": null,
   "id": "dbdf75f7-053c-4591-a5a8-ed4b370e2442",
   "metadata": {},
   "outputs": [],
   "source": [
    "clean_pipe.fit_transform(raw_data).dtypes"
   ]
  },
  {
   "cell_type": "code",
   "execution_count": null,
   "id": "ff5b3bde-d6da-4e21-90ed-ec59bad5e769",
   "metadata": {},
   "outputs": [],
   "source": []
  },
  {
   "cell_type": "code",
   "execution_count": null,
   "id": "9df476cd-0790-4a1d-8f4a-ffb5eaa3fc2a",
   "metadata": {},
   "outputs": [],
   "source": [
    "test_data = [0,1,2,3,4,5]\n",
    "\n",
    "test_pipe = Pipeline([\n",
    "    (\"doubler\", FunctionTransformer(lambda x : x*2))\n",
    "])"
   ]
  },
  {
   "cell_type": "code",
   "execution_count": null,
   "id": "917d2b72-b9a1-4ec4-ab42-ec919da9d3b0",
   "metadata": {},
   "outputs": [],
   "source": [
    "test_pipe.fit_transform(test_data)"
   ]
  },
  {
   "cell_type": "markdown",
   "id": "8ddb0fee-e48a-42ed-a5e5-461ff90e307f",
   "metadata": {},
   "source": [
    "### create preproc pipeline\n",
    "\n",
    "add new columns"
   ]
  },
  {
   "cell_type": "code",
   "execution_count": null,
   "id": "78c4b5ee-43c1-4a41-a05f-6b4bdbfc11f9",
   "metadata": {},
   "outputs": [],
   "source": []
  },
  {
   "cell_type": "code",
   "execution_count": null,
   "id": "12004084-9260-4949-b17b-5cb1a2e793d0",
   "metadata": {},
   "outputs": [],
   "source": []
  },
  {
   "cell_type": "code",
   "execution_count": null,
   "id": "7f45f8cb-84f8-4e77-9a08-befef0061bc3",
   "metadata": {},
   "outputs": [],
   "source": []
  }
 ],
 "metadata": {
  "kernelspec": {
   "display_name": "Python 3 (ipykernel)",
   "language": "python",
   "name": "python3"
  },
  "language_info": {
   "codemirror_mode": {
    "name": "ipython",
    "version": 3
   },
   "file_extension": ".py",
   "mimetype": "text/x-python",
   "name": "python",
   "nbconvert_exporter": "python",
   "pygments_lexer": "ipython3",
   "version": "3.10.6"
  }
 },
 "nbformat": 4,
 "nbformat_minor": 5
}
