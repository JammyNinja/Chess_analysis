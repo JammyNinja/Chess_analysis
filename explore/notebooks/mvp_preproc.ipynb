{
 "cells": [
  {
   "cell_type": "markdown",
   "id": "63ad91c6-a7de-4a31-bea8-23589e824cfd",
   "metadata": {},
   "source": [
    "# Imports"
   ]
  },
  {
   "cell_type": "code",
   "execution_count": 1,
   "id": "a130cde2-64c2-4027-9e78-0befdf98c245",
   "metadata": {},
   "outputs": [],
   "source": [
    "import os\n",
    "import pandas as pd\n",
    "import datetime\n",
    "import re"
   ]
  },
  {
   "cell_type": "code",
   "execution_count": 2,
   "id": "899957c0-7992-4b15-8705-5f12f57d7709",
   "metadata": {},
   "outputs": [],
   "source": [
    "from sklearn.pipeline import Pipeline\n",
    "from sklearn.preprocessing import FunctionTransformer"
   ]
  },
  {
   "cell_type": "markdown",
   "id": "57eb63d2-b4fc-482c-a8fd-71f5ef474d87",
   "metadata": {},
   "source": [
    "## load sample raw data\n"
   ]
  },
  {
   "cell_type": "code",
   "execution_count": null,
   "id": "b4523e2e-fdc9-49d6-9a05-7fa0bb1f7b53",
   "metadata": {},
   "outputs": [
    {
     "data": {
      "text/plain": [
       "[{'url': 'https://www.chess.com/game/daily/437377841',\n",
       "  'pgn': '[Event \"Let\\'s Play\"]\\n[Site \"Chess.com\"]\\n[Date \"2022.10.12\"]\\n[Round \"-\"]\\n[White \"sylvainau\"]\\n[Black \"JammyNinja\"]\\n[Result \"0-1\"]\\n[CurrentPosition \"2r1k2r/pp3ppp/q7/4pb2/1b1P4/1P2B3/1P3PPP/K2R2NR w k - 7 21\"]\\n[Timezone \"UTC\"]\\n[ECO \"B10\"]\\n[ECOUrl \"https://www.chess.com/openings/Caro-Kann-Defense-Hillbilly-Attack-2...d5\"]\\n[UTCDate \"2022.10.12\"]\\n[UTCTime \"08:17:06\"]\\n[WhiteElo \"1298\"]\\n[BlackElo \"1461\"]\\n[TimeControl \"1/604800\"]\\n[Termination \"JammyNinja won by checkmate\"]\\n[StartTime \"08:17:06\"]\\n[EndDate \"2023.01.07\"]\\n[EndTime \"14:35:53\"]\\n[Link \"https://www.chess.com/game/daily/437377841\"]\\n\\n1. e4 {[%clk 0:56:50.2]} 1... c6 {[%clk 0:27:49.5]} 2. Bc4 {[%clk 0:07:35.1]} 2... d5 {[%clk 3:13:05.6]} 3. exd5 {[%clk 0:55:52.1]} 3... cxd5 {[%clk 9:10:15.2]} 4. Bb3 {[%clk 0:51:51.9]} 4... Nf6 {[%clk 1:04:14.9]} 5. d4 {[%clk 1:03:41.6]} 5... Nc6 {[%clk 6:14:14.9]} 6. Qe2 {[%clk 0:53:48.2]} 6... Nxd4 {[%clk 11:09:15.8]} 7. Qd3 {[%clk 8:11:08]} 7... e5 {[%clk 6:05:29.1]} 8. Bg5 {[%clk 10:21:24.6]} 8... Be6 {[%clk 7:29:11]} 9. Qe3 {[%clk 2:23:01.7]} 9... Qa5+ {[%clk 1:33:10]} 10. Nd2 {[%clk 0:56:24.5]} 10... Ne4 {[%clk 13:21:09.3]} 11. c3 {[%clk 1:10:22.2]} 11... Nxd2 {[%clk 4:23:22.9]} 12. Rd1 {[%clk 0:18:55.5]} 12... N2xb3 {[%clk 10:47:06.3]} 13. axb3 {[%clk 8:09:42.5]} 13... Nc2+ {[%clk 2:26:45.3]} 14. Ke2 {[%clk 24:31:48]} 14... Nxe3 {[%clk 8:45:07.3]} 15. Bxe3 {[%clk 3:20:53.4]} 15... Qb5+ {[%clk 10:43:56.6]} 16. Kd2 {[%clk 0:40:15.3]} 16... d4 {[%clk 7:00:40.7]} 17. cxd4 {[%clk 0:31:17.4]} 17... Bb4+ {[%clk 10:56:39.4]} 18. Kc1 {[%clk 0:18:05]} 18... Rc8+ {[%clk 10:39:06.1]} 19. Kb1 {[%clk 5:52:47.7]} 19... Bf5+ {[%clk 0:59:24.3]} 20. Ka1 {[%clk 0:07:18.8]} 20... Qa6# {[%clk 11:12:44.8]} 0-1\\n',\n",
       "  'time_control': '1/604800',\n",
       "  'end_time': 1673102153,\n",
       "  'rated': True,\n",
       "  'accuracies': {'white': 70.8, 'black': 94.2},\n",
       "  'tcn': 'mCYQfAZJCJQJAr!TlB5QdmQBmt0KcM6Stu7GblTCksCladlrirBkemkuMuGHmlJBsB9zlc46cbSLbaHO',\n",
       "  'uuid': '42d2c63a-4a06-11ed-9bf1-f0bebf01000b',\n",
       "  'initial_setup': '',\n",
       "  'fen': '2r1k2r/pp3ppp/q7/4pb2/1b1P4/1P2B3/1P3PPP/K2R2NR w k - 7 21',\n",
       "  'start_time': 1665562626,\n",
       "  'time_class': 'daily',\n",
       "  'rules': 'chess',\n",
       "  'white': {'rating': 1298,\n",
       "   'result': 'checkmated',\n",
       "   '@id': 'https://api.chess.com/pub/player/sylvainau',\n",
       "   'username': 'sylvainau',\n",
       "   'uuid': '7722f6b4-b316-11e0-803d-000000000000'},\n",
       "  'black': {'rating': 1461,\n",
       "   'result': 'win',\n",
       "   '@id': 'https://api.chess.com/pub/player/jammyninja',\n",
       "   'username': 'JammyNinja',\n",
       "   'uuid': 'da2a27ae-5020-11e0-8016-000000000000'},\n",
       "  'eco': 'https://www.chess.com/openings/Caro-Kann-Defense-Hillbilly-Attack-2...d5'}]"
      ]
     },
     "execution_count": 3,
     "metadata": {},
     "output_type": "execute_result"
    }
   ],
   "source": [
    "import pickle\n",
    "path_to_data = os.path.join(\"..\", \"data\")\n",
    "sample_fname = \"sample_raw.pkl\"\n",
    "\n",
    "with open(os.path.join(path_to_data, sample_fname), \"rb\") as file:\n",
    "    raw_data = pickle.load(file)\n",
    "\n",
    "raw_data[:1] #list of dict"
   ]
  },
  {
   "cell_type": "markdown",
   "id": "1d32d717-41a1-4339-8176-92108cf83a15",
   "metadata": {},
   "source": [
    "## create cleaning pipeline\n",
    "\n",
    "steps:\n",
    "- convert games from list/dict to pandas Series\n",
    "- convert dates to pd.datetimes"
   ]
  },
  {
   "cell_type": "code",
   "execution_count": null,
   "id": "e1eacbb3-8de4-42a8-a684-d1aab4ead947",
   "metadata": {},
   "outputs": [],
   "source": [
    "# .strftime('%d-%m-%Y')"
   ]
  },
  {
   "cell_type": "code",
   "execution_count": null,
   "id": "ee236b40-d065-40f0-a13a-07a46ce9d7e3",
   "metadata": {},
   "outputs": [],
   "source": [
    "test_game = raw_data[0]\n",
    "def extract_game_data(game, USERNAME = \"JammyNinja\"):\n",
    "    \"\"\"\n",
    "        converts a game as received from chess.com API JSON to pandas Series\n",
    "\n",
    "        try out the raw form at:\n",
    "            https://api.chess.com/pub/player/jammyninja/games/2023/01\n",
    "    \"\"\"\n",
    "    # display(game)\n",
    "    game_dict = {}\n",
    "\n",
    "    game_pgn = game[\"pgn\"]\n",
    "    game_dict[\"result\"] = game_pgn.split(\"}\")[-1].strip()\n",
    "    game_dict['time_control'] = game[\"time_control\"]\n",
    "    game_dict['time_class'] = game[\"time_class\"]\n",
    "    game_dict['rules'] = game[\"rules\"] #to exclude any chess960 or other that may have been played\n",
    "\n",
    "    #extract date from pgn 'date' field\n",
    "    date_pattern = r'\\[Date\\s+\"(\\d{4}.\\d{2}.\\d{2})\"\\]'\n",
    "    date_str = re.search(date_pattern, game_pgn).group(1)\n",
    "    game_dict['date'] = pd.to_datetime(date_str).strftime('%d/%m/%Y')\n",
    "\n",
    "    user_colour = \"white\" if game[\"white\"][\"username\"] == USERNAME else \"black\"\n",
    "    opp_colour = \"black\" if user_colour == \"white\" else \"white\" #used to save time below\n",
    "\n",
    "    game_dict[\"user_colour\"] = user_colour\n",
    "    game_dict['opp_username'] = game[opp_colour][\"username\"]\n",
    "\n",
    "    game_dict['user_rating'] = game[user_colour][\"rating\"]\n",
    "    game_dict['opp_rating'] = game[opp_colour][\"rating\"]\n",
    "\n",
    "    game_dict['user_result'] = game[user_colour][\"result\"]\n",
    "    game_dict['opp_result'] = game[opp_colour][\"result\"]\n",
    "\n",
    "    return game_dict\n",
    "\n",
    "test_game = extract_game_data(test_game)\n",
    "test_game"
   ]
  },
  {
   "cell_type": "code",
   "execution_count": null,
   "id": "09746a9c-737f-446d-9682-db238e8f9d45",
   "metadata": {},
   "outputs": [],
   "source": [
    "def type_conversion(df):\n",
    "    dt_cols = [\"date\"]\n",
    "    for col in dt_cols:\n",
    "        df[col] = pd.to_datetime(df[col], format='%d/%m/%Y')\n",
    "    return df\n",
    "type_conversion(pd.Series(test_game))"
   ]
  },
  {
   "cell_type": "code",
   "execution_count": null,
   "id": "db7d8299-708f-4817-bb4d-3b47ca551d54",
   "metadata": {},
   "outputs": [],
   "source": [
    "def games_to_pandas(raw_games_list):\n",
    "    clean_list = [extract_game_data(game) for game in raw_games_list]\n",
    "    return pd.DataFrame(clean_list)\n",
    "games_to_pandas(raw_data[:15])"
   ]
  },
  {
   "cell_type": "code",
   "execution_count": null,
   "id": "e5e4596c-35e0-45fb-aca4-33ebdda4cdf3",
   "metadata": {},
   "outputs": [],
   "source": [
    "clean_pipe = Pipeline([\n",
    "    (\"raw list to df\" , FunctionTransformer(games_to_pandas)),\n",
    "    (\"dtypes\", FunctionTransformer(type_conversion))\n",
    "])\n",
    "\n",
    "clean_data = clean_pipe.fit_transform(raw_data[:15])\n",
    "clean_data"
   ]
  },
  {
   "cell_type": "code",
   "execution_count": null,
   "id": "ff5b3bde-d6da-4e21-90ed-ec59bad5e769",
   "metadata": {},
   "outputs": [],
   "source": [
    "clean_data.dtypes"
   ]
  },
  {
   "cell_type": "code",
   "execution_count": null,
   "id": "1ada014b-1e88-4bb8-9772-18b619d42f28",
   "metadata": {},
   "outputs": [],
   "source": [
    "clean_pipe_fname = \"clean_pipeline.pkl\"\n",
    "clean_pipe_path = os.path.join(path_to_data, \"pipes\", clean_pipe_fname)\n",
    "with open(clean_pipe_path, \"wb\") as file:\n",
    "    pickle.dump(clean_pipe, file)"
   ]
  },
  {
   "cell_type": "code",
   "execution_count": null,
   "id": "d5a46700-27af-483c-b8f9-923f56ad9626",
   "metadata": {},
   "outputs": [],
   "source": [
    "pickle.dump(clean_pipe, open(clean_pipe_path, \"wb\"))"
   ]
  },
  {
   "cell_type": "code",
   "execution_count": null,
   "id": "dc348edb-b6e2-4fca-8a54-26bd4f4d1838",
   "metadata": {},
   "outputs": [],
   "source": [
    "test_clean_pipe = pickle.load(open(clean_pipe_path,\"rb\"))\n",
    "test_clean_pipe"
   ]
  },
  {
   "cell_type": "code",
   "execution_count": null,
   "id": "2f954e59-8a0b-4c02-951e-d56949952e4f",
   "metadata": {},
   "outputs": [],
   "source": [
    "test_clean_pipe.transform(raw_data)"
   ]
  },
  {
   "cell_type": "code",
   "execution_count": null,
   "id": "8e5eb325-2374-4ad3-8461-3cecdcab4341",
   "metadata": {},
   "outputs": [],
   "source": []
  },
  {
   "cell_type": "markdown",
   "id": "805b570e-efeb-4925-a26e-6941b9c0a3f8",
   "metadata": {},
   "source": [
    "### try importing from local scripts\n",
    "\n",
    "shipped notebook code out into public/back/api/src/preprocessing.py"
   ]
  },
  {
   "cell_type": "code",
   "execution_count": null,
   "id": "00c90eab-e04d-4f06-9934-0f71ef13c627",
   "metadata": {},
   "outputs": [],
   "source": [
    "! ls ../../public/back/api/src"
   ]
  },
  {
   "cell_type": "code",
   "execution_count": null,
   "id": "c37fab20-15cf-463a-bd4b-0ec3da2815c4",
   "metadata": {},
   "outputs": [],
   "source": [
    "import sys, os\n",
    "module_path = os.path.abspath(os.path.join('..','..','public','back','api'))\n",
    "if module_path not in sys.path:\n",
    "    src_path = os.path.join(module_path, \"src\")\n",
    "    if src_path not in sys.path:\n",
    "        sys.path.append(src_path)\n",
    "    display(sys.path)"
   ]
  },
  {
   "cell_type": "code",
   "execution_count": 171,
   "id": "4cb42cb8-5342-4659-8fe0-0b06a5948f9c",
   "metadata": {},
   "outputs": [],
   "source": [
    "from preprocessing import clean_raw_data"
   ]
  },
  {
   "cell_type": "code",
   "execution_count": 173,
   "id": "a4739f85-1d70-4634-845a-5680bcbd2d97",
   "metadata": {},
   "outputs": [],
   "source": [
    "clean_df = clean_raw_data()"
   ]
  },
  {
   "cell_type": "code",
   "execution_count": 175,
   "id": "ec935efc-7752-4f6a-8d79-200efa91c261",
   "metadata": {},
   "outputs": [
    {
     "data": {
      "text/plain": [
       "np.float64(1064.8798185941043)"
      ]
     },
     "execution_count": 175,
     "metadata": {},
     "output_type": "execute_result"
    }
   ],
   "source": [
    "clean_df.opp_rating.mean()"
   ]
  },
  {
   "cell_type": "markdown",
   "id": "8ddb0fee-e48a-42ed-a5e5-461ff90e307f",
   "metadata": {},
   "source": [
    "### create preproc pipeline\n",
    "\n",
    "add new columns"
   ]
  },
  {
   "cell_type": "code",
   "execution_count": null,
   "id": "78c4b5ee-43c1-4a41-a05f-6b4bdbfc11f9",
   "metadata": {},
   "outputs": [],
   "source": []
  },
  {
   "cell_type": "code",
   "execution_count": null,
   "id": "12004084-9260-4949-b17b-5cb1a2e793d0",
   "metadata": {},
   "outputs": [],
   "source": []
  },
  {
   "cell_type": "code",
   "execution_count": null,
   "id": "7f45f8cb-84f8-4e77-9a08-befef0061bc3",
   "metadata": {},
   "outputs": [],
   "source": []
  }
 ],
 "metadata": {
  "kernelspec": {
   "display_name": "chess_analysis",
   "language": "python",
   "name": "python3"
  },
  "language_info": {
   "codemirror_mode": {
    "name": "ipython",
    "version": 3
   },
   "file_extension": ".py",
   "mimetype": "text/x-python",
   "name": "python",
   "nbconvert_exporter": "python",
   "pygments_lexer": "ipython3",
   "version": "3.10.6"
  }
 },
 "nbformat": 4,
 "nbformat_minor": 5
}
