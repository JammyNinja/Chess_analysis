{
 "cells": [
  {
   "cell_type": "code",
   "execution_count": 32,
   "id": "a6d44cb7-8a1f-41cd-8b5b-e435fef1aa13",
   "metadata": {},
   "outputs": [
    {
     "name": "stdout",
     "output_type": "stream",
     "text": [
      "The autoreload extension is already loaded. To reload it, use:\n",
      "  %reload_ext autoreload\n"
     ]
    }
   ],
   "source": [
    "# import standard\n",
    "import numpy as np\n",
    "import pandas as pd\n",
    "import matplotlib.pyplot as plt\n",
    "import seaborn as sns\n",
    "\n",
    "# magic lines\n",
    "%load_ext autoreload\n",
    "%autoreload 2\n",
    "%matplotlib inline"
   ]
  },
  {
   "cell_type": "code",
   "execution_count": 33,
   "id": "235034f4-8992-439c-8c4d-fcbc9098f9b4",
   "metadata": {},
   "outputs": [
    {
     "data": {
      "text/plain": [
       "['/home/louis/code/lewagon/data/04-Decision-Science/01-Project-Setup/context-and-setup',\n",
       " '/home/louis/code/JammyNinja/Sandbox/chess_analysis/explore/notebooks',\n",
       " '/home/louis/.pyenv/versions/3.10.6/lib/python310.zip',\n",
       " '/home/louis/.pyenv/versions/3.10.6/lib/python3.10',\n",
       " '/home/louis/.pyenv/versions/3.10.6/lib/python3.10/lib-dynload',\n",
       " '',\n",
       " '/home/louis/.pyenv/versions/3.10.6/envs/chess_analysis/lib/python3.10/site-packages',\n",
       " '/home/louis/code/JammyNinja/Sandbox/chess_analysis/explore/scripts']"
      ]
     },
     "metadata": {},
     "output_type": "display_data"
    }
   ],
   "source": [
    "#import my scripts\n",
    "import sys, os\n",
    "module_path = os.path.abspath(os.path.join('..'))\n",
    "if module_path not in sys.path:\n",
    "    scripts_path = os.path.join(module_path, \"scripts\")\n",
    "    if scripts_path not in sys.path:\n",
    "        sys.path.append(scripts_path)\n",
    "    display(sys.path)\n",
    "   \n",
    "from data import get_data\n",
    "from preprocessing import preprocess, add_new_columns"
   ]
  },
  {
   "cell_type": "code",
   "execution_count": 40,
   "id": "3943b469-178a-4bc6-89ec-dad48fe7a226",
   "metadata": {},
   "outputs": [
    {
     "name": "stdout",
     "output_type": "stream",
     "text": [
      "Looking for all games of chess played on Chess.com by louis\n",
      "          between 2023-01 and 2025-01\n",
      "getting 2023/01\n",
      "getting 2023/02\n",
      "getting 2023/03\n",
      "getting 2023/04\n",
      "getting 2023/05\n",
      "getting 2023/06\n",
      "getting 2023/07\n",
      "getting 2023/08\n",
      "getting 2023/09\n",
      "getting 2023/10\n",
      "getting 2023/11\n",
      "getting 2023/12\n",
      "getting 2024/01\n",
      "getting 2024/02\n",
      "getting 2024/03\n",
      "getting 2024/04\n",
      "getting 2024/05\n",
      "getting 2024/06\n",
      "getting 2024/07\n",
      "getting 2024/08\n",
      "getting 2024/09\n",
      "getting 2024/10\n",
      "getting 2024/11\n",
      "getting 2024/12\n",
      "getting 2025/01\n",
      "Downloaded a total of 5924 games.\n",
      "file /home/louis/code/JammyNinja/Sandbox/chess_analysis/explore/data/all_games_2023-01_to_2025-01_raw.csv already exists, NOT saving!\n",
      "Created win/rating columns:\n",
      "- winner\n",
      "- user_colour\n",
      "- user_rating\n",
      "- user_rating_diff\n",
      "- user_result\n",
      "- opp_result\n",
      "Created moves columns:\n",
      "- move_numbers\n",
      "- white_moves\n",
      "- white_clock\n",
      "- black_moves\n",
      "- black_clock\n",
      "- w_cstl_side\n",
      "- w_cstl_move\n",
      "- b_cstl_side\n",
      "- b_cstl_move\n",
      "Created final position columns:\n",
      "- winner_ttl_pieces_count\n",
      "- loser_ttl_pieces_count\n",
      "- winner_pawns_count\n",
      "- loser_pawns_count\n",
      "- winner_pieces_only_count\n",
      "- loser_pieces_only_count\n",
      "- pieces_count_diff\n",
      "- pawns_count_diff\n",
      "- winner_material_ttl\n",
      "- loser_material_ttl\n",
      "- winner_pcs\n",
      "- loser_pcs\n",
      "Created castling columns:\n",
      "- user_castled\n",
      "- opp_castled\n",
      "\n",
      "Started with:\n",
      "- date\n",
      "- start_time\n",
      "- end_time\n",
      "- time_class\n",
      "- time_control\n",
      "- rated\n",
      "- rules\n",
      "- url\n",
      "- moves\n",
      "- final_position_fen\n",
      "- opening_code\n",
      "- opening_name\n",
      "- white_username\n",
      "- black_username\n",
      "- result\n",
      "- white_rating\n",
      "- black_rating\n",
      "- white_result\n",
      "- black_result\n",
      "You have excluded the following columns while re-ordering...\n",
      "- white_result\n",
      "- black_result\n",
      "Was that on purpose? 👀\n",
      "file /home/louis/code/JammyNinja/Sandbox/chess_analysis/explore/data/all_games_2023-01_to_2025-01_all_new_cols.csv already exists, NOT saving!\n"
     ]
    }
   ],
   "source": [
    "# uncomment to get fresh data, otherwise up to 12-01-2025 is below\n",
    "raw_data = get_data(df_name=\"all_games\", descriptor=\"all_cols\")\n",
    "df = preprocess(raw_data)"
   ]
  },
  {
   "cell_type": "code",
   "execution_count": 12,
   "id": "3428823e-76e4-4c98-8b3d-411e1a220006",
   "metadata": {},
   "outputs": [],
   "source": [
    "# fname = \"all_games_2023-01_to_2025-01_all_new_cols.csv\"\n",
    "# path = os.path.join(\"..\", \"data\", fname)\n",
    "# df = pd.read_csv(path)"
   ]
  },
  {
   "cell_type": "code",
   "execution_count": 41,
   "id": "8ee707f9-7832-4d84-9fae-b42b4f4c6ecf",
   "metadata": {},
   "outputs": [
    {
     "data": {
      "text/plain": [
       "0       checkmated\n",
       "1              win\n",
       "2          timeout\n",
       "3              win\n",
       "4           agreed\n",
       "           ...    \n",
       "5919    checkmated\n",
       "5920    checkmated\n",
       "5921    checkmated\n",
       "5922           win\n",
       "5923           win\n",
       "Name: opp_result, Length: 5924, dtype: object"
      ]
     },
     "execution_count": 41,
     "metadata": {},
     "output_type": "execute_result"
    }
   ],
   "source": [
    "df['opp_result']"
   ]
  },
  {
   "cell_type": "code",
   "execution_count": 15,
   "id": "4863ff7c-b210-4c59-b41c-69a90e206a27",
   "metadata": {},
   "outputs": [
    {
     "data": {
      "text/plain": [
       "Index(['date', 'start_time', 'end_time', 'time_class', 'time_control', 'rated',\n",
       "       'rules', 'url', 'moves', 'opening_code', 'opening_name',\n",
       "       'white_username', 'black_username', 'white_clock', 'black_clock',\n",
       "       'white_rating', 'black_rating', 'result', 'white_result',\n",
       "       'black_result', 'winner', 'user_win', 'user_colour', 'user_rating',\n",
       "       'user_rating_diff', 'higher_rated_colour', 'winner_rating_diff',\n",
       "       'move_numbers', 'white_moves', 'black_moves', 'w_cstl_side',\n",
       "       'w_cstl_move', 'b_cstl_side', 'b_cstl_move', 'user_castled',\n",
       "       'opp_castled', 'final_position_fen', 'winner_ttl_pieces_count',\n",
       "       'loser_ttl_pieces_count', 'winner_pawns_count', 'loser_pawns_count',\n",
       "       'winner_pieces_only_count', 'loser_pieces_only_count',\n",
       "       'pieces_count_diff', 'pawns_count_diff', 'winner_material_ttl',\n",
       "       'loser_material_ttl', 'winner_pcs', 'loser_pcs'],\n",
       "      dtype='object')"
      ]
     },
     "execution_count": 15,
     "metadata": {},
     "output_type": "execute_result"
    }
   ],
   "source": [
    "df.columns"
   ]
  },
  {
   "cell_type": "code",
   "execution_count": 43,
   "id": "822901c2-f224-45fc-99b6-69e45cb87eb7",
   "metadata": {
    "scrolled": true
   },
   "outputs": [],
   "source": [
    "#a pickle file would have remembered the datetimes...\n",
    "date_cols = ['date', 'start_time', 'end_time']\n",
    "for col in date_cols:\n",
    "    df[col] = pd.to_datetime(df[col])"
   ]
  },
  {
   "cell_type": "markdown",
   "id": "06e1e5a6-fef0-4aee-994a-ab2e5516dba4",
   "metadata": {},
   "source": [
    "### the 18/21 score was achieved on 12/1/25. It was 18/19 before the end. 1300->1400"
   ]
  },
  {
   "cell_type": "code",
   "execution_count": 44,
   "id": "b4ee2c29-48d2-4179-8129-688bc7f6043b",
   "metadata": {},
   "outputs": [],
   "source": [
    "streak_df = df.set_index(\"date\").loc[\"2025-01-12\"]"
   ]
  },
  {
   "cell_type": "code",
   "execution_count": 45,
   "id": "6854cb94-26e6-4e0f-9713-d2ee9712e859",
   "metadata": {},
   "outputs": [
    {
     "data": {
      "text/plain": [
       "Index(['start_time', 'end_time', 'time_class', 'time_control', 'rated',\n",
       "       'rules', 'url', 'moves', 'opening_code', 'opening_name',\n",
       "       'white_username', 'black_username', 'white_clock', 'black_clock',\n",
       "       'user_colour', 'user_rating', 'user_rating_diff', 'white_rating',\n",
       "       'black_rating', 'result', 'winner', 'user_result', 'opp_result',\n",
       "       'move_numbers', 'white_moves', 'black_moves', 'w_cstl_side',\n",
       "       'w_cstl_move', 'b_cstl_side', 'b_cstl_move', 'user_castled',\n",
       "       'opp_castled', 'final_position_fen', 'winner_ttl_pieces_count',\n",
       "       'loser_ttl_pieces_count', 'winner_pawns_count', 'loser_pawns_count',\n",
       "       'winner_pieces_only_count', 'loser_pieces_only_count',\n",
       "       'pieces_count_diff', 'pawns_count_diff', 'winner_material_ttl',\n",
       "       'loser_material_ttl', 'winner_pcs', 'loser_pcs'],\n",
       "      dtype='object')"
      ]
     },
     "execution_count": 45,
     "metadata": {},
     "output_type": "execute_result"
    }
   ],
   "source": [
    "streak_df.columns"
   ]
  },
  {
   "cell_type": "code",
   "execution_count": 62,
   "id": "4f2aaed9-f630-423e-b5f1-6c2b4a5d76e8",
   "metadata": {},
   "outputs": [
    {
     "data": {
      "image/png": "[encoded data removed]",
      "text/plain": [
       "<Figure size 640x480 with 1 Axes>"
      ]
     },
     "metadata": {},
     "output_type": "display_data"
    }
   ],
   "source": [
    "opp_results = streak_df.opp_result.value_counts()\n",
    "\n",
    "sns.barplot(opp_results)\n",
    "\n",
    "# plt.annotate(1,7,\"hi\")\n",
    "plt.title(\"Opponents results in my 21 games (3 of them beat me)\");\n",
    "plt.ylabel(\"number of games\")\n",
    "plt.xlabel(\"My opponents results\");"
   ]
  },
  {
   "cell_type": "code",
   "execution_count": null,
   "id": "6da9738f-594a-490a-b41d-5ed1833c37f3",
   "metadata": {},
   "outputs": [],
   "source": [
    "analysis_columns = [\n",
    "    'start_time','moves',\n",
    "    'white_result', 'black_result',\n",
    "    'opening_code', 'opening_name',\n",
    "    'white_clock', 'black_clock',\n",
    "    'white_rating', 'black_rating',\n",
    "    'user_colour', 'user_rating', 'user_rating_diff',\n",
    "    'user_castled', 'opp_castled', 'final_position_fen',\n",
    "]\n",
    "#I wish I had:\n",
    "#user_result column"
   ]
  }
 ],
 "metadata": {
  "kernelspec": {
   "display_name": "Python 3 (ipykernel)",
   "language": "python",
   "name": "python3"
  },
  "language_info": {
   "codemirror_mode": {
    "name": "ipython",
    "version": 3
   },
   "file_extension": ".py",
   "mimetype": "text/x-python",
   "name": "python",
   "nbconvert_exporter": "python",
   "pygments_lexer": "ipython3",
   "version": "3.10.6"
  }
 },
 "nbformat": 4,
 "nbformat_minor": 5
}
