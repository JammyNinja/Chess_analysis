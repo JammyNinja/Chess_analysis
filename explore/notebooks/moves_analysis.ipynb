{
 "cells": [
  {
   "cell_type": "code",
   "execution_count": 1,
   "id": "87a2c928-a710-4978-980c-20026a080d21",
   "metadata": {},
   "outputs": [],
   "source": [
    "# import standard\n",
    "import numpy as np\n",
    "import pandas as pd\n",
    "import matplotlib.pyplot as plt\n",
    "import seaborn as sns\n",
    "\n",
    "# magic lines\n",
    "%load_ext autoreload\n",
    "%autoreload 2\n",
    "%matplotlib inline"
   ]
  },
  {
   "cell_type": "code",
   "execution_count": 2,
   "id": "fc44e09e-49d9-4c4d-8fe6-ec16e5ba6c8d",
   "metadata": {},
   "outputs": [
    {
     "data": {
      "text/plain": [
       "['/home/louis/code/lewagon/data/04-Decision-Science/01-Project-Setup/context-and-setup',\n",
       " '/home/louis/code/JammyNinja/Sandbox/chess_analysis/explore/notebooks',\n",
       " '/home/louis/.pyenv/versions/3.10.6/lib/python310.zip',\n",
       " '/home/louis/.pyenv/versions/3.10.6/lib/python3.10',\n",
       " '/home/louis/.pyenv/versions/3.10.6/lib/python3.10/lib-dynload',\n",
       " '',\n",
       " '/home/louis/.pyenv/versions/3.10.6/envs/chess_analysis/lib/python3.10/site-packages',\n",
       " '/home/louis/code/JammyNinja/Sandbox/chess_analysis/explore/scripts']"
      ]
     },
     "metadata": {},
     "output_type": "display_data"
    }
   ],
   "source": [
    "#import my scripts\n",
    "import sys, os\n",
    "module_path = os.path.abspath(os.path.join('..'))\n",
    "if module_path not in sys.path:\n",
    "    scripts_path = os.path.join(module_path, \"scripts\")\n",
    "    if scripts_path not in sys.path:\n",
    "        sys.path.append(scripts_path)\n",
    "    display(sys.path)\n",
    "   \n",
    "from data import get_data\n",
    "from preprocessing import preprocess, add_new_columns"
   ]
  },
  {
   "cell_type": "code",
   "execution_count": 3,
   "id": "c41f26db-f880-46da-8c31-7228bc0cf2c1",
   "metadata": {},
   "outputs": [
    {
     "data": {
      "text/html": [
       "<div>\n",
       "<style scoped>\n",
       "    .dataframe tbody tr th:only-of-type {\n",
       "        vertical-align: middle;\n",
       "    }\n",
       "\n",
       "    .dataframe tbody tr th {\n",
       "        vertical-align: top;\n",
       "    }\n",
       "\n",
       "    .dataframe thead th {\n",
       "        text-align: right;\n",
       "    }\n",
       "</style>\n",
       "<table border=\"1\" class=\"dataframe\">\n",
       "  <thead>\n",
       "    <tr style=\"text-align: right;\">\n",
       "      <th></th>\n",
       "      <th>date</th>\n",
       "      <th>start_time</th>\n",
       "      <th>end_time</th>\n",
       "      <th>time_class</th>\n",
       "      <th>time_control</th>\n",
       "      <th>rated</th>\n",
       "      <th>rules</th>\n",
       "      <th>url</th>\n",
       "      <th>moves</th>\n",
       "      <th>opening_code</th>\n",
       "      <th>...</th>\n",
       "      <th>winner_pawns_count</th>\n",
       "      <th>loser_pawns_count</th>\n",
       "      <th>winner_pieces_only_count</th>\n",
       "      <th>loser_pieces_only_count</th>\n",
       "      <th>pieces_count_diff</th>\n",
       "      <th>pawns_count_diff</th>\n",
       "      <th>winner_material_ttl</th>\n",
       "      <th>loser_material_ttl</th>\n",
       "      <th>winner_pcs</th>\n",
       "      <th>loser_pcs</th>\n",
       "    </tr>\n",
       "  </thead>\n",
       "  <tbody>\n",
       "    <tr>\n",
       "      <th>0</th>\n",
       "      <td>2023-01-07</td>\n",
       "      <td>2023-01-07 08:17:06</td>\n",
       "      <td>2023-01-07 14:35:53</td>\n",
       "      <td>daily</td>\n",
       "      <td>1/604800</td>\n",
       "      <td>True</td>\n",
       "      <td>chess</td>\n",
       "      <td>https://www.chess.com/game/daily/437377841</td>\n",
       "      <td>1. e4 {[%clk 158:31:38] 1... c6 {[%clk 163:21:...</td>\n",
       "      <td>B10</td>\n",
       "      <td>...</td>\n",
       "      <td>6</td>\n",
       "      <td>6</td>\n",
       "      <td>5</td>\n",
       "      <td>4</td>\n",
       "      <td>1</td>\n",
       "      <td>0</td>\n",
       "      <td>31</td>\n",
       "      <td>22</td>\n",
       "      <td>['r', 'k', 'r', 'p', 'p', 'p', 'p', 'p', 'q', ...</td>\n",
       "      <td>['P', 'P', 'B', 'P', 'P', 'P', 'P', 'K', 'R', ...</td>\n",
       "    </tr>\n",
       "    <tr>\n",
       "      <th>1</th>\n",
       "      <td>2023-01-14</td>\n",
       "      <td>2023-01-14 11:34:48</td>\n",
       "      <td>2023-01-14 15:09:28</td>\n",
       "      <td>daily</td>\n",
       "      <td>1/604800</td>\n",
       "      <td>True</td>\n",
       "      <td>chess</td>\n",
       "      <td>https://www.chess.com/game/daily/448245095</td>\n",
       "      <td>1. e4 {[%clk 167:35:57] 1... c5 {[%clk 165:23:...</td>\n",
       "      <td>B22</td>\n",
       "      <td>...</td>\n",
       "      <td>5</td>\n",
       "      <td>6</td>\n",
       "      <td>6</td>\n",
       "      <td>6</td>\n",
       "      <td>0</td>\n",
       "      <td>-1</td>\n",
       "      <td>33</td>\n",
       "      <td>34</td>\n",
       "      <td>['r', 'q', 'r', 'b', 'b', 'p', 'k', 'p', 'p', ...</td>\n",
       "      <td>['B', 'Q', 'P', 'N', 'P', 'P', 'P', 'P', 'P', ...</td>\n",
       "    </tr>\n",
       "    <tr>\n",
       "      <th>2</th>\n",
       "      <td>2023-01-30</td>\n",
       "      <td>2023-01-30 17:32:36</td>\n",
       "      <td>2023-01-30 07:50:02</td>\n",
       "      <td>daily</td>\n",
       "      <td>1/604800</td>\n",
       "      <td>True</td>\n",
       "      <td>chess</td>\n",
       "      <td>https://www.chess.com/game/daily/436095119</td>\n",
       "      <td>1. e4 {[%clk 167:38:55] 1... c6 {[%clk 163:21:...</td>\n",
       "      <td>B10</td>\n",
       "      <td>...</td>\n",
       "      <td>7</td>\n",
       "      <td>7</td>\n",
       "      <td>3</td>\n",
       "      <td>3</td>\n",
       "      <td>0</td>\n",
       "      <td>0</td>\n",
       "      <td>20</td>\n",
       "      <td>20</td>\n",
       "      <td>['r', 'r', 'k', 'n', 'p', 'p', 'p', 'p', 'p', ...</td>\n",
       "      <td>['P', 'P', 'P', 'R', 'P', 'P', 'N', 'P', 'P', ...</td>\n",
       "    </tr>\n",
       "  </tbody>\n",
       "</table>\n",
       "<p>3 rows × 49 columns</p>\n",
       "</div>"
      ],
      "text/plain": [
       "         date           start_time             end_time time_class  \\\n",
       "0  2023-01-07  2023-01-07 08:17:06  2023-01-07 14:35:53      daily   \n",
       "1  2023-01-14  2023-01-14 11:34:48  2023-01-14 15:09:28      daily   \n",
       "2  2023-01-30  2023-01-30 17:32:36  2023-01-30 07:50:02      daily   \n",
       "\n",
       "  time_control  rated  rules                                         url  \\\n",
       "0     1/604800   True  chess  https://www.chess.com/game/daily/437377841   \n",
       "1     1/604800   True  chess  https://www.chess.com/game/daily/448245095   \n",
       "2     1/604800   True  chess  https://www.chess.com/game/daily/436095119   \n",
       "\n",
       "                                               moves opening_code  ...  \\\n",
       "0  1. e4 {[%clk 158:31:38] 1... c6 {[%clk 163:21:...          B10  ...   \n",
       "1  1. e4 {[%clk 167:35:57] 1... c5 {[%clk 165:23:...          B22  ...   \n",
       "2  1. e4 {[%clk 167:38:55] 1... c6 {[%clk 163:21:...          B10  ...   \n",
       "\n",
       "  winner_pawns_count loser_pawns_count winner_pieces_only_count  \\\n",
       "0                  6                 6                        5   \n",
       "1                  5                 6                        6   \n",
       "2                  7                 7                        3   \n",
       "\n",
       "  loser_pieces_only_count pieces_count_diff  pawns_count_diff  \\\n",
       "0                       4                 1                 0   \n",
       "1                       6                 0                -1   \n",
       "2                       3                 0                 0   \n",
       "\n",
       "   winner_material_ttl loser_material_ttl  \\\n",
       "0                   31                 22   \n",
       "1                   33                 34   \n",
       "2                   20                 20   \n",
       "\n",
       "                                          winner_pcs  \\\n",
       "0  ['r', 'k', 'r', 'p', 'p', 'p', 'p', 'p', 'q', ...   \n",
       "1  ['r', 'q', 'r', 'b', 'b', 'p', 'k', 'p', 'p', ...   \n",
       "2  ['r', 'r', 'k', 'n', 'p', 'p', 'p', 'p', 'p', ...   \n",
       "\n",
       "                                           loser_pcs  \n",
       "0  ['P', 'P', 'B', 'P', 'P', 'P', 'P', 'K', 'R', ...  \n",
       "1  ['B', 'Q', 'P', 'N', 'P', 'P', 'P', 'P', 'P', ...  \n",
       "2  ['P', 'P', 'P', 'R', 'P', 'P', 'N', 'P', 'P', ...  \n",
       "\n",
       "[3 rows x 49 columns]"
      ]
     },
     "execution_count": 3,
     "metadata": {},
     "output_type": "execute_result"
    }
   ],
   "source": [
    "fname = \"all_games_2023-01_to_2025-01_all_new_cols.csv\"\n",
    "path = os.path.join(\"..\", \"data\", fname)\n",
    "raw_df = pd.read_csv(path)\n",
    "raw_df.head(3)"
   ]
  },
  {
   "cell_type": "markdown",
   "id": "f14cc6a3-19a6-4bc2-904d-45726a3d3e59",
   "metadata": {},
   "source": []
  },
  {
   "cell_type": "markdown",
   "id": "98b02c5e-f960-4636-bfc5-1070c81994a2",
   "metadata": {},
   "source": [
    "# which piece do you move the most?"
   ]
  },
  {
   "cell_type": "code",
   "execution_count": 19,
   "id": "ec2a7454-af83-4a5b-9585-4b6dcd81ff50",
   "metadata": {},
   "outputs": [],
   "source": [
    "moves_cols = list(raw_df.columns[raw_df.columns.str.contains('moves')])\n",
    "moves_cols.append(\"user_colour\")"
   ]
  },
  {
   "cell_type": "code",
   "execution_count": 20,
   "id": "0a577482-3aec-4c68-b655-a3657a6927b4",
   "metadata": {},
   "outputs": [
    {
     "data": {
      "text/plain": [
       "Index(['date', 'start_time', 'end_time', 'time_class', 'time_control', 'rated',\n",
       "       'rules', 'url', 'moves', 'opening_code', 'opening_name',\n",
       "       'white_username', 'black_username', 'white_clock', 'black_clock',\n",
       "       'white_rating', 'black_rating', 'result', 'white_result',\n",
       "       'black_result', 'winner', 'user_win', 'user_colour', 'user_rating',\n",
       "       'user_rating_diff', 'higher_rated_colour', 'winner_rating_diff',\n",
       "       'move_numbers', 'white_moves', 'black_moves', 'w_cstl_side',\n",
       "       'w_cstl_move', 'b_cstl_side', 'b_cstl_move', 'user_castled',\n",
       "       'opp_castled', 'final_position_fen', 'winner_ttl_pieces_count',\n",
       "       'loser_ttl_pieces_count', 'winner_pawns_count', 'loser_pawns_count',\n",
       "       'winner_pieces_only_count', 'loser_pieces_only_count',\n",
       "       'pieces_count_diff', 'pawns_count_diff', 'winner_material_ttl',\n",
       "       'loser_material_ttl', 'winner_pcs', 'loser_pcs'],\n",
       "      dtype='object')"
      ]
     },
     "execution_count": 20,
     "metadata": {},
     "output_type": "execute_result"
    }
   ],
   "source": [
    "raw_df.columns"
   ]
  },
  {
   "cell_type": "code",
   "execution_count": 21,
   "id": "124f632e-cacd-4b2b-9924-94fbd3cf4e36",
   "metadata": {},
   "outputs": [
    {
     "data": {
      "text/html": [
       "<div>\n",
       "<style scoped>\n",
       "    .dataframe tbody tr th:only-of-type {\n",
       "        vertical-align: middle;\n",
       "    }\n",
       "\n",
       "    .dataframe tbody tr th {\n",
       "        vertical-align: top;\n",
       "    }\n",
       "\n",
       "    .dataframe thead th {\n",
       "        text-align: right;\n",
       "    }\n",
       "</style>\n",
       "<table border=\"1\" class=\"dataframe\">\n",
       "  <thead>\n",
       "    <tr style=\"text-align: right;\">\n",
       "      <th></th>\n",
       "      <th>moves</th>\n",
       "      <th>white_moves</th>\n",
       "      <th>black_moves</th>\n",
       "      <th>user_colour</th>\n",
       "    </tr>\n",
       "  </thead>\n",
       "  <tbody>\n",
       "    <tr>\n",
       "      <th>0</th>\n",
       "      <td>1. e4 {[%clk 158:31:38] 1... c6 {[%clk 163:21:...</td>\n",
       "      <td>['e4', 'Bc4', 'exd5', 'Bb3', 'd4', 'Qe2', 'Qd3...</td>\n",
       "      <td>['c6', 'd5', 'cxd5', 'Nf6', 'Nc6', 'Nxd4', 'e5...</td>\n",
       "      <td>black</td>\n",
       "    </tr>\n",
       "    <tr>\n",
       "      <th>1</th>\n",
       "      <td>1. e4 {[%clk 167:35:57] 1... c5 {[%clk 165:23:...</td>\n",
       "      <td>['e4', 'c3', 'd4', 'dxc5', 'cxd6', 'Bb5', 'Bf4...</td>\n",
       "      <td>['c5', 'Nc6', 'd6', 'b6', 'exd6', 'Bb7', 'Nf6'...</td>\n",
       "      <td>white</td>\n",
       "    </tr>\n",
       "    <tr>\n",
       "      <th>2</th>\n",
       "      <td>1. e4 {[%clk 167:38:55] 1... c6 {[%clk 163:21:...</td>\n",
       "      <td>['e4', 'Nf3', 'exd5', 'b3', 'h3', 'Qxf3', 'Bb5...</td>\n",
       "      <td>['c6', 'd5', 'cxd5', 'Bg4', 'Bxf3', 'e6', 'Nc6...</td>\n",
       "      <td>black</td>\n",
       "    </tr>\n",
       "    <tr>\n",
       "      <th>3</th>\n",
       "      <td>1. Nf3 {[%clk 0:04:54.9] 1... d5 {[%clk 0:04:5...</td>\n",
       "      <td>['Nf3', 'c4', 'e4', 'a4', 'axb5', 'Nc3', 'b3',...</td>\n",
       "      <td>['d5', 'dxc4', 'b5', 'Bd7', 'Bxb5', 'Ba6', 'cx...</td>\n",
       "      <td>black</td>\n",
       "    </tr>\n",
       "    <tr>\n",
       "      <th>4</th>\n",
       "      <td>1. c4 {[%clk 164:52:18] 1... e5 {[%clk 125:36:...</td>\n",
       "      <td>['c4', 'Nc3', 'f3']</td>\n",
       "      <td>['e5', 'Bc5', nan]</td>\n",
       "      <td>black</td>\n",
       "    </tr>\n",
       "    <tr>\n",
       "      <th>...</th>\n",
       "      <td>...</td>\n",
       "      <td>...</td>\n",
       "      <td>...</td>\n",
       "      <td>...</td>\n",
       "    </tr>\n",
       "    <tr>\n",
       "      <th>5919</th>\n",
       "      <td>1. e4 {[%clk 0:01:00] 1... e5 {[%clk 0:01:00] ...</td>\n",
       "      <td>['e4', 'Nc3', 'Bc4', 'Qf3', 'Nh3', 'd3', 'Bg5'...</td>\n",
       "      <td>['e5', 'Nc6', 'Bc5', 'Nf6', 'O-O', 'd6', 'Be6'...</td>\n",
       "      <td>white</td>\n",
       "    </tr>\n",
       "    <tr>\n",
       "      <th>5920</th>\n",
       "      <td>1. f4 {[%clk 0:01:00] 1... d5 {[%clk 0:01:00] ...</td>\n",
       "      <td>['f4', 'e4', 'd3', 'Nc3', 'Bd2', 'Nxe4', 'Qxd2...</td>\n",
       "      <td>['d5', 'dxe4', 'e6', 'Bb4', 'Nc6', 'Bxd2+', 'N...</td>\n",
       "      <td>black</td>\n",
       "    </tr>\n",
       "    <tr>\n",
       "      <th>5921</th>\n",
       "      <td>1. e4 {[%clk 0:01:00] 1... d5 {[%clk 0:01:00] ...</td>\n",
       "      <td>['e4', 'exd5', 'd4', 'Be3', 'c4', 'Nc3', 'Bd3'...</td>\n",
       "      <td>['d5', 'Qxd5', 'Qd8', 'Nf6', 'Bf5', 'e6', 'Bg6...</td>\n",
       "      <td>black</td>\n",
       "    </tr>\n",
       "    <tr>\n",
       "      <th>5922</th>\n",
       "      <td>1. e4 {[%clk 0:01:00] 1... d6 {[%clk 0:01:00] ...</td>\n",
       "      <td>['e4', 'd4', 'Nc3', 'Be3', 'Bd3', 'Nge2', 'h4'...</td>\n",
       "      <td>['d6', 'e6', 'Nd7', 'Be7', 'Ngf6', 'O-O', 'e5'...</td>\n",
       "      <td>white</td>\n",
       "    </tr>\n",
       "    <tr>\n",
       "      <th>5923</th>\n",
       "      <td>1. e4 {[%clk 0:01:00] 1... c6 {[%clk 0:01:00] ...</td>\n",
       "      <td>['e4', 'Nc3', 'e5', 'd4', 'Nf3', 'Be3', 'Bxd4'...</td>\n",
       "      <td>['c6', 'd5', 'Bf5', 'e6', 'c5', 'cxd4', 'Bb4',...</td>\n",
       "      <td>white</td>\n",
       "    </tr>\n",
       "  </tbody>\n",
       "</table>\n",
       "<p>5924 rows × 4 columns</p>\n",
       "</div>"
      ],
      "text/plain": [
       "                                                  moves  \\\n",
       "0     1. e4 {[%clk 158:31:38] 1... c6 {[%clk 163:21:...   \n",
       "1     1. e4 {[%clk 167:35:57] 1... c5 {[%clk 165:23:...   \n",
       "2     1. e4 {[%clk 167:38:55] 1... c6 {[%clk 163:21:...   \n",
       "3     1. Nf3 {[%clk 0:04:54.9] 1... d5 {[%clk 0:04:5...   \n",
       "4     1. c4 {[%clk 164:52:18] 1... e5 {[%clk 125:36:...   \n",
       "...                                                 ...   \n",
       "5919  1. e4 {[%clk 0:01:00] 1... e5 {[%clk 0:01:00] ...   \n",
       "5920  1. f4 {[%clk 0:01:00] 1... d5 {[%clk 0:01:00] ...   \n",
       "5921  1. e4 {[%clk 0:01:00] 1... d5 {[%clk 0:01:00] ...   \n",
       "5922  1. e4 {[%clk 0:01:00] 1... d6 {[%clk 0:01:00] ...   \n",
       "5923  1. e4 {[%clk 0:01:00] 1... c6 {[%clk 0:01:00] ...   \n",
       "\n",
       "                                            white_moves  \\\n",
       "0     ['e4', 'Bc4', 'exd5', 'Bb3', 'd4', 'Qe2', 'Qd3...   \n",
       "1     ['e4', 'c3', 'd4', 'dxc5', 'cxd6', 'Bb5', 'Bf4...   \n",
       "2     ['e4', 'Nf3', 'exd5', 'b3', 'h3', 'Qxf3', 'Bb5...   \n",
       "3     ['Nf3', 'c4', 'e4', 'a4', 'axb5', 'Nc3', 'b3',...   \n",
       "4                                   ['c4', 'Nc3', 'f3']   \n",
       "...                                                 ...   \n",
       "5919  ['e4', 'Nc3', 'Bc4', 'Qf3', 'Nh3', 'd3', 'Bg5'...   \n",
       "5920  ['f4', 'e4', 'd3', 'Nc3', 'Bd2', 'Nxe4', 'Qxd2...   \n",
       "5921  ['e4', 'exd5', 'd4', 'Be3', 'c4', 'Nc3', 'Bd3'...   \n",
       "5922  ['e4', 'd4', 'Nc3', 'Be3', 'Bd3', 'Nge2', 'h4'...   \n",
       "5923  ['e4', 'Nc3', 'e5', 'd4', 'Nf3', 'Be3', 'Bxd4'...   \n",
       "\n",
       "                                            black_moves user_colour  \n",
       "0     ['c6', 'd5', 'cxd5', 'Nf6', 'Nc6', 'Nxd4', 'e5...       black  \n",
       "1     ['c5', 'Nc6', 'd6', 'b6', 'exd6', 'Bb7', 'Nf6'...       white  \n",
       "2     ['c6', 'd5', 'cxd5', 'Bg4', 'Bxf3', 'e6', 'Nc6...       black  \n",
       "3     ['d5', 'dxc4', 'b5', 'Bd7', 'Bxb5', 'Ba6', 'cx...       black  \n",
       "4                                    ['e5', 'Bc5', nan]       black  \n",
       "...                                                 ...         ...  \n",
       "5919  ['e5', 'Nc6', 'Bc5', 'Nf6', 'O-O', 'd6', 'Be6'...       white  \n",
       "5920  ['d5', 'dxe4', 'e6', 'Bb4', 'Nc6', 'Bxd2+', 'N...       black  \n",
       "5921  ['d5', 'Qxd5', 'Qd8', 'Nf6', 'Bf5', 'e6', 'Bg6...       black  \n",
       "5922  ['d6', 'e6', 'Nd7', 'Be7', 'Ngf6', 'O-O', 'e5'...       white  \n",
       "5923  ['c6', 'd5', 'Bf5', 'e6', 'c5', 'cxd4', 'Bb4',...       white  \n",
       "\n",
       "[5924 rows x 4 columns]"
      ]
     },
     "execution_count": 21,
     "metadata": {},
     "output_type": "execute_result"
    }
   ],
   "source": [
    "raw_df[moves_cols]"
   ]
  },
  {
   "cell_type": "code",
   "execution_count": 25,
   "id": "c6e4307e-14ff-44eb-8137-bf138a912785",
   "metadata": {},
   "outputs": [],
   "source": [
    "df = raw_df.copy()\n",
    "\n",
    "def my_func(df):\n",
    "    return df['white_moves'] if df['user_colour'] == \"white\" else df['black_moves']\n",
    "    \n",
    "df['user_moves'] = df.apply(my_func, axis=1)"
   ]
  },
  {
   "cell_type": "code",
   "execution_count": 26,
   "id": "6cb9794c-d982-41b3-b784-be1d4eda50e1",
   "metadata": {},
   "outputs": [
    {
     "data": {
      "text/plain": [
       "0       ['c6', 'd5', 'cxd5', 'Nf6', 'Nc6', 'Nxd4', 'e5...\n",
       "1       ['e4', 'c3', 'd4', 'dxc5', 'cxd6', 'Bb5', 'Bf4...\n",
       "2       ['c6', 'd5', 'cxd5', 'Bg4', 'Bxf3', 'e6', 'Nc6...\n",
       "3       ['d5', 'dxc4', 'b5', 'Bd7', 'Bxb5', 'Ba6', 'cx...\n",
       "4                                      ['e5', 'Bc5', nan]\n",
       "                              ...                        \n",
       "5919    ['e4', 'Nc3', 'Bc4', 'Qf3', 'Nh3', 'd3', 'Bg5'...\n",
       "5920    ['d5', 'dxe4', 'e6', 'Bb4', 'Nc6', 'Bxd2+', 'N...\n",
       "5921    ['d5', 'Qxd5', 'Qd8', 'Nf6', 'Bf5', 'e6', 'Bg6...\n",
       "5922    ['e4', 'd4', 'Nc3', 'Be3', 'Bd3', 'Nge2', 'h4'...\n",
       "5923    ['e4', 'Nc3', 'e5', 'd4', 'Nf3', 'Be3', 'Bxd4'...\n",
       "Name: user_moves, Length: 5924, dtype: object"
      ]
     },
     "execution_count": 26,
     "metadata": {},
     "output_type": "execute_result"
    }
   ],
   "source": [
    "df['user_moves']"
   ]
  },
  {
   "cell_type": "code",
   "execution_count": 28,
   "id": "2507d142-5128-4273-b9af-b999c340d88f",
   "metadata": {},
   "outputs": [
    {
     "data": {
      "text/plain": [
       "'pawn'"
      ]
     },
     "execution_count": 28,
     "metadata": {},
     "output_type": "execute_result"
    }
   ],
   "source": [
    "piece_move_dict = {\n",
    "    \"N\" : \"knight\",\n",
    "    \"K\" : \"king\",\n",
    "    \"Q\" : \"queen\",\n",
    "    \"B\" : \"bishop\",\n",
    "    \"R\" : \"rook\",\n",
    "    \"\" : 'pawn'\n",
    "}\n",
    "piece_move_dict[\"\"]"
   ]
  },
  {
   "cell_type": "code",
   "execution_count": 45,
   "id": "9b36bac6-cbbd-4329-a5dd-1383411ce874",
   "metadata": {},
   "outputs": [],
   "source": [
    "import json"
   ]
  },
  {
   "cell_type": "code",
   "execution_count": null,
   "id": "ca2fb250-615f-49a7-a45f-8e7c31bb5e69",
   "metadata": {},
   "outputs": [],
   "source": [
    "def process_moves(moves):\n",
    "    srs_of_list_of_moves = moves.str.split(',')\n",
    "    "
   ]
  },
  {
   "cell_type": "code",
   "execution_count": 58,
   "id": "3de5b9ae-d651-4f7d-ac46-5e9b990e6da6",
   "metadata": {},
   "outputs": [
    {
     "name": "stdout",
     "output_type": "stream",
     "text": [
      "'c6\n",
      "'d5\n",
      "'cxd5\n",
      "'Nf6\n",
      "'Nc6\n",
      "'Nxd4\n",
      "'e5\n",
      "'Be6\n",
      "'Qa5+\n",
      "'Ne4\n",
      "'Nxd2\n",
      "'N2xb3\n",
      "'Nc2+\n",
      "'Nxe3\n",
      "'Qb5+\n",
      "'d4\n",
      "'Bb4+\n",
      "'Rc8+\n",
      "'Bf5+\n",
      "'Qa6#']\n"
     ]
    }
   ],
   "source": [
    "list_of_moves = df['user_moves'].str.split(',')#.apply(lambda x : x.strip(\"'\"))\n",
    "for move in list_of_moves[0]:\n",
    "    print(move.strip(\"'\")[1:])"
   ]
  },
  {
   "cell_type": "code",
   "execution_count": 29,
   "id": "8a8f9693-0c98-4db3-a1ed-ab90a3439a80",
   "metadata": {},
   "outputs": [
    {
     "ename": "AttributeError",
     "evalue": "'str' object has no attribute 'apply'",
     "output_type": "error",
     "traceback": [
      "\u001b[0;31m---------------------------------------------------------------------------\u001b[0m",
      "\u001b[0;31mAttributeError\u001b[0m                            Traceback (most recent call last)",
      "Cell \u001b[0;32mIn[29], line 9\u001b[0m\n\u001b[1;32m      7\u001b[0m         \u001b[38;5;28;01mreturn\u001b[39;00m move[\u001b[38;5;241m0\u001b[39m]\n\u001b[1;32m      8\u001b[0m test_moves \u001b[38;5;241m=\u001b[39m df[\u001b[38;5;124m'\u001b[39m\u001b[38;5;124muser_moves\u001b[39m\u001b[38;5;124m'\u001b[39m]\u001b[38;5;241m.\u001b[39miloc[\u001b[38;5;241m0\u001b[39m]\n\u001b[0;32m----> 9\u001b[0m \u001b[43mtest_moves\u001b[49m\u001b[38;5;241;43m.\u001b[39;49m\u001b[43mapply\u001b[49m(move_piece)\n",
      "\u001b[0;31mAttributeError\u001b[0m: 'str' object has no attribute 'apply'"
     ]
    }
   ],
   "source": [
    "def move_piece(move):\n",
    "    \"\"\"\n",
    "        converts a move (eg: 'Nxf5') to which piece was moved\n",
    "    \"\"\"\n",
    "\n",
    "    if move[0].isupper():\n",
    "        return move[0]\n",
    "test_moves = df['user_moves'].iloc[0]\n",
    "test_moves.apply(move_piece)"
   ]
  },
  {
   "cell_type": "code",
   "execution_count": null,
   "id": "185c2e3d-3c6f-4a2b-b278-0e63660f8cc1",
   "metadata": {},
   "outputs": [],
   "source": []
  },
  {
   "cell_type": "code",
   "execution_count": null,
   "id": "e3031043-f9bf-4f3e-a697-45fa2a033887",
   "metadata": {},
   "outputs": [],
   "source": []
  }
 ],
 "metadata": {
  "kernelspec": {
   "display_name": "Python 3 (ipykernel)",
   "language": "python",
   "name": "python3"
  },
  "language_info": {
   "codemirror_mode": {
    "name": "ipython",
    "version": 3
   },
   "file_extension": ".py",
   "mimetype": "text/x-python",
   "name": "python",
   "nbconvert_exporter": "python",
   "pygments_lexer": "ipython3",
   "version": "3.10.6"
  }
 },
 "nbformat": 4,
 "nbformat_minor": 5
}
