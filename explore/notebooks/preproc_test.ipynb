{
 "cells": [
  {
   "cell_type": "markdown",
   "id": "dc5745b9",
   "metadata": {},
   "source": [
    "# Imports"
   ]
  },
  {
   "cell_type": "code",
   "execution_count": 2,
   "id": "be53ec42",
   "metadata": {
    "ExecuteTime": {
     "end_time": "2025-03-18T19:13:50.853558Z",
     "start_time": "2025-03-18T19:13:50.813001Z"
    }
   },
   "outputs": [
    {
     "name": "stdout",
     "output_type": "stream",
     "text": [
      "The autoreload extension is already loaded. To reload it, use:\n",
      "  %reload_ext autoreload\n"
     ]
    }
   ],
   "source": [
    "#normal imports\n",
    "# standard imports\n",
    "import numpy as np\n",
    "import pandas as pd\n",
    "import matplotlib.pyplot as plt\n",
    "import seaborn as sns\n",
    "import os, sys\n",
    "\n",
    "# magic lines\n",
    "%load_ext autoreload\n",
    "%autoreload 2\n",
    "%matplotlib inline"
   ]
  },
  {
   "cell_type": "code",
   "execution_count": 3,
   "id": "2a3a65f2",
   "metadata": {
    "ExecuteTime": {
     "end_time": "2025-03-18T19:13:51.079915Z",
     "start_time": "2025-03-18T19:13:51.048579Z"
    }
   },
   "outputs": [],
   "source": [
    "import pickle"
   ]
  },
  {
   "cell_type": "code",
   "execution_count": 4,
   "id": "5082336d",
   "metadata": {
    "ExecuteTime": {
     "end_time": "2025-03-18T19:13:52.006715Z",
     "start_time": "2025-03-18T19:13:51.848397Z"
    }
   },
   "outputs": [
    {
     "name": "stdout",
     "output_type": "stream",
     "text": [
      "analysis.py  data.py  __init__.py  preprocessing.py  __pycache__\r\n"
     ]
    }
   ],
   "source": [
    "! ls ../../public/back/api/src"
   ]
  },
  {
   "cell_type": "code",
   "execution_count": 6,
   "id": "299b2823",
   "metadata": {
    "ExecuteTime": {
     "end_time": "2025-03-18T19:14:07.768061Z",
     "start_time": "2025-03-18T19:14:07.725984Z"
    }
   },
   "outputs": [
    {
     "data": {
      "text/plain": [
       "['/home/louis/code/lewagon/data/04-Decision-Science/01-Project-Setup/context-and-setup',\n",
       " '/home/louis/code/JammyNinja/Sandbox/chess_analysis/explore/notebooks',\n",
       " '/home/louis/.pyenv/versions/3.10.6/lib/python310.zip',\n",
       " '/home/louis/.pyenv/versions/3.10.6/lib/python3.10',\n",
       " '/home/louis/.pyenv/versions/3.10.6/lib/python3.10/lib-dynload',\n",
       " '',\n",
       " '/home/louis/.pyenv/versions/3.10.6/envs/chess_analysis/lib/python3.10/site-packages',\n",
       " '/home/louis/code/JammyNinja/Sandbox/chess_analysis/explore/scripts']"
      ]
     },
     "metadata": {},
     "output_type": "display_data"
    }
   ],
   "source": [
    "#import my scripts\n",
    "module_path = os.path.abspath(os.path.join('..')) #assumes you are in notebooks folder\n",
    "if module_path not in sys.path:\n",
    "    \n",
    "    #beware clash of names... ... . .. ... . ..\n",
    "    # prod_path = os.path.abspath(os.path.join(\"..\",\"..\",\"public\",\"back\", \"api\", \"src\"))\n",
    "    # if prod_path not in sys.path:\n",
    "    #     sys.path.append(prod_path)\n",
    "    \n",
    "    scripts_path = os.path.join(module_path, \"scripts\")\n",
    "    if scripts_path not in sys.path:\n",
    "        sys.path.append(scripts_path)\n",
    "    \n",
    "    display(sys.path)\n",
    "    \n",
    "#data for loading of data\n",
    "# from data import get_data\n",
    "# from preprocessing import main\n",
    "#preproc for cleaning + preproc of data\n",
    "# from preprocessing import create_clean_pipe\n",
    "import preprocessing"
   ]
  },
  {
   "cell_type": "code",
   "execution_count": 7,
   "id": "3a2518bd",
   "metadata": {
    "ExecuteTime": {
     "end_time": "2025-03-18T19:14:13.865634Z",
     "start_time": "2025-03-18T19:14:13.828694Z"
    }
   },
   "outputs": [
    {
     "data": {
      "text/plain": [
       "'/home/louis/code/JammyNinja/Sandbox/chess_analysis/explore/data'"
      ]
     },
     "execution_count": 7,
     "metadata": {},
     "output_type": "execute_result"
    }
   ],
   "source": [
    "path_to_data = os.path.join(os.path.dirname(os.getcwd()), \"data\")\n",
    "\n",
    "path_to_data"
   ]
  },
  {
   "cell_type": "code",
   "execution_count": 9,
   "id": "d2b848ac",
   "metadata": {
    "ExecuteTime": {
     "end_time": "2025-03-18T19:14:35.493112Z",
     "start_time": "2025-03-18T19:14:35.445372Z"
    }
   },
   "outputs": [
    {
     "ename": "ImportError",
     "evalue": "cannot import name 'games_to_pandas' from 'preprocessing' (/home/louis/code/JammyNinja/Sandbox/chess_analysis/explore/scripts/preprocessing.py)",
     "output_type": "error",
     "traceback": [
      "\u001b[0;31m---------------------------------------------------------------------------\u001b[0m",
      "\u001b[0;31mImportError\u001b[0m                               Traceback (most recent call last)",
      "Cell \u001b[0;32mIn[9], line 1\u001b[0m\n\u001b[0;32m----> 1\u001b[0m \u001b[38;5;28;01mfrom\u001b[39;00m \u001b[38;5;21;01mpreprocessing\u001b[39;00m \u001b[38;5;28;01mimport\u001b[39;00m games_to_pandas, type_conversion\n",
      "\u001b[0;31mImportError\u001b[0m: cannot import name 'games_to_pandas' from 'preprocessing' (/home/louis/code/JammyNinja/Sandbox/chess_analysis/explore/scripts/preprocessing.py)"
     ]
    }
   ],
   "source": [
    "from preprocessing import games_to_pandas, type_conversion"
   ]
  },
  {
   "cell_type": "markdown",
   "id": "3ef06450",
   "metadata": {},
   "source": [
    "## Mimic flow through app"
   ]
  },
  {
   "cell_type": "markdown",
   "id": "25d4e74f",
   "metadata": {},
   "source": [
    "### sample raw"
   ]
  },
  {
   "cell_type": "code",
   "execution_count": null,
   "id": "32fde6bd",
   "metadata": {
    "ExecuteTime": {
     "end_time": "2025-03-18T19:13:40.678086Z",
     "start_time": "2025-03-18T19:13:40.678062Z"
    }
   },
   "outputs": [],
   "source": [
    "path_to_data = os.path.join(\"..\", \"data\")\n",
    "sample_fname = \"sample_raw.pkl\"\n",
    "\n",
    "with open(os.path.join(path_to_data, sample_fname), \"rb\") as file:\n",
    "    raw_data = pickle.load(file)\n",
    "\n",
    "display(f\"{len(raw_data)} raw games loaded. Here's one:\", raw_data[1])"
   ]
  },
  {
   "cell_type": "markdown",
   "id": "09fce4b1",
   "metadata": {},
   "source": [
    "### Raw to dict"
   ]
  },
  {
   "cell_type": "code",
   "execution_count": null,
   "id": "5e6b799e",
   "metadata": {},
   "outputs": [],
   "source": []
  },
  {
   "cell_type": "markdown",
   "id": "9730ce0f",
   "metadata": {},
   "source": [
    "### dict to list"
   ]
  },
  {
   "cell_type": "code",
   "execution_count": null,
   "id": "470d39c7",
   "metadata": {},
   "outputs": [],
   "source": []
  },
  {
   "cell_type": "code",
   "execution_count": null,
   "id": "40ed7d28",
   "metadata": {},
   "outputs": [],
   "source": []
  }
 ],
 "metadata": {
  "kernelspec": {
   "display_name": "Python 3 (ipykernel)",
   "language": "python",
   "name": "python3"
  },
  "language_info": {
   "codemirror_mode": {
    "name": "ipython",
    "version": 3
   },
   "file_extension": ".py",
   "mimetype": "text/x-python",
   "name": "python",
   "nbconvert_exporter": "python",
   "pygments_lexer": "ipython3",
   "version": "3.10.6"
  },
  "toc": {
   "base_numbering": 1,
   "nav_menu": {},
   "number_sections": true,
   "sideBar": true,
   "skip_h1_title": false,
   "title_cell": "Table of Contents",
   "title_sidebar": "Contents",
   "toc_cell": false,
   "toc_position": {},
   "toc_section_display": true,
   "toc_window_display": false
  },
  "varInspector": {
   "cols": {
    "lenName": 16,
    "lenType": 16,
    "lenVar": 40
   },
   "kernels_config": {
    "python": {
     "delete_cmd_postfix": "",
     "delete_cmd_prefix": "del ",
     "library": "var_list.py",
     "varRefreshCmd": "print(var_dic_list())"
    },
    "r": {
     "delete_cmd_postfix": ") ",
     "delete_cmd_prefix": "rm(",
     "library": "var_list.r",
     "varRefreshCmd": "cat(var_dic_list()) "
    }
   },
   "types_to_exclude": [
    "module",
    "function",
    "builtin_function_or_method",
    "instance",
    "_Feature"
   ],
   "window_display": false
  }
 },
 "nbformat": 4,
 "nbformat_minor": 5
}
